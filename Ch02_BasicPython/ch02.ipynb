{
 "cells": [
  {
   "cell_type": "code",
   "execution_count": 1,
   "metadata": {},
   "outputs": [
    {
     "name": "stdout",
     "output_type": "stream",
     "text": [
      "100\n",
      "999.99\n",
      "Hello,world\n",
      "http://www.gduf.edu.cn\n"
     ]
    }
   ],
   "source": [
    "anInteger  = 100\t\t\t# 一个整型数\n",
    "aFloat  = 999.99\t\t\t# 一个浮点数\n",
    "aString  = 'Hello,world' \t\t# 一个字符串\n",
    "aUrl  = 'http://www.gduf.edu.cn'\t# 一个字符串\n",
    "\n",
    "print (anInteger)\n",
    "print (aFloat)\n",
    "print (aString)\n",
    "print (aUrl)"
   ]
  },
  {
   "cell_type": "code",
   "execution_count": 2,
   "metadata": {},
   "outputs": [
    {
     "name": "stdout",
     "output_type": "stream",
     "text": [
      "1 1 1\n",
      "x= 10 y= 20 z= hoffman\n"
     ]
    }
   ],
   "source": [
    "a = b = c = 1\n",
    "x, y, z = 10, 20, 'hoffman'\n",
    "print(a,b,c)\n",
    "print('x=',x,'y=',y,'z=',z)"
   ]
  },
  {
   "cell_type": "code",
   "execution_count": 3,
   "metadata": {},
   "outputs": [
    {
     "name": "stdout",
     "output_type": "stream",
     "text": [
      "str1 = www.gduf.edu.cn\n",
      "str1[0] = w\n",
      "str1[4:7])= gdu\n",
      "str1[4:] =  gduf.edu.cn\n",
      "str1[-1] =  n\n",
      "str1 * 2 =  www.gduf.edu.cnwww.gduf.edu.cn\n",
      "str1 + \"TEST\" = \" www.gduf.edu.cnTEST\n"
     ]
    }
   ],
   "source": [
    "str1 = 'www.gduf.edu.cn'\n",
    "print('str1 =',str1)             # 输出整个字符串\n",
    "print('str1[0] =',str1[0])        # 输出第0号字符，索引从0开始\n",
    "print('str1[4:7])=',str1[4:7])     # 输出第4,5,6号字符, 索引从0开始\n",
    "print('str1[4:] = ',str1[4:])      # 输出从第4号字符开始的所有字符\n",
    "print('str1[-1] = ',str1[-1])      # 输出最后一个字符\n",
    "print('str1 * 2 = ',str1 * 2)      # 输出两次\n",
    "print('str1 + \"TEST\" = \"',str1 + 'TEST') # 输出拼接字符串,注意单引号和双引号"
   ]
  },
  {
   "cell_type": "code",
   "execution_count": 4,
   "metadata": {},
   "outputs": [
    {
     "name": "stdout",
     "output_type": "stream",
     "text": [
      "list1 =  ['yes', 'no', 786, 2.23, 'hoffman', 70.2]\n",
      "list1[0] =  yes\n",
      "list1[1:3] =  ['no', 786]\n",
      "list1[2:] =  [786, 2.23, 'hoffman', 70.2]\n",
      "list1[-3:-1] =  [2.23, 'hoffman']\n",
      "tinylist1 * 2 =  [100, 'hoffman', 100, 'hoffman']\n",
      "list1 + tinylist1 =  ['yes', 'no', 786, 2.23, 'hoffman', 70.2, 100, 'hoffman']\n"
     ]
    }
   ],
   "source": [
    "list1 = [ 'yes', 'no', 786 , 2.23, 'hoffman', 70.2 ]\n",
    "tinylist1 = [100, 'hoffman']\n",
    "\n",
    "print('list1 = ', list1)            # 输出完整列表\n",
    "print('list1[0] = ',list1[0])       # 输出列表第1号元素。索引从0开始\n",
    "print('list1[1:3] = ',list1[1:3])   # 输出第2-3号元素 \n",
    "print('list1[2:] = ',list1[2:])      # 输出从第3号元素开始的所有元素\n",
    "print('list1[-3:-1] = ',list1[-3:-1]) # 输出倒数第3号和倒数第2号元素\n",
    "print('tinylist1 * 2 = ',tinylist1 * 2)  # 输出列表两次\n",
    "print('list1 + tinylist1 = ', list1 + tinylist1) # 输出连接列表"
   ]
  },
  {
   "cell_type": "code",
   "execution_count": 5,
   "metadata": {},
   "outputs": [
    {
     "name": "stdout",
     "output_type": "stream",
     "text": [
      "tuple1 =  ('hoffman', 786, 2.23, 'gduf', 70.2)\n",
      "tuple1[0] =  hoffman\n",
      "tuple1[1:3] =  (786, 2.23)\n",
      "tuple1[-3:-1] =  (2.23, 'gduf')\n",
      "tuple1[2:] =  (2.23, 'gduf', 70.2)\n",
      "tinytuple1 * 2 =  (999.0, 'hoffman', 999.0, 'hoffman')\n",
      "tuple1 + tinytuple =  ('hoffman', 786, 2.23, 'gduf', 70.2, 999.0, 'hoffman')\n"
     ]
    }
   ],
   "source": [
    "tuple1 = ( 'hoffman', 786 , 2.23, 'gduf', 70.2  )\n",
    "tinytuple1 = (999.0, 'hoffman')\n",
    "\n",
    "# tuple1[1] = 'new item value' 不能这样赋值\n",
    "print('tuple1 = ', tuple1)                 # 输出整个元组\n",
    "print('tuple1[0] = ', tuple1[0])          #输出元组第1号元素。索引从0开始\n",
    "print('tuple1[1:3] = ', tuple1[1:3])      #输出第2-3号元素 \n",
    "print('tuple1[-3:-1] = ', tuple1[-3:-1])  #输出倒数第3号和倒数第2号元素\n",
    "print('tuple1[2:] = ', tuple1[2:])         #输出从第3号元素开始的所有元素\n",
    "print('tinytuple1 * 2 = ',tinytuple1 * 2)  # 输出元组两次\n",
    "print('tuple1 + tinytuple = ', tuple1 + tinytuple1) # 输出连接元组"
   ]
  },
  {
   "cell_type": "code",
   "execution_count": 6,
   "metadata": {},
   "outputs": [
    {
     "name": "stdout",
     "output_type": "stream",
     "text": [
      "dict1[\"one\"] = This is one\n",
      "dict1[2] =  This is my\n",
      "tinydict1 =  {'C': 'Kernighan&Ritchie', 'C++': 'B.Stroustrup', 'Python': 'Guido Van Rossum'}\n",
      "\n",
      "tinydict1.keys() =  dict_keys(['C', 'C++', 'Python'])\n",
      "\n",
      "tinydict1.values() =  dict_values(['Kernighan&Ritchie', 'B.Stroustrup', 'Guido Van Rossum'])\n",
      "\n",
      "C \t Kernighan&Ritchie\n",
      "C++ \t B.Stroustrup\n",
      "Python \t Guido Van Rossum\n"
     ]
    }
   ],
   "source": [
    "dict1 = {}\n",
    "dict1['one'] = 'This is one'\n",
    "dict1[2]     = 'This is my'\n",
    "\n",
    "tinydict1 = {'C': 'Kernighan&Ritchie', 'C++' : 'B.Stroustrup', 'Python':'Guido Van Rossum'}\n",
    "\n",
    "print('dict1[\"one\"] =' , dict1['one'])  # 输出键’one’的值，注意单双引号\n",
    "print('dict1[2] = ', dict1[2])          #输出键2的值\n",
    "print('tinydict1 = ', tinydict1)        # 输出整个字典\n",
    "print()\n",
    "print('tinydict1.keys() = ', tinydict1.keys())   # 输出所有的键\n",
    "print()\n",
    "print('tinydict1.values() = ', tinydict1.values()) # 输出所有的值\n",
    "print()\n",
    "for devlang in tinydict1:             #遍历输出所有键值对，参看下节循环语句\n",
    "    print(devlang,'\\t',tinydict1[devlang])"
   ]
  },
  {
   "cell_type": "code",
   "execution_count": 7,
   "metadata": {},
   "outputs": [
    {
     "name": "stdout",
     "output_type": "stream",
     "text": [
      "59\n",
      "You failed!\n"
     ]
    }
   ],
   "source": [
    "#Python键盘输入默认为字符串，需要转换成整型做下一步的比较\n",
    "grade =int(input())  \n",
    "if (grade<60):         #注意本行末尾的冒号与下行行首缩进\n",
    "    print('You failed!')"
   ]
  },
  {
   "cell_type": "code",
   "execution_count": 8,
   "metadata": {},
   "outputs": [
    {
     "name": "stdout",
     "output_type": "stream",
     "text": [
      "71\n",
      "You passed!\n"
     ]
    }
   ],
   "source": [
    "#Python键盘输入默认为字符串，需要转换成整型做下一步的比较\n",
    "grade =int(input())  \n",
    "if(grade<60):         #注意本行末尾的冒号与下行行首缩进\n",
    "    print('You failed!')\n",
    "else:                  #注意else与if对齐\n",
    "    print('You passed!')"
   ]
  },
  {
   "cell_type": "code",
   "execution_count": 9,
   "metadata": {},
   "outputs": [
    {
     "name": "stdout",
     "output_type": "stream",
     "text": [
      "71\n",
      "Middle!\n"
     ]
    }
   ],
   "source": [
    "#Python键盘输入默认为字符串，需要转换成整型做下一步的比较\n",
    "grade =int(input())  \n",
    "if(grade>=90):         #注意本行末尾的冒号与下行行首缩进\n",
    "    print('Exellent')\n",
    "elif(grade>=80):                  #注意elif与if对齐\n",
    "    print(''\"Good!\")\n",
    "elif(grade>=70):                  #注意elif与if对齐\n",
    "    print('Middle!')\n",
    "elif(grade>=60):                  #注意elif与if对齐\n",
    "    print('Passed!')\n",
    "else:                             #注意最后使用else，并与if对其\n",
    "    print('Failed')"
   ]
  },
  {
   "cell_type": "code",
   "execution_count": 10,
   "metadata": {},
   "outputs": [
    {
     "name": "stdout",
     "output_type": "stream",
     "text": [
      "The sum from 1 to 100 is:  5050\n"
     ]
    }
   ],
   "source": [
    "n=1\n",
    "s=0\n",
    "while(n<=100):        #注意冒号与后续语句缩进\n",
    "    s=s+n\n",
    "    n=n+1\n",
    "print('The sum from 1 to 100 is: ',s)"
   ]
  },
  {
   "cell_type": "code",
   "execution_count": 11,
   "metadata": {},
   "outputs": [
    {
     "name": "stdout",
     "output_type": "stream",
     "text": [
      "1\n",
      "2\n",
      "3\n",
      "4\n",
      "5\n"
     ]
    }
   ],
   "source": [
    "list1=[1,2,3,4,5]          #方括号内表示是一个列表数据类型\n",
    "for x in list1:          #注意冒号与后续语句缩进\n",
    "    print(x)"
   ]
  },
  {
   "cell_type": "code",
   "execution_count": 12,
   "metadata": {},
   "outputs": [
    {
     "name": "stdout",
     "output_type": "stream",
     "text": [
      "1\n",
      "2\n",
      "3\n",
      "4\n",
      "for循环结束\n"
     ]
    }
   ],
   "source": [
    "for i in range(1, 5):    #请注意其起止范围\n",
    "    print(i)\n",
    "else:                    #else与for配合使用\n",
    "    print('for循环结束')"
   ]
  },
  {
   "cell_type": "code",
   "execution_count": 13,
   "metadata": {},
   "outputs": [
    {
     "name": "stdout",
     "output_type": "stream",
     "text": [
      "请输入数据(当输入-1时结束):1\n",
      "请输入数据(当输入-1时结束):2\n",
      "请输入数据(当输入-1时结束):5\n",
      "请输入数据(当输入-1时结束):6\n",
      "请输入数据(当输入-1时结束):-1\n",
      "[1, 2, 5, 6]\n"
     ]
    }
   ],
   "source": [
    "list2=[]          #定义一个空的列表list2\n",
    "while  True:\n",
    "    x=int(input('请输入数据(当输入-1时结束):'))\n",
    "    if(x==-1):\n",
    "        break        #当输入-1时则跳出循环\n",
    "    else:\n",
    "        list2=list2+[x]    #对于列表来说，+运算表示在末尾添加x元素\n",
    "print(list2)"
   ]
  },
  {
   "cell_type": "code",
   "execution_count": 14,
   "metadata": {},
   "outputs": [
    {
     "name": "stdout",
     "output_type": "stream",
     "text": [
      "2\n",
      "4\n",
      "6\n",
      "8\n",
      "10\n"
     ]
    }
   ],
   "source": [
    "i=0\n",
    "while (i<=10):\n",
    "    i=i+1\n",
    "    if  i%2!=0: #如果i是奇数，则continue,跳至while语句，不执行后面的print\n",
    "        continue   \n",
    "    print(i)    #输出i，注意此语句的缩进与上面的if对齐，表示其仍在while内"
   ]
  },
  {
   "cell_type": "code",
   "execution_count": 15,
   "metadata": {},
   "outputs": [
    {
     "name": "stdout",
     "output_type": "stream",
     "text": [
      "列表A：\n",
      "['a', 'b', 'c', 'd', 'e']\n",
      "列表B：\n",
      "['a', 'e', 'g', 'h', 'c']\n",
      "其中公共元素：\n",
      "['a', 'c', 'e']\n",
      "其中非公共元素：\n",
      "['b', 'd', 'g', 'h']\n"
     ]
    }
   ],
   "source": [
    "#查找两个列表list1和list2中公共元素的函数findCommon\n",
    "#参数：list1，list12-List列表，用于查找公共元素的两个列表\n",
    "#返回值：found-List列表，list1和list2中公共元素组成的列表\n",
    "def  findCommon(list1,list2): \n",
    "    found=[]\n",
    "    for x in list1:\n",
    "        if x in list2:\n",
    "            found.append(x)\n",
    "    return found\n",
    "\n",
    "#查找两个列表list1和list2中非公共元素的函数findNotCommon\n",
    "#参数：list1，list12-List列表，用于查找非公共元素的两个列表\n",
    "#返回值：found-List列表，查找结果\n",
    "def  findNotCommon(list1,list2): #定义查找列表x和y中非公共元素的函数findNotCommon\n",
    "    found=[]\n",
    "    for x in list1:\n",
    "        if x not in list2:       #请注意此处not in用法，这是Python独有的\n",
    "            found.append(x)\n",
    "    for x in list2:\n",
    "        if x not in list1:\n",
    "            found.append(x)\n",
    "    return found\n",
    "\n",
    "#函数调用\n",
    "listA=['a','b','c','d','e']\n",
    "listB=['a','e','g','h','c']\n",
    "print('列表A：')\n",
    "print(listA)\n",
    "print('列表B：')\n",
    "print(listB)\n",
    "print('其中公共元素：')\n",
    "print(findCommon(listA,listB))\n",
    "print('其中非公共元素：')\n",
    "print(findNotCommon(listA,listB))"
   ]
  },
  {
   "cell_type": "code",
   "execution_count": 16,
   "metadata": {},
   "outputs": [
    {
     "name": "stdout",
     "output_type": "stream",
     "text": [
      "平均分= 80.6\n",
      "name1 张三\n",
      "name2 李四\n",
      "name3 王五\n"
     ]
    }
   ],
   "source": [
    "#接收元组数据进行处理的函数 funcTuplePara\n",
    "#参数：  *dataset-Tuple元组，传入元组数据\n",
    "#返回值：sum/count-数值，传入数据的平均分\n",
    "def  funcTuplePara(*dataset):\n",
    "    sum=0\n",
    "    count=0\n",
    "    for  d in  dataset:\n",
    "        sum = sum +d\n",
    "        count = count+1\n",
    "    return  sum/count\n",
    "\n",
    "dataset=(75,85,65,88,90)\n",
    "print('平均分=', funcTuplePara(*dataset))\n",
    "\n",
    "#接收字典数据进行处理的函数 funcDictPara\n",
    "#参数：  **data-Dict字典，传入字典数据\n",
    "#返回值：无\n",
    "def  funcDictPara(**data):  # **可传递字典参数\n",
    "   for  x  in  data:\n",
    "      print  (x,  data[x])\n",
    "\n",
    "funcDictPara(name1='张三',name2='李四',name3='王五')"
   ]
  },
  {
   "cell_type": "code",
   "execution_count": 17,
   "metadata": {},
   "outputs": [
    {
     "name": "stdout",
     "output_type": "stream",
     "text": [
      "在fieldtest函数外:\n",
      "globalA= 10 ,globalX= 20\n",
      "在 fieldtest内部:\n",
      "globalA =  20 ,globalX =  40\n",
      "调用fieldtest后, 在fieldtest函数外:\n",
      "globalA= 20 ,globalX= 20\n"
     ]
    }
   ],
   "source": [
    "globalA=10          #全局变量globalA\n",
    "globalX=20          #全局变量globalX\n",
    "\n",
    "def  fieldtest(globalX):\n",
    "    global  globalA        # global说明要使用全局变量globalA\n",
    "    globalA=globalA+10     #此处对globalA的修改是修改全局变量globalA\n",
    "    globalX= globalX +20 #此处globalX是局部变量,修改不会作用到函数外的全局变量\n",
    "    print('在 fieldtest内部:')\n",
    "    print('globalA = ',globalA,',globalX = ',globalX)\n",
    "   \n",
    "print('在fieldtest函数外:')\n",
    "print('globalA=',globalA,',globalX=',globalX)   \n",
    "fieldtest(globalX)\n",
    "print('调用fieldtest后, 在fieldtest函数外:')\n",
    "print('globalA=',globalA,',globalX=',globalX)  "
   ]
  },
  {
   "cell_type": "code",
   "execution_count": 18,
   "metadata": {},
   "outputs": [
    {
     "data": {
      "text/plain": [
       "['C:\\\\Users\\\\houfang\\\\OneDrive\\\\GitHub\\\\PythonDataMiningonFinance\\\\Ch02_BasicPython',\n",
       " 'C:\\\\Users\\\\houfang\\\\Miniconda3\\\\python37.zip',\n",
       " 'C:\\\\Users\\\\houfang\\\\Miniconda3\\\\DLLs',\n",
       " 'C:\\\\Users\\\\houfang\\\\Miniconda3\\\\lib',\n",
       " 'C:\\\\Users\\\\houfang\\\\Miniconda3',\n",
       " '',\n",
       " 'C:\\\\Users\\\\houfang\\\\Miniconda3\\\\lib\\\\site-packages',\n",
       " 'C:\\\\Users\\\\houfang\\\\Miniconda3\\\\lib\\\\site-packages\\\\win32',\n",
       " 'C:\\\\Users\\\\houfang\\\\Miniconda3\\\\lib\\\\site-packages\\\\win32\\\\lib',\n",
       " 'C:\\\\Users\\\\houfang\\\\Miniconda3\\\\lib\\\\site-packages\\\\Pythonwin',\n",
       " 'C:\\\\Users\\\\houfang\\\\Miniconda3\\\\lib\\\\site-packages\\\\IPython\\\\extensions',\n",
       " 'C:\\\\Users\\\\houfang\\\\.ipython']"
      ]
     },
     "execution_count": 18,
     "metadata": {},
     "output_type": "execute_result"
    }
   ],
   "source": [
    "import sys\n",
    "sys.path"
   ]
  },
  {
   "cell_type": "code",
   "execution_count": 19,
   "metadata": {},
   "outputs": [
    {
     "name": "stdout",
     "output_type": "stream",
     "text": [
      "pi= 3.141592653589793\n",
      "e= 2.718281828459045\n",
      "e^9= 8103.083927575384\n",
      "√9= 3.0\n",
      "sin(pi)= 1.2246467991473532e-16\n",
      "con(pi)= -1.0\n"
     ]
    }
   ],
   "source": [
    "import  math\n",
    "print('pi=',math.pi)      # 用模块名.函数名的形式调用,数学常量 pi\n",
    "print('e=',math.e)      #数学常量 e\n",
    "print('e^9=',math.exp(9))      # e 的 9次幂\n",
    "print('√9=',math.sqrt(9))     #求平方根\n",
    "print('sin(pi)=',math.sin(math.pi))  #求正弦\n",
    "print('con(pi)=',math.cos(math.pi)) #求余弦\n",
    "#print(sqrt(9))       #会出错，前面应加math.模块名"
   ]
  },
  {
   "cell_type": "code",
   "execution_count": 20,
   "metadata": {},
   "outputs": [
    {
     "name": "stdout",
     "output_type": "stream",
     "text": [
      "√2= 1.4142135623730951\n",
      "C:\\Users\\houfang\\OneDrive\\GitHub\\PythonDataMiningonFinance\\Ch02_BasicPython\n"
     ]
    }
   ],
   "source": [
    "#从某个模块导入某个特定函数\n",
    "from  math  import  sqrt\n",
    "print('√2=',sqrt(2))        #此格式可以直接用函数名调用\n",
    "\n",
    "#from  模块名  import  *   \n",
    "#导入整个模块。导入后可以直接用函数名调用\n",
    "from  os import  *\n",
    "print(getcwd())        #输出当前目录"
   ]
  },
  {
   "cell_type": "code",
   "execution_count": 25,
   "metadata": {},
   "outputs": [
    {
     "name": "stdout",
     "output_type": "stream",
     "text": [
      "以主文件形式运行:\n",
      "Hello,world!\n",
      "Hello,GDUF!\n"
     ]
    }
   ],
   "source": [
    "#请将本cell代码保存到当前工作目录下，文件名为modulefeature.py\n",
    "\n",
    "def  sayhello(y='world'):  #默认参数为world      \n",
    "    print('Hello,'+ y +'!')\n",
    "\n",
    "#如__name__为\"__main__\"表示模块独立运行。name,main前后均为两条下划线_\n",
    "if  __name__=='__main__':\n",
    "    print(\"以主文件形式运行:\")\n",
    "    sayhello()\n",
    "    sayhello('GDUF')    #请注意两种调用方式"
   ]
  },
  {
   "cell_type": "code",
   "execution_count": 26,
   "metadata": {},
   "outputs": [
    {
     "name": "stdout",
     "output_type": "stream",
     "text": [
      "Hello,world!\n"
     ]
    },
    {
     "data": {
      "text/plain": [
       "['__builtins__',\n",
       " '__cached__',\n",
       " '__doc__',\n",
       " '__file__',\n",
       " '__loader__',\n",
       " '__name__',\n",
       " '__package__',\n",
       " '__spec__',\n",
       " 'sayhello']"
      ]
     },
     "execution_count": 26,
     "metadata": {},
     "output_type": "execute_result"
    }
   ],
   "source": [
    "import  modulefeature\n",
    "modulefeature.sayhello()\n",
    "dir(modulefeature)"
   ]
  },
  {
   "cell_type": "code",
   "execution_count": null,
   "metadata": {},
   "outputs": [],
   "source": []
  }
 ],
 "metadata": {
  "kernelspec": {
   "display_name": "Python 3",
   "language": "python",
   "name": "python3"
  },
  "language_info": {
   "codemirror_mode": {
    "name": "ipython",
    "version": 3
   },
   "file_extension": ".py",
   "mimetype": "text/x-python",
   "name": "python",
   "nbconvert_exporter": "python",
   "pygments_lexer": "ipython3",
   "version": "3.7.4"
  }
 },
 "nbformat": 4,
 "nbformat_minor": 2
}
