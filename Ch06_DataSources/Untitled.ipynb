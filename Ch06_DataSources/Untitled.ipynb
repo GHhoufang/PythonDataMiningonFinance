{
 "cells": [
  {
   "cell_type": "code",
   "execution_count": 1,
   "metadata": {},
   "outputs": [
    {
     "name": "stdout",
     "output_type": "stream",
     "text": [
      "美股直接输入股票代码如GOOG \n",
      "港股输入代码+对应股市，如腾讯：0700.hk \n",
      "国内股票需要区分上证和深证，股票代码后面加.ss或者.sz\n",
      "请输入你要查询的股票代码：0700.hk\n",
      "                  High         Low        Open       Close      Volume  \\\n",
      "Date                                                                     \n",
      "2019-01-02  315.000000  306.200012  315.000000  306.600006  15721297.0   \n",
      "2019-01-03  309.399994  302.799988  304.000000  305.000000  16420034.0   \n",
      "2019-01-04  311.000000  300.399994  300.399994  310.600006  19329055.0   \n",
      "2019-01-07  318.799988  313.600006  318.000000  317.600006  24890962.0   \n",
      "2019-01-08  318.600006  312.000000  318.000000  315.600006  16264928.0   \n",
      "\n",
      "             Adj Close  \n",
      "Date                    \n",
      "2019-01-02  304.909271  \n",
      "2019-01-03  303.318085  \n",
      "2019-01-04  308.887207  \n",
      "2019-01-07  315.848633  \n",
      "2019-01-08  313.859650  \n"
     ]
    }
   ],
   "source": [
    "#导入必要的包\n",
    "import pandas_datareader.data as webdata\n",
    "import datetime\n",
    "import pandas as pd\n",
    "#datetime用于生成日期数据\n",
    "start_day = datetime.datetime(2019, 1, 1)\n",
    "end_day = datetime.datetime(2021, 2, 19)\n",
    "#通过yahoo财经，查询股票信息\n",
    "stock_code = input(\"美股直接输入股票代码如GOOG \\n港股输入代码+对应股市，如腾讯：0700.hk \\n国内股票需要区分上证和深证，股票代码后面加.ss或者.sz\\n请输入你要查询的股票代码：\")\n",
    "stock_info = webdata.get_data_yahoo(stock_code, start_day, end_day)\n",
    "# 展示前5行\n",
    "print(stock_info.head())"
   ]
  },
  {
   "cell_type": "code",
   "execution_count": null,
   "metadata": {},
   "outputs": [],
   "source": []
  }
 ],
 "metadata": {
  "kernelspec": {
   "display_name": "Python 3",
   "language": "python",
   "name": "python3"
  },
  "language_info": {
   "codemirror_mode": {
    "name": "ipython",
    "version": 3
   },
   "file_extension": ".py",
   "mimetype": "text/x-python",
   "name": "python",
   "nbconvert_exporter": "python",
   "pygments_lexer": "ipython3",
   "version": "3.7.4"
  }
 },
 "nbformat": 4,
 "nbformat_minor": 4
}
