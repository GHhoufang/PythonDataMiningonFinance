{
 "cells": [
  {
   "cell_type": "code",
   "execution_count": 2,
   "metadata": {},
   "outputs": [
    {
     "name": "stdout",
     "output_type": "stream",
     "text": [
      "美股直接输入股票代码如GOOG \n",
      "港股输入代码+对应股市，如腾讯：0700.hk \n",
      "国内股票需要区分上证和深证，股票代码后面加.ss或者.sz\n",
      "请输入你要查询的股票代码：0700.hk\n",
      "                  High         Low        Open       Close    Volume  \\\n",
      "Date                                                                   \n",
      "2019-01-02  315.000000  306.200012  315.000000  306.600006  15721297   \n",
      "2019-01-03  309.399994  302.799988  304.000000  305.000000  16420034   \n",
      "2019-01-04  311.000000  300.399994  300.399994  310.600006  19329055   \n",
      "2019-01-07  318.799988  313.600006  318.000000  317.600006  24890962   \n",
      "2019-01-08  318.600006  312.000000  318.000000  315.600006  16264928   \n",
      "\n",
      "             Adj Close  \n",
      "Date                    \n",
      "2019-01-02  304.909271  \n",
      "2019-01-03  303.318085  \n",
      "2019-01-04  308.887207  \n",
      "2019-01-07  315.848633  \n",
      "2019-01-08  313.859650  \n"
     ]
    }
   ],
   "source": [
    "#导入必要的包\n",
    "import pandas_datareader.data as webdata\n",
    "import datetime\n",
    "import pandas as pd\n",
    "#datetime用于生成日期数据\n",
    "start_day = datetime.datetime(2019, 1, 1)\n",
    "end_day = datetime.datetime(2019, 3, 1)\n",
    "#通过yahoo财经，查询股票信息\n",
    "stock_code = input(\"美股直接输入股票代码如GOOG \\n港股输入代码+对应股市，如腾讯：0700.hk \\n国内股票需要区分上证和深证，股票代码后面加.ss或者.sz\\n请输入你要查询的股票代码：\")\n",
    "stock_info = webdata.get_data_yahoo(stock_code, start_day, end_day)\n",
    "# 展示前5行\n",
    "print(stock_info.head())"
   ]
  },
  {
   "cell_type": "code",
   "execution_count": 1,
   "metadata": {},
   "outputs": [
    {
     "name": "stdout",
     "output_type": "stream",
     "text": [
      "前5行数据：\n",
      "   survived  pclass     sex   age  sibsp  parch     fare embarked  class  \\\n",
      "0         0       3    male  22.0      1      0   7.2500        S  Third   \n",
      "1         1       1  female  38.0      1      0  71.2833        C  First   \n",
      "2         1       3  female  26.0      0      0   7.9250        S  Third   \n",
      "3         1       1  female  35.0      1      0  53.1000        S  First   \n",
      "4         0       3    male  35.0      0      0   8.0500        S  Third   \n",
      "\n",
      "     who  adult_male deck  embark_town alive  alone  \n",
      "0    man        True  NaN  Southampton    no  False  \n",
      "1  woman       False    C    Cherbourg   yes  False  \n",
      "2  woman       False  NaN  Southampton   yes   True  \n",
      "3  woman       False    C  Southampton   yes  False  \n",
      "4    man        True  NaN  Southampton    no   True  \n",
      "\n",
      "乘客按照性别统计的生还者和遇难者：\n",
      "0：遇难；1：生还\n",
      "survived    0    1  sum       生还率\n",
      "sex                              \n",
      "female     81  233  314  0.742038\n",
      "male      468  109  577  0.188908\n",
      "\n",
      "生还者船票价格统计描述：\n",
      "count    342.000000\n",
      "mean      48.395408\n",
      "std       66.596998\n",
      "min        0.000000\n",
      "25%       12.475000\n",
      "50%       26.000000\n",
      "75%       57.000000\n",
      "max      512.329200\n",
      "Name: fare, dtype: float64\n",
      "遇难者船票价格统计描述：\n",
      "count    549.000000\n",
      "mean      22.117887\n",
      "std       31.388207\n",
      "min        0.000000\n",
      "25%        7.854200\n",
      "50%       10.500000\n",
      "75%       26.000000\n",
      "max      263.000000\n",
      "Name: fare, dtype: float64\n",
      "\n"
     ]
    },
    {
     "data": {
      "image/png": "[encoded data removed]",
      "text/plain": [
       "<Figure size 504x504 with 1 Axes>"
      ]
     },
     "metadata": {},
     "output_type": "display_data"
    }
   ],
   "source": [
    "import matplotlib as mpl\n",
    "from matplotlib import pyplot as plt\n",
    "import seaborn as sns\n",
    "import pandas as pd\n",
    "import numpy as np\n",
    "\n",
    "#处理NoteBook内嵌图形问题\n",
    "%matplotlib inline \n",
    "#处理Seaborn图表内嵌中文字体问题\n",
    "plt.rcParams['font.sans-serif']=['SimHei']\n",
    "plt.rcParams['axes.unicode_minus'] = False \n",
    "sns.set_style('whitegrid',{'font.sans-serif':['simhei','Arial']})\n",
    "\n",
    "#载入泰坦尼克数据库，显示乘客信息的头5行\n",
    "PasTit = sns.load_dataset('titanic')\n",
    "print('前5行数据：')\n",
    "print(PasTit.head())\n",
    "\n",
    "#统计幸存者的性别比例\n",
    "survived=PasTit.groupby(['sex','survived']).size().unstack()\n",
    "survived['sum']=survived[0]+survived[1]\n",
    "survived['生还率']=survived[1]/survived['sum']\n",
    "print()\n",
    "print('乘客按照性别统计的生还者和遇难者：')\n",
    "print('0：遇难；1：生还')\n",
    "print(survived)\n",
    "\n",
    "fare_surv=PasTit.loc[PasTit['survived']==1,'fare']\n",
    "fare_unsurv=PasTit.loc[PasTit['survived']==0,'fare']\n",
    "print()\n",
    "print('生还者船票价格统计描述：')\n",
    "print(fare_surv.describe())\n",
    "print('遇难者船票价格统计描述：')\n",
    "print(fare_unsurv.describe())\n",
    "\n",
    "f, ax = plt.subplots(figsize=(7,7))\n",
    "sns.distplot(np.array(fare_surv),hist=False,label='Survived',\n",
    "             kde_kws={'color': 'k', 'lw': 1}).set(ylim=(0,0.058),xlim=(0,300))\n",
    "sns.distplot(np.array(fare_unsurv),hist=False,label='UnSurvived',\n",
    "             kde_kws={'color': 'k', 'lw': 3,'marker':'o'})\n",
    "print()\n",
    "ax.set(title='幸存/遇难者票价分布')\n",
    "plt.savefig('ch05_seaGet',dpi=300,bbox_inches='tight')"
   ]
  },
  {
   "cell_type": "code",
   "execution_count": 2,
   "metadata": {},
   "outputs": [
    {
     "name": "stdout",
     "output_type": "stream",
     "text": [
      "('https://outlook.com/?WT.mc_id=O16_BingHP', 'https')\n",
      "('https://business.bing.com/api/v3/search/person/photo?id=', 'https')\n",
      "('https://www.office.com?WT.mc_id=O16_BingHP', 'https')\n",
      "('https://office.live.com/start/Word.aspx?WT.mc_id=O16_BingHP', 'https')\n",
      "('https://office.live.com/start/Excel.aspx?WT.mc_id=O16_BingHP', 'https')\n",
      "('https://office.live.com/start/PowerPoint.aspx?WT.mc_id=O16_BingHP', 'https')\n",
      "('https://www.onenote.com/notebooks?WT.mc_id=O16_BingHP', 'https')\n",
      "('https://sway.office.com?WT.mc_id=O16_BingHP&amp;utm_source=O16Bing&amp;utm_medium=Nav&amp;utm_campaign=HP', 'https')\n",
      "('https://onedrive.live.com/?gologin=1&amp;WT.mc_id=O16_BingHP', 'https')\n",
      "('https://calendar.live.com/?WT.mc_id=O16_BingHP', 'https')\n",
      "('https://outlook.live.com/owa/?path=/people&amp;WT.mc_id=O16_BingHP', 'https')\n",
      "('https://outlook.com/?WT.mc_id=O16_BingHP?mkt=zh-CN', 'https')\n",
      "('http://www.beian.gov.cn/portal/registerSystemInfo?recordcode=11010802022657', 'http')\n",
      "('http://go.microsoft.com/fwlink/?LinkId=521839', 'http')\n",
      "('http://go.microsoft.com/fwlink/?LinkID=246338', 'http')\n",
      "('https://go.microsoft.com/fwlink/?linkid=868923', 'https')\n",
      "('http://go.microsoft.com/fwlink/?LinkID=275671&amp;clcid=0x04', 'http')\n",
      "('https://go.microsoft.com/fwlink/?LinkID=617297&amp;clcid=0x04', 'https')\n",
      "('https://storage.live.com/users/0x', 'https')\n",
      "('https://storage.live.com/users/0x', 'https')\n",
      "('https://login.live.com/login.srf?wa=wsignin1.0', 'https')\n",
      "('https://hpimges.blob.core.chinacloudapi.cn/coverstory/watermark_', 'https')\n",
      "('http://bingqrcode.cloudapp.net/?w=116&h=116&src=', 'http')\n"
     ]
    }
   ],
   "source": [
    "#引入正则表达式模块\n",
    "import re  \n",
    "#引入操作url的模块\n",
    "import urllib.request  \n",
    "  \n",
    "target = 'http://www.bing.com'\n",
    "#自动读取页面\n",
    "content = urllib.request.urlopen(target).read()  \n",
    "#指定文本解码方式\n",
    "content = content.decode('utf-8')   \n",
    "#使用正则表达式匹配读取到的页面内容，将超链接放入link_list中\n",
    "link_list = re.findall(r\"((https?|ftp|file)://[-A-Za-z0-9+&@#/%?=~_|!:,.;]+[-A-Za-z0-9+&@#/%=~_|])\", content)  \n",
    "for url in link_list:\n",
    "    print(url)"
   ]
  },
  {
   "cell_type": "code",
   "execution_count": 3,
   "metadata": {},
   "outputs": [
    {
     "name": "stdout",
     "output_type": "stream",
     "text": [
      "电话号码是:  0086-20-37215850 \n"
     ]
    }
   ],
   "source": [
    "#正则表达式包re\n",
    "import re\n",
    "phone = \"0086-20-37215850 # 这是一个带国际长途区号的电话号码\" \n",
    "# 删除字符串中的 Python注释 \n",
    "num = re.sub(r'#.*$', \"\", phone)\n",
    "print('电话号码是: ', num)"
   ]
  },
  {
   "cell_type": "code",
   "execution_count": 4,
   "metadata": {},
   "outputs": [
    {
     "name": "stdout",
     "output_type": "stream",
     "text": [
      "电话号码是 :  00862037215850\n"
     ]
    }
   ],
   "source": [
    "# 删除非数字(-)的字符串 \n",
    "num = re.sub(r'\\D', '', phone)\n",
    "print('电话号码是 : ', num)"
   ]
  },
  {
   "cell_type": "code",
   "execution_count": 5,
   "metadata": {},
   "outputs": [
    {
     "name": "stdout",
     "output_type": "stream",
     "text": [
      "序号 X坐标 Y坐标\n",
      "1 1.658985 4.285136  \n",
      "2 -3.453687 3.424321  \n",
      "3 4.838138 -1.151539  \n",
      "4 -5.379713 -3.362104  \n",
      "5 0.972564 2.924086  \n"
     ]
    }
   ],
   "source": [
    "import numpy as np\n",
    "f=open('./Exp04_file01.txt','r')\n",
    "#按行读取，并显示\n",
    "for eachline in f.readlines():    \n",
    "#原txt文件每行以换行符结束，使用strip去掉换行符\n",
    "#使得输出紧凑。不去掉则每两行数据间会有一个空行\n",
    "    eachline=eachline.strip('\\n')\n",
    "    print(eachline)\n",
    "f.close()"
   ]
  },
  {
   "cell_type": "code",
   "execution_count": 6,
   "metadata": {},
   "outputs": [
    {
     "name": "stdout",
     "output_type": "stream",
     "text": [
      "读入arrA：\n",
      "[[ 1.658985  4.285136]\n",
      " [-3.453687  3.424321]\n",
      " [ 4.838138 -1.151539]\n",
      " [-5.379713 -3.362104]\n",
      " [ 0.972564  2.924086]]\n"
     ]
    }
   ],
   "source": [
    "arrA=[]\n",
    "#NumPy可以直接使用loadtxt读取文本文件到数组\n",
    "#skiprows表示忽略首行，usecols表示只取第1，2列数据（从0列开始），请参考 \n",
    "#https://penandpants.com/2012/03/09/reading-text-tables-with-python/ \n",
    "arrA=np.loadtxt('./Exp04_file01.txt',skiprows=1,usecols=(1,2))\n",
    "print('读入arrA：')\n",
    "print(arrA)"
   ]
  },
  {
   "cell_type": "code",
   "execution_count": 7,
   "metadata": {},
   "outputs": [
    {
     "name": "stdout",
     "output_type": "stream",
     "text": [
      "按列求平均值：\n",
      "[-0.2727426  1.22398  ]\n"
     ]
    }
   ],
   "source": [
    "#求arrA第一列和第二列的平均值\n",
    "#mean中的axis参数为0表示按列求均值，1表示按行\n",
    "Ave=arrA.mean(axis=0)\n",
    "print('按列求平均值：')\n",
    "print(Ave)"
   ]
  },
  {
   "cell_type": "code",
   "execution_count": 8,
   "metadata": {},
   "outputs": [
    {
     "name": "stdout",
     "output_type": "stream",
     "text": [
      "最后一行加入平均值的新矩阵NewArr：\n",
      "[[ 1.658985   4.285136 ]\n",
      " [-3.453687   3.424321 ]\n",
      " [ 4.838138  -1.151539 ]\n",
      " [-5.379713  -3.362104 ]\n",
      " [ 0.972564   2.924086 ]\n",
      " [-0.2727426  1.22398  ]]\n"
     ]
    }
   ],
   "source": [
    "#将Ave与arrA拼接\n",
    "NewArr=np.vstack((arrA,Ave))\n",
    "print('最后一行加入平均值的新矩阵NewArr：')\n",
    "print(NewArr)"
   ]
  },
  {
   "cell_type": "code",
   "execution_count": 9,
   "metadata": {},
   "outputs": [
    {
     "name": "stdout",
     "output_type": "stream",
     "text": [
      "输出NewArr到文件Exp04_file01_out.txt\n",
      "为了正确显示输出文件的换行效果，建议使用Notepad++查看\n"
     ]
    }
   ],
   "source": [
    "#将NewArr保存到新文件。\n",
    "#行内两个数值用逗号分隔，加入表头和表尾\n",
    "#请注意，输出文件的换行符为Unix格式，与Windows下换行符有区别\n",
    "#在Windows下直接使用Notepad打开无换行，建议使用Notepad++打开输出文件\n",
    "print('输出NewArr到文件Exp04_file01_out.txt')\n",
    "print('为了正确显示输出文件的换行效果，建议使用Notepad++查看')\n",
    "np.savetxt('./Exp04_file01_out.txt',NewArr, \n",
    "           fmt='%f,%f',delimiter=',',newline=' \\n',\n",
    "           header='Xaxis Yaxis',footer='Made in GDUF')"
   ]
  },
  {
   "cell_type": "code",
   "execution_count": 10,
   "metadata": {},
   "outputs": [
    {
     "ename": "Error",
     "evalue": "('IM003', '[IM003] 由于系统错误  1114: 动态链接库(DLL)初始化例程失败。 (Microsoft Access Driver (*.mdb, *.accdb), C:\\\\Program Files\\\\Microsoft Office\\\\root\\\\VFS\\\\ProgramFilesCommonX64\\\\Microsoft Shared\\\\Office16\\\\ACEODBC.DLL)，指定驱动程序无法加载。')",
     "output_type": "error",
     "traceback": [
      "\u001b[1;31m---------------------------------------------------------------------------\u001b[0m",
      "\u001b[1;31mError\u001b[0m                                     Traceback (most recent call last)",
      "\u001b[1;32m<ipython-input-10-a1c08ac3c2ab>\u001b[0m in \u001b[0;36m<module>\u001b[1;34m\u001b[0m\n\u001b[0;32m      4\u001b[0m \u001b[0mstr\u001b[0m \u001b[1;33m=\u001b[0m \u001b[1;34m'Driver={Microsoft Access Driver (*.mdb,*.accdb)};DBQ=.\\Exp04.mdb'\u001b[0m\u001b[1;33m\u001b[0m\u001b[1;33m\u001b[0m\u001b[0m\n\u001b[0;32m      5\u001b[0m \u001b[1;31m#打开数据库\u001b[0m\u001b[1;33m\u001b[0m\u001b[1;33m\u001b[0m\u001b[1;33m\u001b[0m\u001b[0m\n\u001b[1;32m----> 6\u001b[1;33m \u001b[0mdb\u001b[0m\u001b[1;33m=\u001b[0m\u001b[0mpypyodbc\u001b[0m\u001b[1;33m.\u001b[0m\u001b[0mwin_connect_mdb\u001b[0m\u001b[1;33m(\u001b[0m\u001b[0mstr\u001b[0m\u001b[1;33m)\u001b[0m\u001b[1;33m\u001b[0m\u001b[1;33m\u001b[0m\u001b[0m\n\u001b[0m\u001b[0;32m      7\u001b[0m \u001b[1;31m# 产生cursor游标\u001b[0m\u001b[1;33m\u001b[0m\u001b[1;33m\u001b[0m\u001b[1;33m\u001b[0m\u001b[0m\n\u001b[0;32m      8\u001b[0m \u001b[0mcurser\u001b[0m \u001b[1;33m=\u001b[0m \u001b[0mdb\u001b[0m\u001b[1;33m.\u001b[0m\u001b[0mcursor\u001b[0m\u001b[1;33m(\u001b[0m\u001b[1;33m)\u001b[0m\u001b[1;33m\u001b[0m\u001b[1;33m\u001b[0m\u001b[0m\n",
      "\u001b[1;32m~\\Miniconda3\\lib\\site-packages\\pypyodbc.py\u001b[0m in \u001b[0;36mwin_connect_mdb\u001b[1;34m(mdb_path, readonly)\u001b[0m\n\u001b[0;32m   2755\u001b[0m     \u001b[0mdriver_name\u001b[0m \u001b[1;33m=\u001b[0m \u001b[0mget_mdb_driver\u001b[0m\u001b[1;33m(\u001b[0m\u001b[1;33m)\u001b[0m\u001b[1;33m\u001b[0m\u001b[1;33m\u001b[0m\u001b[0m\n\u001b[0;32m   2756\u001b[0m     \u001b[0mmdb_path\u001b[0m \u001b[1;33m=\u001b[0m \u001b[0mmdb_path\u001b[0m\u001b[1;33m.\u001b[0m\u001b[0mstrip\u001b[0m\u001b[1;33m(\u001b[0m\u001b[1;34m'\"'\u001b[0m\u001b[1;33m)\u001b[0m\u001b[1;33m\u001b[0m\u001b[1;33m\u001b[0m\u001b[0m\n\u001b[1;32m-> 2757\u001b[1;33m     \u001b[1;32mreturn\u001b[0m \u001b[0mconnect\u001b[0m\u001b[1;33m(\u001b[0m\u001b[1;34m'Driver={'\u001b[0m\u001b[1;33m+\u001b[0m\u001b[0mdriver_name\u001b[0m\u001b[1;33m+\u001b[0m\u001b[1;34m\"};DBQ=\"\u001b[0m\u001b[1;33m+\u001b[0m\u001b[0mmdb_path\u001b[0m\u001b[1;33m,\u001b[0m \u001b[0municode_results\u001b[0m \u001b[1;33m=\u001b[0m \u001b[0muse_unicode\u001b[0m\u001b[1;33m,\u001b[0m \u001b[0mreadonly\u001b[0m \u001b[1;33m=\u001b[0m \u001b[0mreadonly\u001b[0m\u001b[1;33m)\u001b[0m\u001b[1;33m\u001b[0m\u001b[1;33m\u001b[0m\u001b[0m\n\u001b[0m\u001b[0;32m   2758\u001b[0m \u001b[1;33m\u001b[0m\u001b[0m\n\u001b[0;32m   2759\u001b[0m \u001b[1;33m\u001b[0m\u001b[0m\n",
      "\u001b[1;32m~\\Miniconda3\\lib\\site-packages\\pypyodbc.py\u001b[0m in \u001b[0;36m__init__\u001b[1;34m(self, connectString, autocommit, ansi, timeout, unicode_results, readonly, **kargs)\u001b[0m\n\u001b[0;32m   2452\u001b[0m \u001b[1;33m\u001b[0m\u001b[0m\n\u001b[0;32m   2453\u001b[0m \u001b[1;33m\u001b[0m\u001b[0m\n\u001b[1;32m-> 2454\u001b[1;33m         \u001b[0mself\u001b[0m\u001b[1;33m.\u001b[0m\u001b[0mconnect\u001b[0m\u001b[1;33m(\u001b[0m\u001b[0mconnectString\u001b[0m\u001b[1;33m,\u001b[0m \u001b[0mautocommit\u001b[0m\u001b[1;33m,\u001b[0m \u001b[0mansi\u001b[0m\u001b[1;33m,\u001b[0m \u001b[0mtimeout\u001b[0m\u001b[1;33m,\u001b[0m \u001b[0municode_results\u001b[0m\u001b[1;33m,\u001b[0m \u001b[0mreadonly\u001b[0m\u001b[1;33m)\u001b[0m\u001b[1;33m\u001b[0m\u001b[1;33m\u001b[0m\u001b[0m\n\u001b[0m\u001b[0;32m   2455\u001b[0m \u001b[1;33m\u001b[0m\u001b[0m\n\u001b[0;32m   2456\u001b[0m     \u001b[1;32mdef\u001b[0m \u001b[0mset_connection_timeout\u001b[0m\u001b[1;33m(\u001b[0m\u001b[0mself\u001b[0m\u001b[1;33m,\u001b[0m\u001b[0mconnection_timeout\u001b[0m\u001b[1;33m)\u001b[0m\u001b[1;33m:\u001b[0m\u001b[1;33m\u001b[0m\u001b[1;33m\u001b[0m\u001b[0m\n",
      "\u001b[1;32m~\\Miniconda3\\lib\\site-packages\\pypyodbc.py\u001b[0m in \u001b[0;36mconnect\u001b[1;34m(self, connectString, autocommit, ansi, timeout, unicode_results, readonly)\u001b[0m\n\u001b[0;32m   2505\u001b[0m         \u001b[1;32melse\u001b[0m\u001b[1;33m:\u001b[0m\u001b[1;33m\u001b[0m\u001b[1;33m\u001b[0m\u001b[0m\n\u001b[0;32m   2506\u001b[0m             \u001b[0mret\u001b[0m \u001b[1;33m=\u001b[0m \u001b[0modbc_func\u001b[0m\u001b[1;33m(\u001b[0m\u001b[0mself\u001b[0m\u001b[1;33m.\u001b[0m\u001b[0mdbc_h\u001b[0m\u001b[1;33m,\u001b[0m \u001b[1;36m0\u001b[0m\u001b[1;33m,\u001b[0m \u001b[0mc_connectString\u001b[0m\u001b[1;33m,\u001b[0m \u001b[0mlen\u001b[0m\u001b[1;33m(\u001b[0m\u001b[0mself\u001b[0m\u001b[1;33m.\u001b[0m\u001b[0mconnectString\u001b[0m\u001b[1;33m)\u001b[0m\u001b[1;33m,\u001b[0m \u001b[1;32mNone\u001b[0m\u001b[1;33m,\u001b[0m \u001b[1;36m0\u001b[0m\u001b[1;33m,\u001b[0m \u001b[1;32mNone\u001b[0m\u001b[1;33m,\u001b[0m \u001b[0mSQL_DRIVER_NOPROMPT\u001b[0m\u001b[1;33m)\u001b[0m\u001b[1;33m\u001b[0m\u001b[1;33m\u001b[0m\u001b[0m\n\u001b[1;32m-> 2507\u001b[1;33m         \u001b[0mcheck_success\u001b[0m\u001b[1;33m(\u001b[0m\u001b[0mself\u001b[0m\u001b[1;33m,\u001b[0m \u001b[0mret\u001b[0m\u001b[1;33m)\u001b[0m\u001b[1;33m\u001b[0m\u001b[1;33m\u001b[0m\u001b[0m\n\u001b[0m\u001b[0;32m   2508\u001b[0m \u001b[1;33m\u001b[0m\u001b[0m\n\u001b[0;32m   2509\u001b[0m \u001b[1;33m\u001b[0m\u001b[0m\n",
      "\u001b[1;32m~\\Miniconda3\\lib\\site-packages\\pypyodbc.py\u001b[0m in \u001b[0;36mcheck_success\u001b[1;34m(ODBC_obj, ret)\u001b[0m\n\u001b[0;32m   1007\u001b[0m             \u001b[0mctrl_err\u001b[0m\u001b[1;33m(\u001b[0m\u001b[0mSQL_HANDLE_STMT\u001b[0m\u001b[1;33m,\u001b[0m \u001b[0mODBC_obj\u001b[0m\u001b[1;33m.\u001b[0m\u001b[0mstmt_h\u001b[0m\u001b[1;33m,\u001b[0m \u001b[0mret\u001b[0m\u001b[1;33m,\u001b[0m \u001b[0mODBC_obj\u001b[0m\u001b[1;33m.\u001b[0m\u001b[0mansi\u001b[0m\u001b[1;33m)\u001b[0m\u001b[1;33m\u001b[0m\u001b[1;33m\u001b[0m\u001b[0m\n\u001b[0;32m   1008\u001b[0m         \u001b[1;32melif\u001b[0m \u001b[0misinstance\u001b[0m\u001b[1;33m(\u001b[0m\u001b[0mODBC_obj\u001b[0m\u001b[1;33m,\u001b[0m \u001b[0mConnection\u001b[0m\u001b[1;33m)\u001b[0m\u001b[1;33m:\u001b[0m\u001b[1;33m\u001b[0m\u001b[1;33m\u001b[0m\u001b[0m\n\u001b[1;32m-> 1009\u001b[1;33m             \u001b[0mctrl_err\u001b[0m\u001b[1;33m(\u001b[0m\u001b[0mSQL_HANDLE_DBC\u001b[0m\u001b[1;33m,\u001b[0m \u001b[0mODBC_obj\u001b[0m\u001b[1;33m.\u001b[0m\u001b[0mdbc_h\u001b[0m\u001b[1;33m,\u001b[0m \u001b[0mret\u001b[0m\u001b[1;33m,\u001b[0m \u001b[0mODBC_obj\u001b[0m\u001b[1;33m.\u001b[0m\u001b[0mansi\u001b[0m\u001b[1;33m)\u001b[0m\u001b[1;33m\u001b[0m\u001b[1;33m\u001b[0m\u001b[0m\n\u001b[0m\u001b[0;32m   1010\u001b[0m         \u001b[1;32melse\u001b[0m\u001b[1;33m:\u001b[0m\u001b[1;33m\u001b[0m\u001b[1;33m\u001b[0m\u001b[0m\n\u001b[0;32m   1011\u001b[0m             \u001b[0mctrl_err\u001b[0m\u001b[1;33m(\u001b[0m\u001b[0mSQL_HANDLE_ENV\u001b[0m\u001b[1;33m,\u001b[0m \u001b[0mODBC_obj\u001b[0m\u001b[1;33m,\u001b[0m \u001b[0mret\u001b[0m\u001b[1;33m,\u001b[0m \u001b[1;32mFalse\u001b[0m\u001b[1;33m)\u001b[0m\u001b[1;33m\u001b[0m\u001b[1;33m\u001b[0m\u001b[0m\n",
      "\u001b[1;32m~\\Miniconda3\\lib\\site-packages\\pypyodbc.py\u001b[0m in \u001b[0;36mctrl_err\u001b[1;34m(ht, h, val_ret, ansi)\u001b[0m\n\u001b[0;32m    983\u001b[0m                 \u001b[1;32mraise\u001b[0m \u001b[0mOperationalError\u001b[0m\u001b[1;33m(\u001b[0m\u001b[0mstate\u001b[0m\u001b[1;33m,\u001b[0m\u001b[0merr_text\u001b[0m\u001b[1;33m)\u001b[0m\u001b[1;33m\u001b[0m\u001b[1;33m\u001b[0m\u001b[0m\n\u001b[0;32m    984\u001b[0m             \u001b[1;32melif\u001b[0m \u001b[0mstate\u001b[0m\u001b[1;33m[\u001b[0m\u001b[1;33m:\u001b[0m\u001b[1;36m2\u001b[0m\u001b[1;33m]\u001b[0m \u001b[1;32min\u001b[0m \u001b[1;33m(\u001b[0m\u001b[0mraw_s\u001b[0m\u001b[1;33m(\u001b[0m\u001b[1;34m'IM'\u001b[0m\u001b[1;33m)\u001b[0m\u001b[1;33m,\u001b[0m\u001b[0mraw_s\u001b[0m\u001b[1;33m(\u001b[0m\u001b[1;34m'HY'\u001b[0m\u001b[1;33m)\u001b[0m\u001b[1;33m)\u001b[0m\u001b[1;33m:\u001b[0m\u001b[1;33m\u001b[0m\u001b[1;33m\u001b[0m\u001b[0m\n\u001b[1;32m--> 985\u001b[1;33m                 \u001b[1;32mraise\u001b[0m \u001b[0mError\u001b[0m\u001b[1;33m(\u001b[0m\u001b[0mstate\u001b[0m\u001b[1;33m,\u001b[0m\u001b[0merr_text\u001b[0m\u001b[1;33m)\u001b[0m\u001b[1;33m\u001b[0m\u001b[1;33m\u001b[0m\u001b[0m\n\u001b[0m\u001b[0;32m    986\u001b[0m             \u001b[1;32melse\u001b[0m\u001b[1;33m:\u001b[0m\u001b[1;33m\u001b[0m\u001b[1;33m\u001b[0m\u001b[0m\n\u001b[0;32m    987\u001b[0m                 \u001b[1;32mraise\u001b[0m \u001b[0mDatabaseError\u001b[0m\u001b[1;33m(\u001b[0m\u001b[0mstate\u001b[0m\u001b[1;33m,\u001b[0m\u001b[0merr_text\u001b[0m\u001b[1;33m)\u001b[0m\u001b[1;33m\u001b[0m\u001b[1;33m\u001b[0m\u001b[0m\n",
      "\u001b[1;31mError\u001b[0m: ('IM003', '[IM003] 由于系统错误  1114: 动态链接库(DLL)初始化例程失败。 (Microsoft Access Driver (*.mdb, *.accdb), C:\\\\Program Files\\\\Microsoft Office\\\\root\\\\VFS\\\\ProgramFilesCommonX64\\\\Microsoft Shared\\\\Office16\\\\ACEODBC.DLL)，指定驱动程序无法加载。')"
     ]
    }
   ],
   "source": [
    "#导入pypyodbc模块\n",
    "import pypyodbc\n",
    "# 数据库连接控制字\n",
    "str = 'Driver={Microsoft Access Driver (*.mdb,*.accdb)};DBQ=.\\Exp04.mdb'\n",
    "#打开数据库\n",
    "db=pypyodbc.win_connect_mdb(str)                \n",
    "# 产生cursor游标\n",
    "curser = db.cursor()                                    \n",
    "#从表t1中选择记录\n",
    "curser.execute(\"select * from t1\")\n",
    "# 显示行描述\n",
    "for col in curser.description:                        \n",
    "    print (col[0], col[1])"
   ]
  },
  {
   "cell_type": "code",
   "execution_count": null,
   "metadata": {
    "scrolled": true
   },
   "outputs": [],
   "source": [
    "# 读取所有记录\n",
    "result = curser.fetchall()\n",
    "# 输出各字段的值\n",
    "for row in result:                                      \n",
    "    print (row)\n",
    "# 输出某一字段的值    \n",
    "for row in result:    \n",
    "    print (row[2])"
   ]
  },
  {
   "cell_type": "code",
   "execution_count": null,
   "metadata": {},
   "outputs": [],
   "source": [
    "import pypyodbc\n",
    "\n",
    "#定义数据库连接函数\n",
    "def mdb_conn(db_name, password = \"\"):\n",
    "    str = 'Driver={Microsoft Access Driver (*.mdb)};PWD' + password + \";DBQ=\" + db_name\n",
    "    conn = pypyodbc.win_connect_mdb(str)\n",
    "    return conn\n",
    "\n",
    "#输出所有记录\n",
    "def mdb_show(conn, cur, tablename):\n",
    "    try:\n",
    "        sql = \"SELECT * FROM \" + tablename\n",
    "        cur.execute(sql)\n",
    "        result = cur.fetchall()\n",
    "        for row in result:                                      \n",
    "            print (row[1],row[2],row[3])\n",
    "        return True\n",
    "    except:\n",
    "        return False\n",
    "\n",
    "#数据库添加记录\n",
    "def mdb_add(conn, cur, sql):\n",
    "    try:\n",
    "        cur.execute(sql)\n",
    "        conn.commit()\n",
    "        return True\n",
    "    except:\n",
    "        return False\n",
    "\n",
    "#删除记录\n",
    "def mdb_del(conn, cur, sql):\n",
    "    try:\n",
    "        cur.execute(sql)\n",
    "        conn.commit()\n",
    "        return True\n",
    "    except:\n",
    "        return False\n",
    "\n",
    "#修改记录\n",
    "def mdb_modi(conn, cur, sql):\n",
    "    try:\n",
    "        cur.execute(sql)\n",
    "        conn.commit()\n",
    "        return True\n",
    "    except:\n",
    "        return False\n",
    "\n",
    "#查询记录\n",
    "def mdb_sel(cur, sql):\n",
    "    try:\n",
    "        cur.execute(sql)\n",
    "        return cur.fetchall()\n",
    "    except:\n",
    "        return []\n",
    "\n",
    "#数据库改回初始状态\n",
    "def rec_mdb(conn,cur, table):\n",
    "    sqlclean = \"Delete * FROM \" + tablename\n",
    "    sqlrecovery1 = \"Insert Into [\" + tablename +\"] (empno, empname,basicsalary )\" + \" Values ('1234', 'tom', 2500)\"\n",
    "    sqlrecovery2 = \"Insert Into [\" + tablename +\"] (empno, empname,basicsalary )\" + \" Values ('2345', 'jerry', 2800)\"\n",
    "    sqlrecovery3 = \"Insert Into [\" + tablename +\"] (empno, empname,basicsalary )\" + \" Values ('1101', 'Pluto', 5000)\"\n",
    "    try:\n",
    "        cur.execute(sqlclean)\n",
    "        conn.commit()\n",
    "        cur.execute(sqlrecovery1 )\n",
    "        conn.commit()\n",
    "        cur.execute(sqlrecovery2 )\n",
    "        conn.commit()\n",
    "        cur.execute(sqlrecovery3 )\n",
    "        conn.commit()\n",
    "        return True\n",
    "    except:\n",
    "        return False\n",
    "\n",
    "if __name__ == '__main__':\n",
    "    datafile = '.\\Exp04.mdb'\n",
    "    tablename = 't1'\n",
    "    conn = mdb_conn(datafile)\n",
    "    cur = conn.cursor()\n",
    "    print('显示当前所有记录：')\n",
    "    mdb_show(conn, cur, 't1')\n",
    "#查\n",
    "    sql = \"SELECT * FROM \" + tablename + \" where BasicSalary > 2600\"\n",
    "    sel_data = mdb_sel(cur, sql)\n",
    "    print('基本工资 > 2600查询结果：')\n",
    "    for selset in sel_data:\n",
    "        print(selset[1],selset[2],selset[3])\n",
    "#增\n",
    "    sql = \"Insert Into [\" + tablename +\"] (empno, empname,basicsalary )\" + \" Values ('3421','gduf',3400)\"\n",
    "    if mdb_add(conn, cur, sql):\n",
    "       print(\"插入成功！添加记录：3421，gduf，3400。添加后：\")\n",
    "       mdb_show(conn, cur, 't1')\n",
    "    else:\n",
    "       print(\"插入失败！\")\n",
    "#删\n",
    "    sql = \"Delete * FROM \" + tablename + \" where EmpNo = '1234'\"\n",
    "    if mdb_del(conn, cur, sql):\n",
    "       print(\"删除成功！删除EmpNo=1234的记录。删除后：\")\n",
    "       mdb_show(conn, cur, 't1')\n",
    "    else:\n",
    "       print(\"删除失败！\")\n",
    "#改\n",
    "    sql = \"Update \" + tablename + \" Set basicsalary = 3600 where empno = '1101'\"\n",
    "    if mdb_modi(conn, cur, sql):\n",
    "       print(\"修改成功！将EmpNo = '1101'的BasicSalary改为3600。修改后：\")\n",
    "       mdb_show(conn, cur, 't1')\n",
    "    else:\n",
    "       print(\"修改失败！\")\n",
    "\n",
    "    rec_mdb(conn, cur,'t1' )\n",
    "    print(\"恢复数据库,供重复使用本案例：\")\n",
    "    mdb_show(conn, cur, 't1')\n",
    "    \n",
    "    cur.close()    #关闭游标\n",
    "    conn.close()   #关闭数据库连接"
   ]
  },
  {
   "cell_type": "code",
   "execution_count": 11,
   "metadata": {},
   "outputs": [
    {
     "name": "stderr",
     "output_type": "stream",
     "text": [
      "C:\\Users\\houfang\\Miniconda3\\lib\\site-packages\\pandas_datareader\\compat\\__init__.py:7: FutureWarning: pandas.util.testing is deprecated. Use the functions in the public API at pandas.testing instead.\n",
      "  from pandas.util.testing import assert_frame_equal\n"
     ]
    },
    {
     "name": "stdout",
     "output_type": "stream",
     "text": [
      "中国信息：\n",
      "   iso3c iso2c   name               region  \\\n",
      "49   CHN    CN  China  East Asia & Pacific   \n",
      "\n",
      "                                    adminregion          incomeLevel  \\\n",
      "49  East Asia & Pacific (excluding high income)  Upper middle income   \n",
      "\n",
      "   lendingType capitalCity  longitude  latitude  \n",
      "49        IBRD     Beijing    116.286   40.0495  \n",
      "                  NY.GDP.PCAP.KD\n",
      "country     year                \n",
      "China       2018     7806.953095\n",
      "            2017     7346.611355\n",
      "            2016     6907.962011\n",
      "            2015     6500.281937\n",
      "            2014     6103.590270\n",
      "            2013     5710.587873\n",
      "            2012     5325.160106\n",
      "            2011     4961.234689\n",
      "            2010     4550.453596\n",
      "Korea, Rep. 2018    28091.388371\n",
      "            2017    27492.576255\n",
      "            2016    26725.501716\n",
      "            2015    26063.706487\n",
      "            2014    25485.584007\n",
      "            2013    24850.354399\n",
      "            2012    24197.941370\n",
      "            2011    23754.772455\n",
      "            2010    23087.225644\n",
      "Mexico      2018    10403.540397\n",
      "            2017    10301.357885\n",
      "            2016    10205.795753\n",
      "            2015    10037.201490\n",
      "            2014     9839.050191\n",
      "            2013     9693.722969\n",
      "            2012     9690.869065\n",
      "            2011     9477.887185\n",
      "            2010     9271.398233\n"
     ]
    },
    {
     "data": {
      "image/png": "[encoded data removed]",
      "text/plain": [
       "<Figure size 432x288 with 1 Axes>"
      ]
     },
     "metadata": {},
     "output_type": "display_data"
    }
   ],
   "source": [
    "#导入wb用于查询世界银行数据\n",
    "#http://ju.outofmemory.cn/entry/308589\n",
    "#https://pandas-datareader.readthedocs.io/en/latest/readers/world-bank.html?highlight=\n",
    "#pandas_datareader.wb\n",
    "import pandas_datareader.wb as worldbank\n",
    "import matplotlib.pyplot as plt\n",
    "import pandas as pd\n",
    "\n",
    "plt.rcParams['font.sans-serif']=['SimHei']\n",
    "\n",
    "start_year = 2010\n",
    "end_year = 2018\n",
    "\n",
    "#查询数据库中所有国家信息\n",
    "countries=worldbank.get_countries()\n",
    "#查询中国的国家信息\n",
    "print(\"中国信息：\")\n",
    "print(countries[countries[\"name\"]==\"China\"])\n",
    "\n",
    "#读取KOR，MX和CHN的人均GDP数据（按照当前美元计价），\n",
    "#数据库中其标志为NY.GDP.PCAP.KD\n",
    "\n",
    "dat = worldbank.download(indicator=\"NY.GDP.PCAP.KD\", country=[\"KOR\", \"MX\",\"CHN\"], start=start_year, end=end_year)\n",
    "print(dat)\n",
    "dat2draw=dat.unstack(level=0)\n",
    "#dat2draw.plot()\n",
    "plt.plot(dat2draw.iloc[:,0],'r-',label=\"CHN\")\n",
    "plt.plot(dat2draw.iloc[:,1],'b-*',label=\"KOR\")\n",
    "plt.plot(dat2draw.iloc[:,2],'g--',label=\"MX\")\n",
    "plt.title(\"人均GDP对比\",fontsize=20)\n",
    "plt.legend()\n",
    "plt.savefig('世行GDP.png',dpi=300, bbox_inches=\"tight\")\n",
    "plt.show()"
   ]
  },
  {
   "cell_type": "code",
   "execution_count": null,
   "metadata": {},
   "outputs": [],
   "source": []
  },
  {
   "cell_type": "code",
   "execution_count": null,
   "metadata": {},
   "outputs": [],
   "source": []
  }
 ],
 "metadata": {
  "kernelspec": {
   "display_name": "Python 3",
   "language": "python",
   "name": "python3"
  },
  "language_info": {
   "codemirror_mode": {
    "name": "ipython",
    "version": 3
   },
   "file_extension": ".py",
   "mimetype": "text/x-python",
   "name": "python",
   "nbconvert_exporter": "python",
   "pygments_lexer": "ipython3",
   "version": "3.7.4"
  }
 },
 "nbformat": 4,
 "nbformat_minor": 2
}
