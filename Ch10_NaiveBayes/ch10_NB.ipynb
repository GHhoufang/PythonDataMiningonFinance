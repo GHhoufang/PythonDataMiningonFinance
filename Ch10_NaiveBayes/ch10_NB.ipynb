{
 "cells": [
  {
   "cell_type": "code",
   "execution_count": 2,
   "metadata": {},
   "outputs": [
    {
     "name": "stdout",
     "output_type": "stream",
     "text": [
      "[[0, 2, 0, 0, 'N'], [0, 2, 0, 1, 'N'], [1, 2, 0, 0, 'Y'], [2, 1, 0, 0, 'Y'], [2, 0, 1, 0, 'Y'], [2, 0, 1, 1, 'N'], [1, 0, 1, 1, 'Y'], [0, 1, 0, 0, 'N'], [0, 0, 1, 0, 'Y'], [2, 1, 1, 0, 'Y'], [0, 1, 1, 1, 'Y'], [1, 1, 0, 1, 'Y'], [1, 2, 1, 0, 'Y'], [2, 1, 0, 1, 'N']]\n",
      "['Age', 'Income', 'Job', 'Credit']\n"
     ]
    }
   ],
   "source": [
    "#朴素贝叶斯算法\n",
    "#构建数据集\n",
    "def createDataSet():\n",
    "    dataSet = [[0, 2, 0, 0, 'N'], \n",
    "               [0, 2, 0, 1, 'N'], \n",
    "               [1, 2, 0, 0, 'Y'], \n",
    "               [2, 1, 0, 0, 'Y'], \n",
    "               [2, 0, 1, 0, 'Y'], \n",
    "               [2, 0, 1, 1, 'N'], \n",
    "               [1, 0, 1, 1, 'Y'],\n",
    "               [0, 1, 0, 0, 'N'], \n",
    "               [0, 0, 1, 0, 'Y'], \n",
    "               [2, 1, 1, 0, 'Y'], \n",
    "               [0, 1, 1, 1, 'Y'], \n",
    "               [1, 1, 0, 1, 'Y'], \n",
    "               [1, 2, 1, 0, 'Y'],\n",
    "               [2, 1, 0, 1, 'N']]\n",
    "    labels = ['Age', 'Income', 'Job', 'Credit']\n",
    "    return dataSet, labels\n",
    "\n",
    "dS1,lab = createDataSet()\n",
    "print(dS1)\n",
    "print(lab)"
   ]
  },
  {
   "cell_type": "code",
   "execution_count": 3,
   "metadata": {},
   "outputs": [
    {
     "name": "stdout",
     "output_type": "stream",
     "text": [
      "分类为Y的频率（概率）:\n",
      "pY= 0.6428571428571429\n",
      "分类为N的频率（概率）:\n",
      "pN= 0.35714285714285715\n"
     ]
    }
   ],
   "source": [
    "#计算样本数据集分类标签为Y/N的概率\n",
    "#参数：dataset-List列表，训练集，包含了样本数据和分类结果\n",
    "#      cls_val-字符，取值为Y/N\n",
    "#返回值：cnt/len(data)-浮点数，训练集中分类标签为cls_vla的频率\n",
    "def Prob(dataset,cls_val):\n",
    "    cnt = 0.0\n",
    "    for e in dataset:\n",
    "#每个样本的第4列为分类标签结果\n",
    "        if e[4] == cls_val:\n",
    "            cnt += 1\n",
    "    return cnt/len(dataset)\n",
    " \n",
    "pY=Prob(dS1,'Y')\n",
    "print('分类为Y的频率（概率）:')\n",
    "print('pY=',pY)\n",
    "pN=Prob(dS1,'N')\n",
    "print('分类为N的频率（概率）:')\n",
    "print('pN=',pN)"
   ]
  },
  {
   "cell_type": "code",
   "execution_count": 4,
   "metadata": {},
   "outputs": [
    {
     "name": "stdout",
     "output_type": "stream",
     "text": [
      "计算分类为Y时，Age属性三个取值的条件概率。\n",
      "三个取值的概率和=1，其他属性的条件概率也符合这个特点。\n",
      "条件概率P(Age<30|Y):\n",
      "pA0conY= 0.2222222222222222\n",
      "条件概率P(30<Age<40|Y):\n",
      "pA1conY= 0.4444444444444444\n",
      "条件概率P(Age>40|Y):\n",
      "pA2conY= 0.3333333333333333\n"
     ]
    }
   ],
   "source": [
    "#计算条件概率\n",
    "#参数：dataset-List列表，训练集，包含了样本数据和分类结果\n",
    "#      cls_val-字符，取值为Y/N\n",
    "#      attr_index-整数，属性序号\n",
    "#      attr_val-整数，属性取值\n",
    "#返回值：cnt2/cnt1-浮点数，条件概率：属性取值|分类结果\n",
    "def ConditionP(dataset,cls_val,attr_index,attr_val):\n",
    "    cnt1 = 0.0\n",
    "    cnt2 = 0.0\n",
    "    for e in dataset:\n",
    "#每个样本的第4列为分类标签结果\n",
    "        if e[4] == cls_val:\n",
    "            cnt1 += 1\n",
    "            if e[attr_index] == attr_val:\n",
    "                cnt2 += 1\n",
    "    return cnt2/cnt1\n",
    "\n",
    "print('计算分类为Y时，Age属性三个取值的条件概率。')\n",
    "print('三个取值的概率和=1，其他属性的条件概率也符合这个特点。')\n",
    "pA0conY=ConditionP(dS1,'Y',0,0)\n",
    "print('条件概率P(Age<30|Y):')\n",
    "print('pA0conY=',pA0conY)\n",
    "pA1conY=ConditionP(dS1,'Y',0,1)\n",
    "print('条件概率P(30<Age<40|Y):')\n",
    "print('pA1conY=',pA1conY)\n",
    "pA2conY=ConditionP(dS1,'Y',0,2)\n",
    "print('条件概率P(Age>40|Y):')\n",
    "print('pA2conY=',pA2conY)"
   ]
  },
  {
   "cell_type": "code",
   "execution_count": 5,
   "metadata": {},
   "outputs": [
    {
     "name": "stdout",
     "output_type": "stream",
     "text": [
      "测试集结果:\n",
      "{'Y': 0.003527336860670194, 'N': 0.04114285714285714}\n"
     ]
    }
   ],
   "source": [
    "#利用先验概率计算后验概率\n",
    "#参数：dataset-List列表，训练集，包含了样本数据和分类结果\n",
    "#      test-List列表，测试样本属性列表\n",
    "#      cls_y,cls_n-字符，分类标签Y，N\n",
    "#返回值：{cls_y:PY,cls_n:PN}-浮点数，先验概率公式1-3的分子部分\n",
    "def NB(dataset,test,cls_y,cls_n):\n",
    "    PY = Prob(dataset,cls_y)\n",
    "    PN = Prob(dataset,cls_n)\n",
    "#对于测试样本test属性取值，计算其公式1-3的分子部分\n",
    "#较大的值对应较大的分类可能\n",
    "    for i, val in enumerate(test):\n",
    "        PY *= ConditionP(dataset,cls_y,i,val)\n",
    "        PN *= ConditionP(dataset,cls_n,i,val)\n",
    "    return {cls_y:PY,cls_n:PN}\n",
    "\n",
    "print('测试集结果:')\n",
    "tsVec = [0, 2, 0, 1]\n",
    "prob=NB(dS1,tsVec,'Y','N')\n",
    "print(prob)"
   ]
  },
  {
   "cell_type": "code",
   "execution_count": 6,
   "metadata": {},
   "outputs": [
    {
     "name": "stdout",
     "output_type": "stream",
     "text": [
      "读入的数据文件首5行：\n",
      "    客户ID  工龄  岗位性质  教育程度  婚姻状态 销售结果\n",
      "0  10001   1     2     1     1    N\n",
      "1  10002   1     2     3     1    N\n",
      "2  10003   1     3     4     1    Y\n",
      "3  10004   4     2     2     1    Y\n",
      "4  10005   1     1     3     2    Y\n",
      "转化后的2维列表前5项：\n",
      "[[1, 2, 1, 1, 'N'], [1, 2, 3, 1, 'N'], [1, 3, 4, 1, 'Y'], [4, 2, 2, 1, 'Y']]\n",
      "['工龄', '工作性质', '教育程度', '婚姻状况']\n"
     ]
    }
   ],
   "source": [
    "import numpy as np\n",
    "import pandas as pd\n",
    "\n",
    "#读取excel文件，将原来二值表格转换为2维列表，用于后续处理\n",
    "#参数：fname-excel文件名\n",
    "#返回值：data2Dlist-2维列表\n",
    "def loadExcel(fname):\n",
    "    data2Dlist=[]\n",
    "    pd1 = pd.read_excel(fname,'Sheet1')\n",
    "    print('读入的数据文件首5行：')\n",
    "    print(pd1.head())\n",
    "    for index ,row in pd1.iterrows():\n",
    "        list1 = row.tolist()\n",
    "        list1.pop(0)\n",
    "        data2Dlist.append(list1)\n",
    "#显示2维列表前5项\n",
    "    print('转化后的2维列表前5项：')\n",
    "    print(data2Dlist[:4])\n",
    "#返回该2维列表\n",
    "    return data2Dlist\n",
    "\n",
    "BMData=loadExcel('ch10_bankMarketing_info.xlsx')\n",
    "BMLabel= ['工龄', '工作性质', '教育程度', '婚姻状况']\n",
    "print(BMLabel)"
   ]
  },
  {
   "cell_type": "code",
   "execution_count": 7,
   "metadata": {},
   "outputs": [
    {
     "name": "stdout",
     "output_type": "stream",
     "text": [
      "理财产品促销客户预测结果:\n",
      "{'Y': 0.0009427609427609427, 'N': 0.0}\n"
     ]
    }
   ],
   "source": [
    "print('理财产品促销客户预测结果:')\n",
    "BMVec = [2, 2, 3, 2]\n",
    "prob=NB(BMData,BMVec,'Y','N')\n",
    "print(prob)"
   ]
  }
 ],
 "metadata": {
  "kernelspec": {
   "display_name": "Python 3",
   "language": "python",
   "name": "python3"
  },
  "language_info": {
   "codemirror_mode": {
    "name": "ipython",
    "version": 3
   },
   "file_extension": ".py",
   "mimetype": "text/x-python",
   "name": "python",
   "nbconvert_exporter": "python",
   "pygments_lexer": "ipython3",
   "version": "3.8.5"
  }
 },
 "nbformat": 4,
 "nbformat_minor": 2
}
