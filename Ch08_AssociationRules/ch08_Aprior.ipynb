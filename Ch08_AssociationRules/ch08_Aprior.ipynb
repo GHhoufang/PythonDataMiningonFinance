{
 "cells": [
  {
   "cell_type": "code",
   "execution_count": 1,
   "metadata": {},
   "outputs": [
    {
     "name": "stdout",
     "output_type": "stream",
     "text": [
      "[[1, 2, 5], [2, 4], [2, 3], [1, 2, 4], [1, 3], [2, 3], [1, 3], [1, 2, 3, 5], [1, 2, 3]]\n"
     ]
    }
   ],
   "source": [
    "#Apriori算法\n",
    "#构建数据集\n",
    "def loadDataSet():\n",
    "    return [[1, 2, 5],[2, 4],[2, 3],[1, 2, 4],[1, 3],[2, 3],[1, 3],[1, 2, 3, 5],[1, 2, 3]]\n",
    "D=loadDataSet()\n",
    "print(D)"
   ]
  },
  {
   "cell_type": "code",
   "execution_count": 2,
   "metadata": {},
   "outputs": [
    {
     "name": "stdout",
     "output_type": "stream",
     "text": [
      "[frozenset({1}), frozenset({2}), frozenset({3}), frozenset({4}), frozenset({5})]\n"
     ]
    }
   ],
   "source": [
    "#扫描loadDataSet返回的事务集，将所有的单项放入C中，构造出单项集\n",
    "#参数：dataset-List列表，事务集e\n",
    "#返回值：List-冻结后的单项集列表\n",
    "def createC1(dataSet):\n",
    "    C = []\n",
    "    for transaction in dataSet:\n",
    "        for item in transaction:\n",
    "            if [ item ] not in C:\n",
    "                C.append([item])\n",
    "    C.sort()\n",
    "#调用frozenset函数将单项集列表冻结,返回冻结单项集列表\n",
    "#如果直接返回C，则C里面的元素不能够直接在后续代码里进行issubset,\n",
    "#或者做为字典的键使用。\n",
    "    return list(map(frozenset,C))\n",
    "    \n",
    "C1=createC1(D)\n",
    "print(C1)"
   ]
  },
  {
   "cell_type": "code",
   "execution_count": 3,
   "metadata": {},
   "outputs": [
    {
     "name": "stdout",
     "output_type": "stream",
     "text": [
      "[frozenset({3}), frozenset({4}), frozenset({5}), frozenset({2}), frozenset({1})]\n",
      "{frozenset({1}): 0.6666666666666666, frozenset({2}): 0.7777777777777778, frozenset({5}): 0.2222222222222222, frozenset({4}): 0.2222222222222222, frozenset({3}): 0.6666666666666666}\n"
     ]
    }
   ],
   "source": [
    "#根据minSupport参数设定的最小支持度，计\n",
    "#算Ck的项集在原始记录D中的支持度，\n",
    "#返回满足最小支持度的项集集合，以及所有项集支持度的字典\n",
    "#参数：D-List列表，事务集\n",
    "#     Ck-List列表，候选项集\n",
    "#     minSupport-浮点数，最小支持度阈值\n",
    "#返回值：retList-List列表，满足最小支持度要求的项集\n",
    "#       supportData-Dict字典，项集对应的支持度\n",
    "def scanD(D, Ck, minSupport):\n",
    "    ssCnt = {}\n",
    "# 对于每一个候选项集can，检查是否是D的一部分\n",
    "# 即该候选can是否得到transaction的支持\n",
    "    for tid in D:\n",
    "        for can in Ck:     \n",
    "            if can.issubset(tid):\n",
    "                ssCnt[can] = ssCnt.get(can, 0) + 1\n",
    "    numItems = float(len(D))\n",
    "    retList = []\n",
    "    supportData = {}\n",
    "    for key in ssCnt:\n",
    "#每个项集的支持度\n",
    "        support = ssCnt[key] / numItems       \n",
    "#将满足最小支持度的项集，加入retList\n",
    "        if support >= minSupport:\n",
    "            retList.insert(0, key)            \n",
    "#汇总支持度数据\n",
    "        supportData[key] = support\n",
    "    return retList, supportData\n",
    "\n",
    "ret1,suD = scanD(loadDataSet(),createC1(loadDataSet()),0.22)\n",
    "print(ret1)\n",
    "print(suD)"
   ]
  },
  {
   "cell_type": "code",
   "execution_count": 4,
   "metadata": {},
   "outputs": [
    {
     "name": "stdout",
     "output_type": "stream",
     "text": [
      "[frozenset({1, 2}), frozenset({1, 3}), frozenset({1, 4}), frozenset({1, 5}), frozenset({2, 3}), frozenset({2, 4}), frozenset({2, 5}), frozenset({3, 4}), frozenset({3, 5}), frozenset({4, 5})]\n",
      "[frozenset({1, 2, 3}), frozenset({1, 2, 4}), frozenset({1, 2, 5}), frozenset({1, 3, 4}), frozenset({1, 3, 5}), frozenset({1, 4, 5}), frozenset({2, 3, 4}), frozenset({2, 3, 5}), frozenset({2, 4, 5}), frozenset({3, 4, 5})]\n"
     ]
    }
   ],
   "source": [
    "#由初始候选项集的集合Ck生成新的候选项集，\n",
    "#参数：Ck-List列表，k-1项集\n",
    "#      k-整数，要生成的候选项集中的每项包含的元素个数\n",
    "#返回值：retList-List列表，新生成的候选k项集\n",
    "def aprioriGen(Ck, k):\n",
    "    retList = []\n",
    "    lenCk = len(Ck)\n",
    "#以下的Ck[i]与Ck[j]均包含k-1个项，如果它们的前k-2项相同，\n",
    "#则通过或运算将其拼接为一个包含k项的列表元素，加入到retList中\n",
    " # for i in range( lenLk ):\n",
    "    #     for j in range( i + 1, lenLk ):\n",
    "    #         L1 = list( Lk[ i ] )[ : k - 2 ];\n",
    "    #         L2 = list( Lk[ j ] )[ : k - 2 ];\n",
    "    #         L1.sort();L2.sort()\n",
    "    #         if L1 == L2:\n",
    "    #             retList.append( Lk[ i ] | Lk[ j ] ) \n",
    "    for i in range( lenCk ):\n",
    "        for j in range( i + 1, lenCk ):\n",
    "            L1 = Ck[i]|Ck[j]\n",
    "            if(len(L1)==k):\n",
    "                if L1 not in retList:\n",
    "                    retList.append( L1 ) \n",
    "    return retList\n",
    "\n",
    "ret2=aprioriGen(C1, 2)\n",
    "print(ret2)\n",
    "\n",
    "ret3=aprioriGen(ret2,3)\n",
    "print(ret3)"
   ]
  },
  {
   "cell_type": "code",
   "execution_count": 5,
   "metadata": {},
   "outputs": [
    {
     "name": "stdout",
     "output_type": "stream",
     "text": [
      "L:[[frozenset({3}), frozenset({4}), frozenset({5}), frozenset({2}), frozenset({1})], [frozenset({1, 3}), frozenset({2, 3}), frozenset({2, 4}), frozenset({1, 2}), frozenset({1, 5}), frozenset({2, 5})]]\n",
      "L:[[frozenset({3}), frozenset({4}), frozenset({5}), frozenset({2}), frozenset({1})], [frozenset({1, 3}), frozenset({2, 3}), frozenset({2, 4}), frozenset({1, 2}), frozenset({1, 5}), frozenset({2, 5})], [frozenset({1, 2, 3}), frozenset({1, 2, 5})]]\n",
      "L:[[frozenset({3}), frozenset({4}), frozenset({5}), frozenset({2}), frozenset({1})], [frozenset({1, 3}), frozenset({2, 3}), frozenset({2, 4}), frozenset({1, 2}), frozenset({1, 5}), frozenset({2, 5})], [frozenset({1, 2, 3}), frozenset({1, 2, 5})], []]\n",
      "The final support rate is {frozenset({1}): 0.6666666666666666, frozenset({2}): 0.7777777777777778, frozenset({5}): 0.2222222222222222, frozenset({4}): 0.2222222222222222, frozenset({3}): 0.6666666666666666, frozenset({2, 5}): 0.2222222222222222, frozenset({1, 5}): 0.2222222222222222, frozenset({1, 2}): 0.4444444444444444, frozenset({2, 4}): 0.2222222222222222, frozenset({2, 3}): 0.4444444444444444, frozenset({1, 4}): 0.1111111111111111, frozenset({1, 3}): 0.4444444444444444, frozenset({3, 5}): 0.1111111111111111, frozenset({1, 2, 5}): 0.2222222222222222, frozenset({1, 2, 4}): 0.1111111111111111, frozenset({1, 2, 3}): 0.2222222222222222, frozenset({1, 3, 5}): 0.1111111111111111, frozenset({2, 3, 5}): 0.1111111111111111, frozenset({1, 2, 3, 5}): 0.1111111111111111}\n"
     ]
    }
   ],
   "source": [
    "#根据minSupport参数设定的最小支持度，返回所有满足最小支持度的项集，\n",
    "#参数：D-List列表，事务集\n",
    "#     minSupport-浮点数，最小支持度阈值\n",
    "#返回值：L-List列表，所有满足最小支持度要求的项集\n",
    "#       supportData-Dict字典，项集对应的支持度\n",
    "def apriori(D, minSupport):\n",
    "    C1=createC1(D)\n",
    "    L1, suppData = scanD(D, C1, minSupport)\n",
    "    L = [L1]\n",
    "#最初的L1中的每个项集含有一个元素，\n",
    "#新生成的项集应该含有2个元素，所以 k=2\n",
    "    k = 2    \n",
    "    while (len(L[k-2]) > 0):\n",
    "        Ck = aprioriGen(L[k-2], k)\n",
    "        Lk, supK = scanD(D, Ck, minSupport)        \n",
    "#将新的项集的支持度数据加入原来的总支持度字典中\n",
    "        suppData.update(supK)        \n",
    "#将符合最小支持度要求的项集加入L\n",
    "        L.append(Lk)\n",
    "        print(\"L:%s\" %L)\n",
    "#新生成的项集中的元素个数应不断增加\n",
    "        k += 1\n",
    "#返回所有满足条件的频繁项集的列表，和所有候选项集的支持度信息\n",
    "    return L, suppData\n",
    "\n",
    "L1,suD2=apriori(D,0.22)\n",
    "print(\"The final support rate is %s\" %suD2)"
   ]
  },
  {
   "cell_type": "code",
   "execution_count": 6,
   "metadata": {},
   "outputs": [],
   "source": [
    "#计算规则的置信度 \n",
    "#参数：freqSet-frozenset不可变集合，频繁项集\n",
    "#     H-不可变集合，freqSet中的子集\n",
    "#       freqSet本身是一个项集（例如2，3项集），将其子集提取出来计算置信度\n",
    "#     supportData-dic字典，频繁项集中所有元素的支持度\n",
    "#     brl-tuple元组，满足可信度条件的关联规则\n",
    "#     minConf-浮点数，最小置信度阈值，默认值0.7\n",
    "#返回值：prunedH-List列表，满足最小置信度要求的规则\n",
    "def calcConf(freqSet, H, supportData, brl, minConf=0.7):\n",
    "    prunedH = []\n",
    "    for conseq in H:\n",
    "        conf = supportData[freqSet] / supportData[freqSet - conseq]\n",
    "        if conf >= minConf:\n",
    "            print(freqSet - conseq, '-->', conseq, 'conf:', conf)\n",
    "            brl.append((freqSet - conseq, conseq, conf))\n",
    "            prunedH.append(conseq)\n",
    "    return prunedH"
   ]
  },
  {
   "cell_type": "code",
   "execution_count": 7,
   "metadata": {},
   "outputs": [
    {
     "name": "stdout",
     "output_type": "stream",
     "text": [
      "frozenset({3}) --> frozenset({1}) conf: 0.6666666666666666\n",
      "frozenset({1}) --> frozenset({3}) conf: 0.6666666666666666\n",
      "frozenset({3}) --> frozenset({2}) conf: 0.6666666666666666\n",
      "frozenset({2}) --> frozenset({3}) conf: 0.5714285714285714\n",
      "frozenset({4}) --> frozenset({2}) conf: 1.0\n",
      "frozenset({2}) --> frozenset({4}) conf: 0.2857142857142857\n",
      "frozenset({2}) --> frozenset({1}) conf: 0.5714285714285714\n",
      "frozenset({1}) --> frozenset({2}) conf: 0.6666666666666666\n",
      "frozenset({5}) --> frozenset({1}) conf: 1.0\n",
      "frozenset({1}) --> frozenset({5}) conf: 0.3333333333333333\n",
      "frozenset({5}) --> frozenset({2}) conf: 1.0\n",
      "frozenset({2}) --> frozenset({5}) conf: 0.2857142857142857\n",
      "frozenset({3}) --> frozenset({1, 2}) conf: 0.3333333333333333\n",
      "frozenset({2}) --> frozenset({1, 3}) conf: 0.2857142857142857\n",
      "frozenset({1}) --> frozenset({2, 3}) conf: 0.3333333333333333\n",
      "frozenset({5}) --> frozenset({1, 2}) conf: 1.0\n",
      "frozenset({2}) --> frozenset({1, 5}) conf: 0.2857142857142857\n",
      "frozenset({1}) --> frozenset({2, 5}) conf: 0.3333333333333333\n"
     ]
    }
   ],
   "source": [
    "#对频繁项集中元素超过2的项集进行合并,生成关联规则\n",
    "#参数：freqSet-frozenset不可变集合，频繁项集\n",
    "#     H-不可变集合，freqSet中的子集\n",
    "#       freqSet本身是一个项集（例如2，3项集），将其子集提取出来计算置信度\n",
    "#     supportData-dic字典，频繁项集中所有元素的支持度\n",
    "#     brl-tuple元组，满足可信度条件的关联规则\n",
    "#     minConf-浮点数，最小置信度阈值，默认值0.7\n",
    "def rulesFromConseq(freqSet, H, supportData, brl, minConf=0.7):\n",
    "    m = len(H[0])  \n",
    "#检查频繁项集是否大到移除大小为 m的子集\n",
    "    if len(freqSet) > m+1:\n",
    "        Hmp1 = aprioriGen(H, m+1)\n",
    "        Hmp1 = calcConf(freqSet, Hmp1, supportData, brl, minConf)\n",
    "#如果不止一条规则满足要求，进一步递归合并\n",
    "        if len(Hmp1) > 1:\n",
    "            rulesFromConseq(freqSet, Hmp1, supportData, brl, minConf)\n",
    "\n",
    "#根据频繁项集和最小可信度生成规则\n",
    "#参数：L-list,列表，频繁项集\n",
    "#     supportData-dict字典，所有项集（不仅仅是频繁项集）的支持度\n",
    "#     minConf-浮点数，最小置信度阈值，默认值0.7\n",
    "#返回值：bigRuleList-List列表，满足最小置信度要求的规则\n",
    "def generateRules(L, supportData, minConf=0.7):\n",
    "    bigRuleList = []\n",
    "    for i in range(1, len(L)):\n",
    "        for freqSet in L[i]:\n",
    "#对于每一个频繁项集的集合freqSet\n",
    "            H1 = [frozenset([item]) for item in freqSet]\n",
    "#如果频繁项集中的元素个数大于2，需要进一步合并\n",
    "            if i >1:\n",
    "                rulesFromConseq(freqSet, H1, supportData, bigRuleList, minConf)\n",
    "            else:\n",
    "                calcConf(freqSet, H1, supportData, bigRuleList, minConf)\n",
    "    return bigRuleList\n",
    "\n",
    "bRlist = generateRules(L1,suD2,0.1)"
   ]
  },
  {
   "cell_type": "code",
   "execution_count": 8,
   "metadata": {},
   "outputs": [
    {
     "name": "stdout",
     "output_type": "stream",
     "text": [
      "L:[[frozenset({3}), frozenset({4}), frozenset({5}), frozenset({2}), frozenset({1})], [frozenset({1, 3}), frozenset({2, 3}), frozenset({2, 4}), frozenset({1, 2}), frozenset({1, 5}), frozenset({2, 5})]]\n",
      "L:[[frozenset({3}), frozenset({4}), frozenset({5}), frozenset({2}), frozenset({1})], [frozenset({1, 3}), frozenset({2, 3}), frozenset({2, 4}), frozenset({1, 2}), frozenset({1, 5}), frozenset({2, 5})], [frozenset({1, 2, 3}), frozenset({1, 2, 5})]]\n",
      "L:[[frozenset({3}), frozenset({4}), frozenset({5}), frozenset({2}), frozenset({1})], [frozenset({1, 3}), frozenset({2, 3}), frozenset({2, 4}), frozenset({1, 2}), frozenset({1, 5}), frozenset({2, 5})], [frozenset({1, 2, 3}), frozenset({1, 2, 5})], []]\n",
      "频繁项集L： [[frozenset({3}), frozenset({4}), frozenset({5}), frozenset({2}), frozenset({1})], [frozenset({1, 3}), frozenset({2, 3}), frozenset({2, 4}), frozenset({1, 2}), frozenset({1, 5}), frozenset({2, 5})], [frozenset({1, 2, 3}), frozenset({1, 2, 5})], []]\n",
      "所有候选项集的支持度信息： {frozenset({1}): 0.6666666666666666, frozenset({2}): 0.7777777777777778, frozenset({5}): 0.2222222222222222, frozenset({4}): 0.2222222222222222, frozenset({3}): 0.6666666666666666, frozenset({2, 5}): 0.2222222222222222, frozenset({1, 5}): 0.2222222222222222, frozenset({1, 2}): 0.4444444444444444, frozenset({2, 4}): 0.2222222222222222, frozenset({2, 3}): 0.4444444444444444, frozenset({1, 4}): 0.1111111111111111, frozenset({1, 3}): 0.4444444444444444, frozenset({3, 5}): 0.1111111111111111, frozenset({1, 2, 5}): 0.2222222222222222, frozenset({1, 2, 4}): 0.1111111111111111, frozenset({1, 2, 3}): 0.2222222222222222, frozenset({1, 3, 5}): 0.1111111111111111, frozenset({2, 3, 5}): 0.1111111111111111, frozenset({1, 2, 3, 5}): 0.1111111111111111}\n",
      "所有规则的置信度信息：\n",
      "frozenset({3}) --> frozenset({1}) conf: 0.6666666666666666\n",
      "frozenset({1}) --> frozenset({3}) conf: 0.6666666666666666\n",
      "frozenset({3}) --> frozenset({2}) conf: 0.6666666666666666\n",
      "frozenset({2}) --> frozenset({3}) conf: 0.5714285714285714\n",
      "frozenset({4}) --> frozenset({2}) conf: 1.0\n",
      "frozenset({2}) --> frozenset({4}) conf: 0.2857142857142857\n",
      "frozenset({2}) --> frozenset({1}) conf: 0.5714285714285714\n",
      "frozenset({1}) --> frozenset({2}) conf: 0.6666666666666666\n",
      "frozenset({5}) --> frozenset({1}) conf: 1.0\n",
      "frozenset({1}) --> frozenset({5}) conf: 0.3333333333333333\n",
      "frozenset({5}) --> frozenset({2}) conf: 1.0\n",
      "frozenset({2}) --> frozenset({5}) conf: 0.2857142857142857\n",
      "frozenset({3}) --> frozenset({1, 2}) conf: 0.3333333333333333\n",
      "frozenset({2}) --> frozenset({1, 3}) conf: 0.2857142857142857\n",
      "frozenset({1}) --> frozenset({2, 3}) conf: 0.3333333333333333\n",
      "frozenset({5}) --> frozenset({1, 2}) conf: 1.0\n",
      "frozenset({2}) --> frozenset({1, 5}) conf: 0.2857142857142857\n",
      "frozenset({1}) --> frozenset({2, 5}) conf: 0.3333333333333333\n"
     ]
    }
   ],
   "source": [
    "if __name__ == '__main__':   \n",
    "    # 导入数据集\n",
    "    myDat = loadDataSet()    \n",
    "# 选择频繁项集\n",
    "# 选择出支持度不小于2项（共9笔交易，因此支持率为0.22） 的项集作为频繁项集\n",
    "    L, suppData = apriori(myDat, 0.22)\n",
    "    print(\"频繁项集L：\", L)\n",
    "    print(\"所有候选项集的支持度信息：\", suppData)\n",
    "    print(\"所有规则的置信度信息：\")\n",
    "    rules = generateRules(L1,suppData,0.1)"
   ]
  },
  {
   "cell_type": "code",
   "execution_count": 9,
   "metadata": {},
   "outputs": [
    {
     "name": "stdout",
     "output_type": "stream",
     "text": [
      "读入的数据文件首5行：\n",
      "      ID  gs  ny  zg  js  jt  yc  zs\n",
      "0  10001   1   0   1   1   0   0   1\n",
      "1  10002   1   1   1   0   1   1   0\n",
      "2  10003   0   0   1   0   0   1   1\n",
      "3  10004   0   0   0   0   1   0   1\n",
      "4  10005   0   0   0   0   1   1   0\n",
      "1转为发卡行名后的数据文件首5行：\n",
      "      ID  gs  ny  zg  js  jt  yc  zs\n",
      "0  10001  gs   0  zg  js   0   0  zs\n",
      "1  10002  gs  ny  zg   0  jt  yc   0\n",
      "2  10003   0   0  zg   0   0  yc  zs\n",
      "3  10004   0   0   0   0  jt   0  zs\n",
      "4  10005   0   0   0   0  jt  yc   0\n",
      "转化后的2维列表前5项：\n",
      "[['gs', 'zg', 'js', 'zs'], ['gs', 'ny', 'zg', 'jt', 'yc'], ['zg', 'yc', 'zs'], ['jt', 'zs']]\n"
     ]
    }
   ],
   "source": [
    "import numpy as np\n",
    "import pandas as pd\n",
    "\n",
    "#对原始数据进行预处理，原来用0/1表示是否有该银行的信用卡\n",
    "#本函数将1转换为银行名字缩写\n",
    "#参数：val-原0/1值，表示没有/拥有该行信用卡\n",
    "#     colname-读入的dataframe的列名（发卡行缩写）\n",
    "#返回值：列名（即发卡行缩写），或者0\n",
    "def val2colindex(val,colname):\n",
    "    if(val==1):\n",
    "        return colname\n",
    "    else:\n",
    "        return 0\n",
    "\n",
    "#读取excel文件，将原来二值表格转换为2维列表，用于后续处理\n",
    "#参数：fname-excel文件名\n",
    "#返回值：data2Dlist-2维列表\n",
    "def loadExcel(fname):\n",
    "    data2Dlist=[]\n",
    "    pd1 = pd.read_excel(fname,'Sheet1')\n",
    "    print('读入的数据文件首5行：')\n",
    "    print(pd1.head())\n",
    "#将值1转化为列名（即发卡行缩写）\n",
    "    for cn in pd1.columns:\n",
    "        if(cn!='ID'):\n",
    "            pd1[cn]=pd1[cn].apply(lambda val:val2colindex(val,cn))\n",
    "    print('1转为发卡行名后的数据文件首5行：')\n",
    "    print(pd1.head())\n",
    "#将每行转化为一个列表，将ID和0值删去\n",
    "    for index ,row in pd1.iterrows():\n",
    "        list1 = row.tolist()\n",
    "        list1.pop(0)\n",
    "        while 0 in list1:\n",
    "            list1.remove(0)\n",
    "        data2Dlist.append(list1)\n",
    "#显示2维列表前5项\n",
    "    print('转化后的2维列表前5项：')\n",
    "    print(data2Dlist[:4])\n",
    "#返回该2维列表\n",
    "    return data2Dlist\n",
    "\n",
    "myData1=loadExcel('ch09_creditcard_info.xlsx')"
   ]
  },
  {
   "cell_type": "code",
   "execution_count": 10,
   "metadata": {},
   "outputs": [
    {
     "name": "stdout",
     "output_type": "stream",
     "text": [
      "L:[[frozenset({'yc'}), frozenset({'ny'}), frozenset({'jt'}), frozenset({'zs'}), frozenset({'zg'}), frozenset({'js'}), frozenset({'gs'})], [frozenset({'zs', 'ny'}), frozenset({'yc', 'js'}), frozenset({'js', 'jt'}), frozenset({'zs', 'jt'}), frozenset({'zs', 'yc'}), frozenset({'gs', 'jt'}), frozenset({'zg', 'jt'}), frozenset({'gs', 'ny'}), frozenset({'ny', 'zg'}), frozenset({'ny', 'jt'}), frozenset({'gs', 'yc'}), frozenset({'yc', 'zg'}), frozenset({'yc', 'jt'}), frozenset({'ny', 'yc'}), frozenset({'gs', 'js'}), frozenset({'gs', 'zg'}), frozenset({'gs', 'zs'}), frozenset({'zs', 'zg'})]]\n",
      "L:[[frozenset({'yc'}), frozenset({'ny'}), frozenset({'jt'}), frozenset({'zs'}), frozenset({'zg'}), frozenset({'js'}), frozenset({'gs'})], [frozenset({'zs', 'ny'}), frozenset({'yc', 'js'}), frozenset({'js', 'jt'}), frozenset({'zs', 'jt'}), frozenset({'zs', 'yc'}), frozenset({'gs', 'jt'}), frozenset({'zg', 'jt'}), frozenset({'gs', 'ny'}), frozenset({'ny', 'zg'}), frozenset({'ny', 'jt'}), frozenset({'gs', 'yc'}), frozenset({'yc', 'zg'}), frozenset({'yc', 'jt'}), frozenset({'ny', 'yc'}), frozenset({'gs', 'js'}), frozenset({'gs', 'zg'}), frozenset({'gs', 'zs'}), frozenset({'zs', 'zg'})], [frozenset({'gs', 'zs', 'jt'}), frozenset({'zs', 'ny', 'jt'})]]\n",
      "L:[[frozenset({'yc'}), frozenset({'ny'}), frozenset({'jt'}), frozenset({'zs'}), frozenset({'zg'}), frozenset({'js'}), frozenset({'gs'})], [frozenset({'zs', 'ny'}), frozenset({'yc', 'js'}), frozenset({'js', 'jt'}), frozenset({'zs', 'jt'}), frozenset({'zs', 'yc'}), frozenset({'gs', 'jt'}), frozenset({'zg', 'jt'}), frozenset({'gs', 'ny'}), frozenset({'ny', 'zg'}), frozenset({'ny', 'jt'}), frozenset({'gs', 'yc'}), frozenset({'yc', 'zg'}), frozenset({'yc', 'jt'}), frozenset({'ny', 'yc'}), frozenset({'gs', 'js'}), frozenset({'gs', 'zg'}), frozenset({'gs', 'zs'}), frozenset({'zs', 'zg'})], [frozenset({'gs', 'zs', 'jt'}), frozenset({'zs', 'ny', 'jt'})], []]\n",
      "[[frozenset({'yc'}), frozenset({'ny'}), frozenset({'jt'}), frozenset({'zs'}), frozenset({'zg'}), frozenset({'js'}), frozenset({'gs'})], [frozenset({'zs', 'ny'}), frozenset({'yc', 'js'}), frozenset({'js', 'jt'}), frozenset({'zs', 'jt'}), frozenset({'zs', 'yc'}), frozenset({'gs', 'jt'}), frozenset({'zg', 'jt'}), frozenset({'gs', 'ny'}), frozenset({'ny', 'zg'}), frozenset({'ny', 'jt'}), frozenset({'gs', 'yc'}), frozenset({'yc', 'zg'}), frozenset({'yc', 'jt'}), frozenset({'ny', 'yc'}), frozenset({'gs', 'js'}), frozenset({'gs', 'zg'}), frozenset({'gs', 'zs'}), frozenset({'zs', 'zg'})], [frozenset({'gs', 'zs', 'jt'}), frozenset({'zs', 'ny', 'jt'})], []]\n",
      "{frozenset({'gs'}): 0.5, frozenset({'js'}): 0.44, frozenset({'zg'}): 0.44, frozenset({'zs'}): 0.56, frozenset({'jt'}): 0.68, frozenset({'ny'}): 0.54, frozenset({'yc'}): 0.48, frozenset({'zs', 'zg'}): 0.28, frozenset({'zs', 'js'}): 0.2, frozenset({'gs', 'zs'}): 0.32, frozenset({'zg', 'js'}): 0.2, frozenset({'gs', 'zg'}): 0.26, frozenset({'gs', 'js'}): 0.22, frozenset({'ny', 'yc'}): 0.22, frozenset({'yc', 'jt'}): 0.3, frozenset({'yc', 'zg'}): 0.22, frozenset({'gs', 'yc'}): 0.26, frozenset({'ny', 'jt'}): 0.4, frozenset({'ny', 'zg'}): 0.22, frozenset({'gs', 'ny'}): 0.22, frozenset({'zg', 'jt'}): 0.28, frozenset({'gs', 'jt'}): 0.36, frozenset({'zs', 'yc'}): 0.24, frozenset({'zs', 'jt'}): 0.4, frozenset({'ny', 'js'}): 0.2, frozenset({'js', 'jt'}): 0.26, frozenset({'yc', 'js'}): 0.22, frozenset({'zs', 'ny'}): 0.3, frozenset({'gs', 'js', 'zg'}): 0.12, frozenset({'gs', 'zs', 'js'}): 0.12, frozenset({'gs', 'zs', 'zg'}): 0.14, frozenset({'gs', 'zg', 'jt'}): 0.16, frozenset({'gs', 'ny', 'jt'}): 0.2, frozenset({'gs', 'yc', 'jt'}): 0.18, frozenset({'ny', 'zg', 'jt'}): 0.16, frozenset({'zg', 'yc', 'jt'}): 0.12, frozenset({'gs', 'ny', 'zg'}): 0.1, frozenset({'gs', 'ny', 'yc'}): 0.1, frozenset({'ny', 'yc', 'zg'}): 0.12, frozenset({'ny', 'yc', 'jt'}): 0.14, frozenset({'gs', 'yc', 'zg'}): 0.14, frozenset({'zs', 'yc', 'zg'}): 0.14, frozenset({'ny', 'js', 'jt'}): 0.14, frozenset({'jt', 'yc', 'js'}): 0.1, frozenset({'gs', 'yc', 'js'}): 0.14, frozenset({'gs', 'js', 'jt'}): 0.12, frozenset({'yc', 'zg', 'js'}): 0.12, frozenset({'js', 'zg', 'jt'}): 0.12, frozenset({'zs', 'ny', 'jt'}): 0.24, frozenset({'zs', 'ny', 'yc'}): 0.14, frozenset({'zs', 'ny', 'zg'}): 0.14, frozenset({'zs', 'yc', 'js'}): 0.1, frozenset({'ny', 'yc', 'js'}): 0.08, frozenset({'zs', 'js', 'jt'}): 0.1, frozenset({'zs', 'yc', 'jt'}): 0.16, frozenset({'zs', 'zg', 'jt'}): 0.18, frozenset({'gs', 'zs', 'jt'}): 0.24, frozenset({'gs', 'zs', 'ny'}): 0.14, frozenset({'gs', 'zs', 'yc'}): 0.16, frozenset({'gs', 'ny', 'js'}): 0.06, frozenset({'gs', 'ny', 'jt', 'zs'}): 0.12}\n"
     ]
    }
   ],
   "source": [
    "L1,suD2=apriori(myData1,0.22)\n",
    "print(L1)\n",
    "print(suD2)"
   ]
  },
  {
   "cell_type": "code",
   "execution_count": 11,
   "metadata": {},
   "outputs": [
    {
     "name": "stdout",
     "output_type": "stream",
     "text": [
      "frozenset({'zs'}) --> frozenset({'jt'}) conf: 0.7142857142857143\n",
      "frozenset({'gs'}) --> frozenset({'jt'}) conf: 0.72\n",
      "frozenset({'zg'}) --> frozenset({'jt'}) conf: 0.6363636363636365\n",
      "frozenset({'ny'}) --> frozenset({'jt'}) conf: 0.7407407407407407\n",
      "frozenset({'yc'}) --> frozenset({'jt'}) conf: 0.625\n",
      "frozenset({'gs'}) --> frozenset({'zs'}) conf: 0.64\n",
      "frozenset({'zg'}) --> frozenset({'zs'}) conf: 0.6363636363636365\n"
     ]
    }
   ],
   "source": [
    "bRlist = generateRules(L1,suD2,0.6)"
   ]
  },
  {
   "cell_type": "code",
   "execution_count": null,
   "metadata": {},
   "outputs": [],
   "source": []
  }
 ],
 "metadata": {
  "kernelspec": {
   "display_name": "Python 3",
   "language": "python",
   "name": "python3"
  },
  "language_info": {
   "codemirror_mode": {
    "name": "ipython",
    "version": 3
   },
   "file_extension": ".py",
   "mimetype": "text/x-python",
   "name": "python",
   "nbconvert_exporter": "python",
   "pygments_lexer": "ipython3",
   "version": "3.7.4"
  }
 },
 "nbformat": 4,
 "nbformat_minor": 2
}
