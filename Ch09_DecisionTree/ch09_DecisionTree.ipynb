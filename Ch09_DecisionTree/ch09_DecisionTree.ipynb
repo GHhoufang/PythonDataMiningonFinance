{
 "cells": [
  {
   "cell_type": "code",
   "execution_count": 1,
   "metadata": {},
   "outputs": [],
   "source": [
    "#本Cell代码用于绘制决策树图形，非本教材重点\n",
    "#供感兴趣的读者参考，\n",
    "#决策树构造核心代码从下一cell开始\n",
    "import matplotlib.pyplot as plt\n",
    "from math import log\n",
    "import operator\n",
    "\n",
    "#图表内嵌中文字体问题\n",
    "plt.rcParams['font.sans-serif']=['SimHei']\n",
    "plt.rcParams['axes.unicode_minus'] = False \n",
    "\n",
    "decisionNode = {'boxstyle':'sawtooth', 'fc':'0.8'}\n",
    "leafNode = {'boxstyle':'round4', 'fc':'0.8'}\n",
    "arrow_args = {'arrowstyle':'<-'}\n",
    "\n",
    "def plotNode(nodeTxt, centerPt, parentPt, nodeType):\n",
    "    createPlot.ax1.annotate(nodeTxt, xy=parentPt, xycoords='axes fraction', \\\n",
    "                            xytext=centerPt, textcoords='axes fraction', \\\n",
    "                            va=\"center\", ha=\"center\", bbox=nodeType, arrowprops=arrow_args)\n",
    "\n",
    "def getNumLeafs(myTree):\n",
    "    numLeafs = 0\n",
    "    firstStr = list(myTree.keys())[0]\n",
    "    secondDict = myTree[firstStr]\n",
    "    for key in secondDict.keys():\n",
    "        if type(secondDict[key]).__name__ == 'dict':\n",
    "            numLeafs += getNumLeafs(secondDict[key])\n",
    "        else:\n",
    "            numLeafs += 1\n",
    "    return numLeafs\n",
    "\n",
    "def getTreeDepth(myTree):\n",
    "    maxDepth = 0\n",
    "    firstStr = list(myTree.keys())[0]\n",
    "    secondDict = myTree[firstStr]\n",
    "    for key in secondDict.keys():\n",
    "        if type(secondDict[key]).__name__ == 'dict':\n",
    "            thisDepth = getTreeDepth(secondDict[key]) + 1\n",
    "        else:\n",
    "            thisDepth = 1\n",
    "        if thisDepth > maxDepth:\n",
    "            maxDepth = thisDepth\n",
    "    return maxDepth\n",
    "\n",
    "def plotMidText(cntrPt, parentPt, txtString):\n",
    "    xMid = (parentPt[0] - cntrPt[0]) / 2.0 + cntrPt[0]\n",
    "    yMid = (parentPt[1] - cntrPt[1]) / 2.0 + cntrPt[1]\n",
    "    createPlot.ax1.text(xMid, yMid, txtString)\n",
    "\n",
    "def plotTree(myTree, parentPt, nodeTxt):\n",
    "    numLeafs = getNumLeafs(myTree)\n",
    "    depth = getTreeDepth(myTree)\n",
    "    firstStr = list(myTree.keys())[0]\n",
    "    cntrPt = (plotTree.xOff + (1.0 + float(numLeafs)) / 2.0 / plotTree.totalw, plotTree.yOff)\n",
    "    plotMidText(cntrPt, parentPt, nodeTxt)\n",
    "    plotNode(firstStr, cntrPt, parentPt, decisionNode)\n",
    "    secondDict = myTree[firstStr]\n",
    "    plotTree.yOff = plotTree.yOff - 1.0 / plotTree.totalD\n",
    "    for key in secondDict.keys():\n",
    "        if type(secondDict[key]).__name__ == 'dict':\n",
    "            plotTree(secondDict[key], cntrPt, str(key))\n",
    "        else:\n",
    "            plotTree.xOff = plotTree.xOff + 1.0 / plotTree.totalw\n",
    "            plotNode(secondDict[key], (plotTree.xOff, plotTree.yOff), cntrPt, leafNode)\n",
    "            plotMidText((plotTree.xOff, plotTree.yOff), cntrPt, str(key))\n",
    "    plotTree.yOff = plotTree.yOff + 1.0 / plotTree.totalD\n",
    "\n",
    "def createPlot(inTree):\n",
    "    fig = plt.figure(1, facecolor='white')\n",
    "    fig.clf()\n",
    "    #axprops = {'xticks'=[], 'yticks'=[]}\n",
    "    #createPlot.ax1 = plt.subplot(111, frameon=False, **axprops)\n",
    "    createPlot.ax1 = plt.subplot(111)\n",
    "    plotTree.totalw = float(getNumLeafs(inTree))\n",
    "    plotTree.totalD = float(getTreeDepth(inTree))\n",
    "    plotTree.xOff = -0.5 / plotTree.totalw\n",
    "    plotTree.yOff = 1.0\n",
    "    plotTree(inTree, (0.5, 1.0), '')\n",
    "    plt.savefig('决策树.png',dpi=300, bbox_inches='tight')\n",
    "    plt.show()"
   ]
  },
  {
   "cell_type": "code",
   "execution_count": 2,
   "metadata": {},
   "outputs": [
    {
     "name": "stdout",
     "output_type": "stream",
     "text": [
      "[[0, 2, 0, 0, 'N'], [0, 2, 0, 1, 'N'], [1, 2, 0, 0, 'Y'], [2, 1, 0, 0, 'Y'], [2, 0, 1, 0, 'Y'], [2, 0, 1, 1, 'N'], [1, 0, 1, 1, 'Y'], [0, 1, 0, 0, 'N'], [0, 0, 1, 0, 'Y'], [2, 1, 1, 0, 'Y'], [0, 1, 1, 1, 'Y'], [1, 1, 0, 1, 'Y'], [1, 2, 1, 0, 'Y'], [2, 1, 0, 1, 'N']]\n",
      "['Age', 'Income', 'Job', 'Credit']\n"
     ]
    }
   ],
   "source": [
    "#DecsionTree算法\n",
    "#构建数据集\n",
    "def createDataSet():\n",
    "    dataSet = [[0, 2, 0, 0, 'N'], \n",
    "               [0, 2, 0, 1, 'N'], \n",
    "               [1, 2, 0, 0, 'Y'], \n",
    "               [2, 1, 0, 0, 'Y'], \n",
    "               [2, 0, 1, 0, 'Y'], \n",
    "               [2, 0, 1, 1, 'N'], \n",
    "               [1, 0, 1, 1, 'Y'],\n",
    "               [0, 1, 0, 0, 'N'], \n",
    "               [0, 0, 1, 0, 'Y'], \n",
    "               [2, 1, 1, 0, 'Y'], \n",
    "               [0, 1, 1, 1, 'Y'], \n",
    "               [1, 1, 0, 1, 'Y'], \n",
    "               [1, 2, 1, 0, 'Y'],\n",
    "               [2, 1, 0, 1, 'N']]\n",
    "    labels = ['Age', 'Income', 'Job', 'Credit']\n",
    "    return dataSet, labels\n",
    "\n",
    "dS1,lab = createDataSet()\n",
    "print(dS1)\n",
    "print(lab)"
   ]
  },
  {
   "cell_type": "code",
   "execution_count": 3,
   "metadata": {},
   "outputs": [
    {
     "name": "stdout",
     "output_type": "stream",
     "text": [
      "原始数据集香农熵：\n",
      "0.9402859586706309\n"
     ]
    }
   ],
   "source": [
    "#计算数据集的信息熵\n",
    "#参数：dataset-List列表，训练集，包含了样本数据和分类结果\n",
    "#返回值：shannonEnt-浮点数，训练集的香农熵\n",
    "def calcShannonEnt(dataSet):\n",
    "    numEntries = len(dataSet)\n",
    "    labelCounts = {}\n",
    "    for featVec in dataSet:\n",
    "#featVec[-1]表示列表featVec中的最后一项，就是Y/N的分类结果        \n",
    "        currentLabel = featVec[-1]\n",
    "#对currentLabel计数，对应的分类为Y/N的样本各有多少个\n",
    "        if currentLabel not in labelCounts.keys():\n",
    "            labelCounts[currentLabel] = 0\n",
    "        labelCounts[currentLabel] += 1\n",
    "    shannonEnt = 0.0\n",
    "#计算信息熵\n",
    "    for key in labelCounts:\n",
    "        prob = float(labelCounts[key])/numEntries\n",
    "        shannonEnt -= prob * log(prob, 2)\n",
    "    return shannonEnt\n",
    "\n",
    "snEnt = calcShannonEnt(dS1)\n",
    "print('原始数据集香农熵：')\n",
    "print(snEnt)"
   ]
  },
  {
   "cell_type": "code",
   "execution_count": 4,
   "metadata": {},
   "outputs": [
    {
     "name": "stdout",
     "output_type": "stream",
     "text": [
      "splitDataSet函数示例\n",
      "将原始样本分割出Income（在labels中序号为1）值为0的集合：\n",
      "[[2, 1, 0, 'Y'], [2, 1, 1, 'N'], [1, 1, 1, 'Y'], [0, 1, 0, 'Y']]\n"
     ]
    }
   ],
   "source": [
    "#按照feat指定的标签分割数据集\n",
    "#参数：dataset-List列表，待分割样本集合\n",
    "#      axie-数值，属性列表项序号，按照此属性的取值来分割样本集合\n",
    "#      value-数值，属性取值\n",
    "#返回值：retDataSet-List列表，分割后的样本集合，去除了分割属性\n",
    "def splitDataSet(dataSet, axis, value):\n",
    "    retDataSet = []\n",
    "    for featVec in dataSet:\n",
    "        if featVec[axis] == value:\n",
    "            reduceFeatVec = featVec[:axis]\n",
    "            reduceFeatVec.extend(featVec[axis+1:])\n",
    "            retDataSet.append(reduceFeatVec)\n",
    "    return retDataSet\n",
    "\n",
    "print('splitDataSet函数示例')\n",
    "print('将原始样本分割出Income（在labels中序号为1）值为0的集合：')\n",
    "retDS1 = splitDataSet(dS1,1, 0)\n",
    "print(retDS1)"
   ]
  },
  {
   "cell_type": "code",
   "execution_count": 5,
   "metadata": {},
   "outputs": [
    {
     "name": "stdout",
     "output_type": "stream",
     "text": [
      "ID3第一次选择的最佳分割属性:\n",
      "0\n"
     ]
    }
   ],
   "source": [
    "#决策树ID3算法\n",
    "#按照信息熵增益来确定用于分割的属性\n",
    "#参数：dataset-List列表，待分割样本集合\n",
    "#返回值：bestFeature-数值，分割属性对应在labels中的序号\n",
    "def ID3(dataSet):\n",
    "#属性数量=样本列表元素数量-1（最后一项是分类结果，不是属性）\n",
    "    numFeatures = len(dataSet[0]) - 1\n",
    "#计算原始数据集信息熵\n",
    "    baseEntropy = calcShannonEnt(dataSet)\n",
    "    bestInfoGain= 0.0\n",
    "    bestFeature = -1\n",
    "    for i in range(numFeatures):\n",
    "#当前属性下，所有样本的值构成列表\n",
    "        featList = [example[i] for example in dataSet]\n",
    "        uniqueVals = set(featList)\n",
    "        newEntropy = 0.0\n",
    "        for value in uniqueVals:\n",
    "#当使用该属性分割时，计算其香农信息熵\n",
    "            subDataSet = splitDataSet(dataSet, i, value)\n",
    "            prob = len(subDataSet)/float(len(dataSet))\n",
    "            newEntropy += prob * calcShannonEnt(subDataSet)\n",
    "        infoGain = baseEntropy - newEntropy\n",
    "#找出最大熵增益对应的属性\n",
    "        if (infoGain > bestInfoGain):\n",
    "            bestInfoGain = infoGain\n",
    "            bestFeature = i\n",
    "    return bestFeature\n",
    "\n",
    "bFID3=ID3(dS1)\n",
    "print('ID3第一次选择的最佳分割属性:')\n",
    "print(bFID3)"
   ]
  },
  {
   "cell_type": "code",
   "execution_count": 6,
   "metadata": {},
   "outputs": [
    {
     "name": "stdout",
     "output_type": "stream",
     "text": [
      "C45第一次选择的最佳分割属性:\n",
      "0\n"
     ]
    }
   ],
   "source": [
    "#决策树C45算法\n",
    "#按照信息熵增益率来确定用于分割的属性\n",
    "#参数：dataset-List列表，待分割样本集合\n",
    "#返回值：bestFeature-数值，分割属性对应在labels中的序号\n",
    "def C45(dataSet):\n",
    "    numFeatures = len(dataSet[0]) - 1\n",
    "    baseEntropy = calcShannonEnt(dataSet)\n",
    "#用于找出最大增益率的变量\n",
    "    bestInfoGainRatio = 0.0\n",
    "    bestFeature = -1\n",
    "    for i in range(numFeatures):\n",
    "        featList = [example[i] for example in dataSet]\n",
    "        uniqueVals = set(featList)\n",
    "        newEntropy = 0.0\n",
    "#用于计算分离信息\n",
    "        splitInfo = 0.0\n",
    "        for value in uniqueVals:\n",
    "            subDataSet = splitDataSet(dataSet, i, value)\n",
    "            prob = len(subDataSet)/float(len(dataSet))\n",
    "            newEntropy += prob * calcShannonEnt(subDataSet)\n",
    "            splitInfo += -prob * log(prob, 2)\n",
    "        infoGain = baseEntropy - newEntropy\n",
    "        if (splitInfo == 0): \n",
    "            continue\n",
    "#属性选取标准改为增益率\n",
    "        infoGainRatio = infoGain / splitInfo\n",
    "        if (infoGainRatio > bestInfoGainRatio):\n",
    "            bestInfoGainRatio = infoGainRatio\n",
    "            bestFeature = i\n",
    "    return bestFeature\n",
    "\n",
    "bFC45=C45(dS1)\n",
    "print('C45第一次选择的最佳分割属性:')\n",
    "print(bFC45)"
   ]
  },
  {
   "cell_type": "code",
   "execution_count": 7,
   "metadata": {},
   "outputs": [],
   "source": [
    "#辅助函数majorityCnt\n",
    "#当按照当前决策树路径使用了所有的属性分割得到的子集中，\n",
    "#仍然有不同分类标签的样本时，取出现次数多的分类标签作为该子集的分类结果。\n",
    "#参数：classList-List列表，分割子集的分类标签\n",
    "#返回值：sortedClassCount[0][0]-数值，排序出现最多的分类标签值\n",
    "def majorityCnt(classList):\n",
    "    classCount = {}\n",
    "    for vote in classList:\n",
    "        if vote not in classCount.keys():\n",
    "            classCount[vote] = 0\n",
    "        classCount[vote] += 1\n",
    "    sortedClassCount = sorted(classCount.iteritems(), key=operator.itemgetter(1), reversed=True)\n",
    "    return sortedClassCount[0][0]\n",
    "\n",
    "#核心任务函数createTree，调用ID3或者C4.5算法构造决策树\n",
    "#参数：dataset-List列表，样本集\n",
    "#      labels-List列表，样本属性集\n",
    "#返回值：myTree-Dict字典，生成的决策树\n",
    "def createTree(dataSet, labels):\n",
    "#拷贝，createTree会改变labels\n",
    "    classList = [example[-1] for example in dataSet]\n",
    "    if classList.count(classList[0]) == len(classList):\n",
    "#类别完全相同，停止划分\n",
    "        return classList[0]\n",
    "    if len(dataSet[0]) == 1:\n",
    "#遍历完所有特征时返回出现次数最多的\n",
    "        return majorityCnt(classList)\n",
    "#可以使用ID3或者C45算法\n",
    "#    bestFeat = ID3(dataSet)\n",
    "    bestFeat = C45(dataSet)\n",
    "    bestFeatLabel = labels[bestFeat]\n",
    "    myTree = {bestFeatLabel:{}}\n",
    "    del(labels[bestFeat])\n",
    "#得到列表包括节点所有的属性值\n",
    "    featValues = [example[bestFeat] for example in dataSet]\n",
    "    uniqueVals = set(featValues)\n",
    "    for value in uniqueVals:\n",
    "        subLabels = labels[:]\n",
    "        myTree[bestFeatLabel][value] = createTree(splitDataSet(dataSet, bestFeat, value), subLabels)\n",
    "    return myTree"
   ]
  },
  {
   "cell_type": "code",
   "execution_count": 8,
   "metadata": {},
   "outputs": [
    {
     "name": "stdout",
     "output_type": "stream",
     "text": [
      "构造出的决策树：\n",
      "{'Age': {0: {'Job': {0: 'N', 1: 'Y'}}, 1: 'Y', 2: {'Credit': {0: 'Y', 1: 'N'}}}}\n"
     ]
    },
    {
     "data": {
      "image/png": "[encoded data removed]",
      "text/plain": [
       "<Figure size 432x288 with 1 Axes>"
      ]
     },
     "metadata": {},
     "output_type": "display_data"
    }
   ],
   "source": [
    "#结果显示\n",
    "#createTree会改变lab,因此传入它的副本\n",
    "lab_temp = lab[:]\n",
    "mTr=createTree(dS1,lab_temp)\n",
    "print('构造出的决策树：')\n",
    "print(mTr)\n",
    "#调用Cell1中实现的createPlot函数绘制决策树。\n",
    "createPlot(mTr)"
   ]
  },
  {
   "cell_type": "code",
   "execution_count": 9,
   "metadata": {},
   "outputs": [
    {
     "name": "stdout",
     "output_type": "stream",
     "text": [
      "classifyResult:\n",
      " N\n"
     ]
    }
   ],
   "source": [
    "#classify函数使用生成的决策树模型，对测试样本进行分类\n",
    "#参数：inputTree-Dict字典，生成的决策树\n",
    "#      featLabels-List列表，样本属性集\n",
    "#      testVec-List列表，测试样本\n",
    "#返回值：classLabel-List列表项，分类结果\n",
    "def classify(inputTree, featLabels, testVec):\n",
    "    firstStr = list(inputTree.keys())[0]\n",
    "    secondDict = inputTree[firstStr]\n",
    "    featIndex = featLabels.index(firstStr)\n",
    "#递归调用自身，沿着树节点往下查询\n",
    "    for key in secondDict.keys():\n",
    "        if testVec[featIndex] == key:\n",
    "            if type(secondDict[key]).__name__ == 'dict':\n",
    "                classLabel = classify(secondDict[key], featLabels, testVec)\n",
    "            else:\n",
    "                classLabel = secondDict[key]\n",
    "    return classLabel\n",
    "\n",
    "\n",
    "tsVec = [0, 2, 0, 1]\n",
    "print('classifyResult:\\n', classify(mTr, lab, tsVec))"
   ]
  },
  {
   "cell_type": "code",
   "execution_count": 10,
   "metadata": {},
   "outputs": [
    {
     "name": "stdout",
     "output_type": "stream",
     "text": [
      "读入的数据文件首5行：\n",
      "    客户ID  工龄  岗位性质  教育程度  婚姻状态 销售结果\n",
      "0  10001   1     2     1     1    N\n",
      "1  10002   1     2     3     1    N\n",
      "2  10003   1     3     4     1    Y\n",
      "3  10004   4     2     2     1    Y\n",
      "4  10005   1     1     3     2    Y\n",
      "转化后的2维列表前5项：\n",
      "[[1, 2, 1, 1, 'N'], [1, 2, 3, 1, 'N'], [1, 3, 4, 1, 'Y'], [4, 2, 2, 1, 'Y']]\n",
      "['工龄', '工作性质', '教育程度', '婚姻状况']\n",
      "构造出的决策树：\n",
      "{'婚姻状况': {1: {'工龄': {1: {'教育程度': {1: 'N', 2: 'N', 3: 'N', 4: 'Y'}}, 2: {'教育程度': {1: 'N', 2: 'N', 3: 'N', 4: 'Y'}}, 3: {'教育程度': {1: 'N', 2: 'N', 3: 'N', 4: 'Y'}}, 4: 'Y'}}, 2: 'Y'}}\n"
     ]
    },
    {
     "data": {
      "image/png": "[encoded data removed]",
      "text/plain": [
       "<Figure size 432x288 with 1 Axes>"
      ]
     },
     "metadata": {},
     "output_type": "display_data"
    }
   ],
   "source": [
    "import numpy as np\n",
    "import pandas as pd\n",
    "\n",
    "#读取excel文件，将原来二值表格转换为2维列表，用于后续处理\n",
    "#参数：fname-excel文件名\n",
    "#返回值：data2Dlist-2维列表\n",
    "def loadExcel(fname):\n",
    "    data2Dlist=[]\n",
    "    pd1 = pd.read_excel(fname,'Sheet1')\n",
    "    print('读入的数据文件首5行：')\n",
    "    print(pd1.head())\n",
    "    for index ,row in pd1.iterrows():\n",
    "        list1 = row.tolist()\n",
    "        list1.pop(0)\n",
    "        data2Dlist.append(list1)\n",
    "#显示2维列表前5项\n",
    "    print('转化后的2维列表前5项：')\n",
    "    print(data2Dlist[:4])\n",
    "#返回该2维列表\n",
    "    return data2Dlist\n",
    "\n",
    "BMData=loadExcel('ch10_bankMarketing_info.xlsx')\n",
    "BMLabel= ['工龄', '工作性质', '教育程度', '婚姻状况']\n",
    "print(BMLabel)\n",
    "\n",
    "#结果显示\n",
    "#createTree会改变lab,因此传入它的副本\n",
    "lab_temp = BMLabel[:]\n",
    "BMTree=createTree(BMData,lab_temp)\n",
    "print('构造出的决策树：')\n",
    "print(BMTree)\n",
    "#调用Cell1中实现的createPlot函数绘制决策树。\n",
    "createPlot(BMTree)"
   ]
  },
  {
   "cell_type": "code",
   "execution_count": 11,
   "metadata": {},
   "outputs": [
    {
     "name": "stdout",
     "output_type": "stream",
     "text": [
      "classifyResult:\n",
      " Y\n"
     ]
    }
   ],
   "source": [
    "#对新用户购买产品进行分类预测\n",
    "BMVec = [2, 2, 3, 2]\n",
    "print('classifyResult:\\n', classify(BMTree, BMLabel, BMVec))"
   ]
  }
 ],
 "metadata": {
  "kernelspec": {
   "display_name": "Python 3",
   "language": "python",
   "name": "python3"
  },
  "language_info": {
   "codemirror_mode": {
    "name": "ipython",
    "version": 3
   },
   "file_extension": ".py",
   "mimetype": "text/x-python",
   "name": "python",
   "nbconvert_exporter": "python",
   "pygments_lexer": "ipython3",
   "version": "3.7.4"
  }
 },
 "nbformat": 4,
 "nbformat_minor": 2
}
