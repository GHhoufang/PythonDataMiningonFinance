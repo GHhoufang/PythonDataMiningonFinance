{
 "cells": [
  {
   "cell_type": "code",
   "execution_count": 1,
   "metadata": {},
   "outputs": [],
   "source": [
    "import pandas as pd\n",
    "import numpy as np\n",
    "\n",
    "import matplotlib as mpl\n",
    "import matplotlib.pyplot as plt"
   ]
  },
  {
   "cell_type": "code",
   "execution_count": 2,
   "metadata": {},
   "outputs": [],
   "source": [
    "# 计算欧式距离，即两点间的直线距离 \n",
    "#参数：vector1-List列表，n维属性坐标值构成的向量\n",
    "#      vector2-List列表，n维属性坐标值构成的向量\n",
    "#返回值：浮点数，欧式距离\n",
    "\n",
    "def euclDistance(vector1, vector2):  \n",
    "    return np.sqrt(np.sum(np.power(vector2 - vector1, 2)))  "
   ]
  },
  {
   "cell_type": "code",
   "execution_count": 3,
   "metadata": {},
   "outputs": [],
   "source": [
    "# 创建一个数据集，包含2个类别共8个样本\n",
    "def createDataSet():\n",
    "# 生成一个矩阵，每行表示一个样本\n",
    "    group = np.array([[1.0,0.9], [1.0,1.0], [0.8,0.9], [0.6,0.65],\n",
    "    [0.1, 0.2], [0.3,0.4], [0.2,0.3], [0.0, 0.1]])\n",
    "# 监督学习，手工设置8个样本所属的类别标签\n",
    "    labels = ['A', 'A','A', 'A', 'B', 'B','B', 'B']\n",
    "    return group, labels"
   ]
  },
  {
   "cell_type": "code",
   "execution_count": 4,
   "metadata": {},
   "outputs": [],
   "source": [
    "# KNN分类算法函数实现\n",
    "#参数：newInput-List列表，待分类的数据点\n",
    "#      dataSet-List列表，已分类点坐标\n",
    "#      lables-List列表，分类标签\n",
    "#      k-整数，近邻数量\n",
    "#返回值：maxIndex-字符，分类结果\n",
    "def kNNClassify(newInput, dataSet, labels, k):\n",
    "    numSamples = dataSet.shape[0]   # shape[0]表示行数\n",
    "    distance = []\n",
    "#计算newInput与dataSet中个点的距离，放入distance列表内\n",
    "    for vec in dataSet:\n",
    "        distance.append(euclDistance(newInput,vec))        \n",
    "#对距离排序\n",
    "    sortedDistIndices = np.argsort(distance)\n",
    "    classCount = {}\n",
    "#选择k个最近邻\n",
    "    for i in range(k):\n",
    "        voteLabel = labels[sortedDistIndices[i]]\n",
    "        classCount[voteLabel] = classCount.get(voteLabel, 0) + 1\n",
    "    maxCount = 0\n",
    "    for key, value in classCount.items():\n",
    "        if value > maxCount:\n",
    "            maxCount = value\n",
    "            maxIndex = key\n",
    "    return maxIndex"
   ]
  },
  {
   "cell_type": "code",
   "execution_count": 5,
   "metadata": {},
   "outputs": [
    {
     "name": "stdout",
     "output_type": "stream",
     "text": [
      "Your input is: [1.2 1. ] and classified to class:  A\n",
      "Your input is: [0.1 0.3] and classified to class:  B\n"
     ]
    }
   ],
   "source": [
    "# 生成数据集和类别标签\n",
    "dataSet, labels = createDataSet()\n",
    "#K取值3，调用K近邻分类算法\n",
    "k = 3\n",
    "#对testX进行分类\n",
    "testX = np.array([1.2, 1.0])\n",
    "outputLabel = kNNClassify(testX, dataSet, labels, 3)\n",
    "print( \"Your input is:\", testX, \"and classified to class: \", outputLabel)\n",
    "#对testY进行分类\n",
    "testY = np.array([0.1, 0.3])\n",
    "outputLabel = kNNClassify(testY, dataSet, labels, 3)\n",
    "print(\"Your input is:\", testY, \"and classified to class: \", outputLabel)"
   ]
  },
  {
   "cell_type": "code",
   "execution_count": 6,
   "metadata": {},
   "outputs": [],
   "source": [
    "#随机生成K个候选聚类中心点\n",
    "#参数：dataSet-List列表，已分类点坐标\n",
    "#      k-整数，近邻数量\n",
    "#返回值：centroids-2维列表，k个随机候选中心点坐标\n",
    "def initCentroids(dataSet, k): \n",
    "    numSamples, dim = dataSet.shape\n",
    "    centroids = np.zeros((k, dim))\n",
    "    # 循环遍历每一列，在每一列（也就是每一维）的最小值和最大值之间产生K个随机数，作为候选中心点这一维的坐标\n",
    "    for j in range(dim):\n",
    "        # 计算每一列的最小值\n",
    "        minJ = min(dataSet[:, j])\n",
    "        # 计算每一列的范围值\n",
    "        rangeJ = float(max(dataSet[:, j]) - minJ)\n",
    "        # 计算每一列的质心,并将值赋给centroids\n",
    "        centroids[:, j] = minJ + rangeJ * np.random.rand(k)\n",
    "    return centroids\n",
    "\n",
    "#在已有数据点中随机挑选K个作为聚类中心点\n",
    "#这实际上是K中心点聚类算法的初始化方法\n",
    "#参数：dataSet-List列表，已分类点坐标\n",
    "#      k-整数，近邻数量\n",
    "#返回值：centroids-2维列表，k个随机候选中心点坐标\n",
    "def initCentroids1(dataSet, k):  \n",
    "    numSamples, dim = dataSet.shape  \n",
    "    centroids = np.zeros((k, dim))  \n",
    "    for i in range(k):  \n",
    "        index = int(np.random.uniform(0, numSamples))  \n",
    "        centroids[i, :] = dataSet[index, :]  \n",
    "    return centroids"
   ]
  },
  {
   "cell_type": "code",
   "execution_count": 7,
   "metadata": {},
   "outputs": [],
   "source": [
    "# K均值聚类\n",
    "#参数：dataSet-List列表，待聚类样本集\n",
    "#      k-整数，近邻数量\n",
    "#返回值：centroids-2维列表，k个随机中心点坐标\n",
    "#        clusterAssment -列表，各个样本点的聚类结果\n",
    "def kmeans(dataSet, k):  \n",
    "    numSamples = dataSet.shape[0]\n",
    "#第一列数据存放归属的点\n",
    "#第二列存放样本与候选聚类中心点之间的误差  \n",
    "    clusterAssment = np.mat(np.zeros((numSamples, 2)))  \n",
    "    clusterChanged = True    \n",
    "    centroids = initCentroids(dataSet, k)  \n",
    "  \n",
    "    while clusterChanged:  \n",
    "        clusterChanged = False  \n",
    "        for i in range(numSamples):  \n",
    "            minDist  = 100000.0  \n",
    "            minIndex = 0  \n",
    "#依次找出最近候选聚类中心点\n",
    "            for j in range(k):  \n",
    "                distance = euclDistance(centroids[j, :], dataSet[i, :])  \n",
    "                if distance < minDist:  \n",
    "                    minDist  = distance  \n",
    "                    minIndex = j  \n",
    "#更新归属结果\n",
    "            if clusterAssment[i, 0] != minIndex:  \n",
    "                clusterChanged = True  \n",
    "                clusterAssment[i, :] = minIndex, minDist**2  \n",
    "#更新候选聚类中心点坐标\n",
    "        for j in range(k):  \n",
    "            pointsInCluster = dataSet[np.nonzero(clusterAssment[:, 0].A == j)[0]]  \n",
    "            centroids[j, :] = np.mean(pointsInCluster, axis = 0)  \n",
    "  \n",
    "    print('KMN聚类完成!')  \n",
    "    return centroids, clusterAssment  "
   ]
  },
  {
   "cell_type": "code",
   "execution_count": 8,
   "metadata": {},
   "outputs": [],
   "source": [
    "# 2维平面显示聚类结果\n",
    "#参数：dataSet-List列表，样本集\n",
    "#      k-整数，近邻数量\n",
    "#      centroids-List列表，聚类中心点坐标\n",
    "#      clusterAssment-List列表，聚类结果\n",
    "#返回值：无\n",
    "def showCluster(dataSet, k, centroids, clusterAssment):  \n",
    "    fig_2d_clustered=plt.figure()\n",
    "    ax2d_clustered=fig_2d_clustered.add_subplot(111) \n",
    "    \n",
    "    numSamples, dim = dataSet.shape  \n",
    "    if dim != 2:  \n",
    "        print(\"只能绘制2维图形\")  \n",
    "        return 1  \n",
    "#创建数据点标记格式控制列表，实现数据点区别输出\n",
    "    mark = ['.r', '+b', '*g', '1k', '^r', 'vr', 'sr', 'dr', '<r', 'pr']  \n",
    "    if k > len(mark):  \n",
    "        print(\"K值过大！\")  \n",
    "        return 1  \n",
    "#绘制所有样本点\n",
    "    for i in range(numSamples):  \n",
    "        markIndex = int(clusterAssment[i, 0])  \n",
    "        ax2d_clustered.plot(dataSet[i, 0], dataSet[i, 1], mark[markIndex])  \n",
    "\n",
    "#绘制聚类中心点  \n",
    "    for i in range(k):\n",
    "        ax2d_clustered.plot(centroids[i, 0], centroids[i, 1], mark[i], markersize = 20)  \n",
    " \n",
    "    fig_2d_clustered.savefig('clusterRes.png', dpi=300, bbox_inches='tight')\n",
    "    fig_2d_clustered.show()"
   ]
  },
  {
   "cell_type": "code",
   "execution_count": 9,
   "metadata": {},
   "outputs": [
    {
     "name": "stdout",
     "output_type": "stream",
     "text": [
      "step 1: 读入数据：\n",
      "原始数据分布：\n"
     ]
    },
    {
     "data": {
      "image/png": "[encoded data removed]",
      "text/plain": [
       "<Figure size 432x288 with 1 Axes>"
      ]
     },
     "metadata": {
      "needs_background": "light"
     },
     "output_type": "display_data"
    }
   ],
   "source": [
    "#调用以上函数，对读入数据进行聚类\n",
    "print(\"step 1: 读入数据：\")  \n",
    "dataSetKMN = []  \n",
    "fileIn = open('testSet.txt')  \n",
    "for line in fileIn.readlines():  \n",
    "    lineArr = line.strip().split(' ')  \n",
    "    dataSetKMN.append([float(lineArr[0]), float(lineArr[1])])  \n",
    "dataSetKMNSize = len(dataSetKMN)\n",
    "dataSetKMN = np.mat(dataSetKMN)\n",
    "for i in range(dataSetKMNSize):\n",
    "    plt.plot(dataSetKMN[i, 0], dataSetKMN[i, 1],'b*') \n",
    "print(\"原始数据分布：\") \n",
    "plt.savefig('ch12_kmn_orig.png', dpi=300, bbox_inches='tight')\n",
    "plt.show()"
   ]
  },
  {
   "cell_type": "code",
   "execution_count": 10,
   "metadata": {},
   "outputs": [
    {
     "name": "stdout",
     "output_type": "stream",
     "text": [
      "step 2: 聚类\n",
      "KMN聚类完成!\n"
     ]
    }
   ],
   "source": [
    "#K取值4，调用K均值算法聚类\n",
    "print(\"step 2: 聚类\")    \n",
    "k = 4\n",
    "centroids, clusterAssment = kmeans(dataSetKMN, k) "
   ]
  },
  {
   "cell_type": "code",
   "execution_count": 11,
   "metadata": {},
   "outputs": [
    {
     "name": "stdout",
     "output_type": "stream",
     "text": [
      "step 3: 结果输出：\n"
     ]
    },
    {
     "name": "stderr",
     "output_type": "stream",
     "text": [
      "C:\\Users\\houfang\\Miniconda3\\lib\\site-packages\\ipykernel_launcher.py:30: UserWarning: Matplotlib is currently using module://ipykernel.pylab.backend_inline, which is a non-GUI backend, so cannot show the figure.\n"
     ]
    },
    {
     "data": {
      "image/png": "[encoded data removed]",
      "text/plain": [
       "<Figure size 432x288 with 1 Axes>"
      ]
     },
     "metadata": {
      "needs_background": "light"
     },
     "output_type": "display_data"
    }
   ],
   "source": [
    "print(\"step 3: 结果输出：\")  \n",
    "showCluster(dataSetKMN, k, centroids, clusterAssment)"
   ]
  },
  {
   "cell_type": "code",
   "execution_count": 12,
   "metadata": {},
   "outputs": [],
   "source": [
    "#计算代价TC\n",
    "#参数：dataSet-List列表，样本集\n",
    "#      k-整数，近邻数量\n",
    "#      medoids_idx-List列表，候选中心点\n",
    "#      clusterAssment-List列表，聚类结果\n",
    "#返回值：total_cost-浮点数，TC代价\n",
    "#        medoids-List2维列表，本次归属到各中心点的样本点\n",
    "def totalcost(dataSet, medoids_idx) :\n",
    "    distances_cache = {}\n",
    "    size = len(dataSet)\n",
    "    total_cost = 0.0\n",
    "    medoids = {}\n",
    "    for idx in medoids_idx :\n",
    "        medoids[idx] = []\n",
    "    for i in range(size) :\n",
    "        choice = None\n",
    "        min_cost = 100000\n",
    "#计算各样本数据点到medoids_idx的距离，将其归属到距离最近的那个中心点\n",
    "        for m in medoids :\n",
    "            tmp = distances_cache.get((m,i),None)\n",
    "            if tmp == None :\n",
    "                tmp = euclDistance(dataSet[m],dataSet[i])\n",
    "                distances_cache[(m,i)] = tmp\n",
    "            if tmp < min_cost :\n",
    "                choice = m\n",
    "                min_cost = tmp\n",
    "        medoids[choice].append(i)\n",
    "        total_cost += min_cost\n",
    "    return total_cost, medoids"
   ]
  },
  {
   "cell_type": "code",
   "execution_count": 13,
   "metadata": {},
   "outputs": [],
   "source": [
    "# K中心点聚类\n",
    "#参数：dataSet-List列表，待聚类样本集\n",
    "#      k-整数，近邻数量\n",
    "#返回值：centroids-2维列表，k个中心点坐标\n",
    "#        clusterAssment -列表，各个样本点的聚类结果\n",
    "\n",
    "import random\n",
    "\n",
    "def kmedoids(dataSet, k) :\n",
    "    size ,dim= dataSet.shape\n",
    "    centroids = np.zeros((k,dim))\n",
    "    clusterAssment = np.mat(np.zeros((size, 2)))    \n",
    "    medoids_idx = random.sample([i for i in range(size)], k)\n",
    "    pre_cost, medoids = totalcost(dataSet,medoids_idx)\n",
    "    current_cost = 100000    \n",
    "    best_choice = []\n",
    "    best_res = {}\n",
    "    iter_count = 0\n",
    "#反复计算TC，进行聚类\n",
    "    while 1 :\n",
    "        for m in medoids :\n",
    "            for item in medoids[m] :\n",
    "                if item != m :\n",
    "                    idx = medoids_idx.index(m)\n",
    "                    swap_temp = medoids_idx[idx]\n",
    "                    medoids_idx[idx] = item\n",
    "                    tmp,medoids_ = totalcost(dataSet,medoids_idx)\n",
    "                    if tmp < current_cost :\n",
    "                        best_choice = list(medoids_idx)\n",
    "                        best_res = dict(medoids_)\n",
    "                        current_cost = tmp\n",
    "                    medoids_idx[idx] = swap_temp\n",
    "        iter_count += 1\n",
    "        if best_choice == medoids_idx : break\n",
    "        if current_cost <= pre_cost :\n",
    "            pre_cost = current_cost\n",
    "            medoids = best_res\n",
    "            medoids_idx = best_choice\n",
    "    \n",
    "    centNum=0;\n",
    "    for index in best_choice:\n",
    "        centroids[centNum,:]=dataSet[index,:]\n",
    "        centNum += 1\n",
    "    \n",
    "    classNumber = 0\n",
    "    for key in best_res:\n",
    "        for index in best_res[key]:\n",
    "            clusterAssment[index,0]=classNumber\n",
    "        classNumber += 1\n",
    "      \n",
    "    print('KMed聚类完成!')  \n",
    "    return centroids, clusterAssment"
   ]
  },
  {
   "cell_type": "code",
   "execution_count": 14,
   "metadata": {},
   "outputs": [
    {
     "name": "stdout",
     "output_type": "stream",
     "text": [
      "K中心点算法聚类:\n",
      "KMed聚类完成!\n"
     ]
    },
    {
     "name": "stderr",
     "output_type": "stream",
     "text": [
      "C:\\Users\\houfang\\Miniconda3\\lib\\site-packages\\ipykernel_launcher.py:30: UserWarning: Matplotlib is currently using module://ipykernel.pylab.backend_inline, which is a non-GUI backend, so cannot show the figure.\n"
     ]
    },
    {
     "data": {
      "image/png": "[encoded data removed]",
      "text/plain": [
       "<Figure size 432x288 with 1 Axes>"
      ]
     },
     "metadata": {
      "needs_background": "light"
     },
     "output_type": "display_data"
    }
   ],
   "source": [
    "print(\"K中心点算法聚类:\")  \n",
    "dataSetKMed = []  \n",
    "fileIn = open('testSet.txt')  \n",
    "for line in fileIn.readlines():  \n",
    "    lineArr = line.strip().split(' ')  \n",
    "    dataSetKMed.append([float(lineArr[0]), float(lineArr[1])])  \n",
    "dataSetKMedSize = len(dataSetKMed)\n",
    "dataSetKMed = np.mat(dataSetKMed)\n",
    "#K取值4，调用K中心点算法聚类\n",
    "k = 4\n",
    "centroids, clusterAssment = kmedoids(dataSetKMed,k) \n",
    "showCluster(dataSetKMed, k, centroids, clusterAssment)"
   ]
  },
  {
   "cell_type": "code",
   "execution_count": 15,
   "metadata": {},
   "outputs": [
    {
     "name": "stdout",
     "output_type": "stream",
     "text": [
      "原始数据头5行：\n",
      "(200, 5)\n",
      "   ID      性别  年龄  年收入(万元)  消费评分(1-100)\n",
      "0   1    Male  19       15           39\n",
      "1   2    Male  21       15           81\n",
      "2   3  Female  20       16            6\n",
      "3   4  Female  23       16           77\n",
      "4   5  Female  31       17           40\n"
     ]
    }
   ],
   "source": [
    "X_origin = pd.read_csv('ch12_Mall_Customers.csv',encoding='gb2312')\n",
    "print('原始数据头5行：')\n",
    "print(X_origin.shape)\n",
    "print(X_origin.head())\n",
    "\n",
    "X = X_origin.drop(['ID','性别'],axis=1)"
   ]
  },
  {
   "cell_type": "code",
   "execution_count": 16,
   "metadata": {},
   "outputs": [
    {
     "name": "stdout",
     "output_type": "stream",
     "text": [
      "规格化转换后数据：\n",
      "       atr1      atr2      atr3\n",
      "0 -1.424569 -1.738999 -0.434801\n",
      "1 -1.281035 -1.738999  1.195704\n",
      "2 -1.352802 -1.700830 -1.715913\n",
      "3 -1.137502 -1.700830  1.040418\n",
      "4 -0.563369 -1.662660 -0.395980\n"
     ]
    }
   ],
   "source": [
    "from sklearn import preprocessing\n",
    "X_scaled = preprocessing.scale(X)\n",
    "X_scaled_frame = pd.DataFrame(X_scaled,columns=['atr1','atr2','atr3'])\n",
    "print('规格化转换后数据：')\n",
    "print(X_scaled_frame.head())"
   ]
  },
  {
   "cell_type": "code",
   "execution_count": 17,
   "metadata": {},
   "outputs": [
    {
     "name": "stdout",
     "output_type": "stream",
     "text": [
      "绘制3维图：\n"
     ]
    },
    {
     "data": {
      "image/png": "[encoded data removed]",
      "text/plain": [
       "<Figure size 432x288 with 1 Axes>"
      ]
     },
     "metadata": {
      "needs_background": "light"
     },
     "output_type": "display_data"
    }
   ],
   "source": [
    "from mpl_toolkits.mplot3d import Axes3D\n",
    "\n",
    "print('绘制3维图：')\n",
    "#创建一个三维的绘图工程\n",
    "fig_3d=plt.figure()\n",
    "ax3d=fig_3d.add_subplot(111,projection='3d') \n",
    "ax3d.scatter(X_scaled_frame['atr1'],X_scaled_frame['atr2'],X_scaled_frame['atr3']) \n",
    "fig_3d.savefig('ch12case_01.png', dpi=300, bbox_inches='tight')"
   ]
  },
  {
   "cell_type": "code",
   "execution_count": 18,
   "metadata": {},
   "outputs": [
    {
     "name": "stdout",
     "output_type": "stream",
     "text": [
      "      pca_1     pca_2\n",
      "0 -0.615720 -1.763481\n",
      "1 -1.665793 -1.820747\n",
      "2  0.337862 -1.674799\n",
      "3 -1.456573 -1.772430\n",
      "4 -0.038465 -1.662740\n",
      "绘制2维图：\n"
     ]
    },
    {
     "name": "stderr",
     "output_type": "stream",
     "text": [
      "C:\\Users\\houfang\\Miniconda3\\lib\\site-packages\\ipykernel_launcher.py:14: UserWarning: Matplotlib is currently using module://ipykernel.pylab.backend_inline, which is a non-GUI backend, so cannot show the figure.\n",
      "  \n"
     ]
    },
    {
     "data": {
      "image/png": "[encoded data removed]",
      "text/plain": [
       "<Figure size 432x288 with 1 Axes>"
      ]
     },
     "metadata": {
      "needs_background": "light"
     },
     "output_type": "display_data"
    }
   ],
   "source": [
    "#数据降为2维\n",
    "#在sklearn中提供了PCA函数，可以将高维数据降为低维\n",
    "from sklearn.decomposition import PCA\n",
    "pca = PCA(n_components = 2)\n",
    "X_pca = pca.fit_transform(X_scaled)\n",
    "X_pca_frame = pd.DataFrame(X_pca,columns=['pca_1','pca_2'])\n",
    "print(X_pca_frame.head())\n",
    "print('绘制2维图：')\n",
    "fig_2d=plt.figure()\n",
    "#创建一个二维的绘图工程\n",
    "ax2d=fig_2d.add_subplot(111) \n",
    "ax2d.plot(X_pca_frame['pca_1'],X_pca_frame['pca_2'],'bo') \n",
    "fig_2d.savefig('ch12case_02.png', dpi=300, bbox_inches='tight')\n",
    "fig_2d.show()"
   ]
  },
  {
   "cell_type": "code",
   "execution_count": 19,
   "metadata": {},
   "outputs": [
    {
     "name": "stdout",
     "output_type": "stream",
     "text": [
      "K均值聚类：\n",
      "KMN聚类完成!\n"
     ]
    },
    {
     "name": "stderr",
     "output_type": "stream",
     "text": [
      "C:\\Users\\houfang\\Miniconda3\\lib\\site-packages\\ipykernel_launcher.py:30: UserWarning: Matplotlib is currently using module://ipykernel.pylab.backend_inline, which is a non-GUI backend, so cannot show the figure.\n"
     ]
    },
    {
     "data": {
      "image/png": "[encoded data removed]",
      "text/plain": [
       "<Figure size 432x288 with 1 Axes>"
      ]
     },
     "metadata": {
      "needs_background": "light"
     },
     "output_type": "display_data"
    }
   ],
   "source": [
    "k=4\n",
    "print(\"K均值聚类：\")\n",
    "case_cen, case_clusterAssment = kmeans(X_pca, k)\n",
    "showCluster(X_pca, k, case_cen, case_clusterAssment) "
   ]
  },
  {
   "cell_type": "code",
   "execution_count": 20,
   "metadata": {},
   "outputs": [
    {
     "name": "stdout",
     "output_type": "stream",
     "text": [
      "K中心点聚类：\n",
      "KMed聚类完成!\n"
     ]
    },
    {
     "name": "stderr",
     "output_type": "stream",
     "text": [
      "C:\\Users\\houfang\\Miniconda3\\lib\\site-packages\\ipykernel_launcher.py:30: UserWarning: Matplotlib is currently using module://ipykernel.pylab.backend_inline, which is a non-GUI backend, so cannot show the figure.\n"
     ]
    },
    {
     "data": {
      "image/png": "[encoded data removed]",
      "text/plain": [
       "<Figure size 432x288 with 1 Axes>"
      ]
     },
     "metadata": {
      "needs_background": "light"
     },
     "output_type": "display_data"
    }
   ],
   "source": [
    "print(\"K中心点聚类：\")\n",
    "case_cen, case_clusterAssment = kmedoids(X_pca, k)\n",
    "showCluster(X_pca, k, case_cen, case_clusterAssment) "
   ]
  },
  {
   "cell_type": "code",
   "execution_count": 21,
   "metadata": {},
   "outputs": [
    {
     "name": "stdout",
     "output_type": "stream",
     "text": [
      "聚类结果：\n",
      "    ID      性别  年龄  年收入(万元)  消费评分(1-100)  聚类结果\n",
      "0    1    Male  19       15           39   0.0\n",
      "1    2    Male  21       15           81   0.0\n",
      "2    3  Female  20       16            6   1.0\n",
      "3    4  Female  23       16           77   0.0\n",
      "4    5  Female  31       17           40   0.0\n",
      "5    6  Female  22       17           76   0.0\n",
      "6    7  Female  35       18            6   1.0\n",
      "7    8  Female  23       18           94   0.0\n",
      "8    9    Male  64       19            3   1.0\n",
      "9   10  Female  30       19           72   0.0\n",
      "10  11    Male  67       19           14   1.0\n",
      "11  12  Female  35       19           99   0.0\n",
      "12  13  Female  58       20           15   1.0\n",
      "13  14  Female  24       20           77   0.0\n",
      "14  15    Male  37       20           13   1.0\n",
      "聚类结果按年龄统计均值\n",
      "聚类结果\n",
      "0.0    25.343750\n",
      "1.0    50.032258\n",
      "2.0    45.488889\n",
      "3.0    29.672131\n",
      "Name: 年龄, dtype: float64\n",
      "聚类结果按年收入统计均值\n",
      "聚类结果\n",
      "0.0    29.687500\n",
      "1.0    43.258065\n",
      "2.0    82.911111\n",
      "3.0    77.852459\n",
      "Name: 年收入(万元), dtype: float64\n",
      "聚类结果按消费评分统计均值\n",
      "聚类结果\n",
      "0.0    70.968750\n",
      "1.0    38.951613\n",
      "2.0    24.133333\n",
      "3.0    69.967213\n",
      "Name: 消费评分(1-100), dtype: float64\n"
     ]
    }
   ],
   "source": [
    "#将case_clusterAssment中的聚类结果写回原始DataFrame\n",
    "X_origin['聚类结果']=case_clusterAssment[:,0]\n",
    "print('聚类结果：')\n",
    "print(X_origin.head(15))\n",
    "#查看按照聚类结果分组的各属性均值\n",
    "print('聚类结果按年龄统计均值')\n",
    "g_Age=X_origin['年龄'].groupby(X_origin['聚类结果'])\n",
    "print(g_Age.mean())\n",
    "print('聚类结果按年收入统计均值')\n",
    "g_Income=X_origin['年收入(万元)'].groupby(X_origin['聚类结果'])\n",
    "print(g_Income.mean())\n",
    "print('聚类结果按消费评分统计均值')\n",
    "g_Rate=X_origin['消费评分(1-100)'].groupby(X_origin['聚类结果'])\n",
    "print(g_Rate.mean())"
   ]
  },
  {
   "cell_type": "code",
   "execution_count": null,
   "metadata": {},
   "outputs": [],
   "source": []
  },
  {
   "cell_type": "code",
   "execution_count": null,
   "metadata": {},
   "outputs": [],
   "source": []
  }
 ],
 "metadata": {
  "kernelspec": {
   "display_name": "Python 3",
   "language": "python",
   "name": "python3"
  },
  "language_info": {
   "codemirror_mode": {
    "name": "ipython",
    "version": 3
   },
   "file_extension": ".py",
   "mimetype": "text/x-python",
   "name": "python",
   "nbconvert_exporter": "python",
   "pygments_lexer": "ipython3",
   "version": "3.7.4"
  }
 },
 "nbformat": 4,
 "nbformat_minor": 2
}
