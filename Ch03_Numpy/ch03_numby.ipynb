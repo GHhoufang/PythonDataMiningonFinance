{
 "cells": [
  {
   "cell_type": "code",
   "execution_count": 1,
   "metadata": {},
   "outputs": [
    {
     "name": "stdout",
     "output_type": "stream",
     "text": [
      "a= [2 3 4]\n",
      "数组元素类型： int32\n"
     ]
    }
   ],
   "source": [
    "#导入NumPy\n",
    "from numpy import * \n",
    "#定义数组a\n",
    "a = array( [2,3,4] )\n",
    "#调用dtype输出素组元素类型\n",
    "print('a=',a)\n",
    "print('数组元素类型：', a.dtype) "
   ]
  },
  {
   "cell_type": "code",
   "execution_count": 2,
   "metadata": {},
   "outputs": [
    {
     "name": "stdout",
     "output_type": "stream",
     "text": [
      "b= [1.2 3.5 5.1]\n",
      "数组元素类型： float64\n"
     ]
    }
   ],
   "source": [
    "b = array([1.2, 3.5, 5.1])\n",
    "print('b=',b)\n",
    "print('数组元素类型：', b.dtype)"
   ]
  },
  {
   "cell_type": "code",
   "execution_count": 3,
   "metadata": {},
   "outputs": [
    {
     "name": "stdout",
     "output_type": "stream",
     "text": [
      "c= [[1.5 2.  3. ]\n",
      " [4.  5.  6. ]]\n",
      "数组元素类型： float64\n"
     ]
    }
   ],
   "source": [
    "#定义二维数组c\n",
    "c = array([(1.5,2,3),(4,5,6)]) \n",
    "print('c=',c)\n",
    "print('数组元素类型：', c.dtype)"
   ]
  },
  {
   "cell_type": "code",
   "execution_count": 4,
   "metadata": {},
   "outputs": [
    {
     "name": "stdout",
     "output_type": "stream",
     "text": [
      "d= [[1.+0.j 2.+0.j]\n",
      " [3.+0.j 4.+0.j]]\n",
      "数组元素类型： complex64\n"
     ]
    }
   ],
   "source": [
    "#定义复数元素数组d\n",
    "#元素类型限定为complex64\n",
    "d = array([[1,2], [3,4]], dtype=complex64)   \n",
    "print('d=',d)\n",
    "print('数组元素类型：',d.dtype)"
   ]
  },
  {
   "cell_type": "code",
   "execution_count": 5,
   "metadata": {},
   "outputs": [
    {
     "name": "stdout",
     "output_type": "stream",
     "text": [
      "e= [[0. 0. 0. 0.]\n",
      " [0. 0. 0. 0.]\n",
      " [0. 0. 0. 0.]]\n",
      "数组元素类型： float64\n"
     ]
    }
   ],
   "source": [
    "#定义3*4的二维数组e，并使用0填充\n",
    "e = zeros((3,4))                 \n",
    "print('e=',e)\n",
    "print('数组元素类型：',e.dtype)"
   ]
  },
  {
   "cell_type": "code",
   "execution_count": 6,
   "metadata": {},
   "outputs": [
    {
     "name": "stdout",
     "output_type": "stream",
     "text": [
      "f= [[[1 1 1 1]\n",
      "  [1 1 1 1]\n",
      "  [1 1 1 1]]\n",
      "\n",
      " [[1 1 1 1]\n",
      "  [1 1 1 1]\n",
      "  [1 1 1 1]]]\n",
      "数组元素类型： int16\n"
     ]
    }
   ],
   "source": [
    "#定义2*3*4的三维数组f，并使用1填充\n",
    "#元素类型限定为int16\n",
    "f = ones((2,3,4),dtype=int16)    \n",
    "print('f=',f)\n",
    "print('数组元素类型：',f.dtype)"
   ]
  },
  {
   "cell_type": "code",
   "execution_count": 7,
   "metadata": {},
   "outputs": [
    {
     "name": "stdout",
     "output_type": "stream",
     "text": [
      "g= [10 15 20 25]\n",
      "数组元素类型： int32\n"
     ]
    }
   ],
   "source": [
    "#定义数组g，取值范围为[10,30),元素增长步长为5，\n",
    "#注意区间开闭\n",
    "g = arange(10,30,5)           \n",
    "print('g=',g)\n",
    "print('数组元素类型：', g.dtype)"
   ]
  },
  {
   "cell_type": "code",
   "execution_count": 8,
   "metadata": {},
   "outputs": [
    {
     "name": "stdout",
     "output_type": "stream",
     "text": [
      "h= [0.  0.3 0.6 0.9 1.2 1.5 1.8]\n",
      "数组元素类型： float64\n"
     ]
    }
   ],
   "source": [
    "#定义数组h，取值范围为[0,2),元素增长步长为0.3，\n",
    "#注意区间开闭\n",
    "h = arange(0,2,0.3)          \n",
    "print('h=',h)\n",
    "print('数组元素类型：',h.dtype)"
   ]
  },
  {
   "cell_type": "code",
   "execution_count": 9,
   "metadata": {},
   "outputs": [
    {
     "name": "stdout",
     "output_type": "stream",
     "text": [
      "i= [[ 0  1  2  3  4]\n",
      " [ 5  6  7  8  9]\n",
      " [10 11 12 13 14]]\n",
      "数组轴个数： 2\n",
      "数组形状： (3, 5)\n",
      "数组元素总个数： 15\n",
      "数组元素类型： int32\n",
      "数组元素字节大小： 4\n",
      "数组数据缓冲区地址： <memory at 0x000001DFA8C498B8>\n"
     ]
    }
   ],
   "source": [
    "#定义数组i，取值范围为[0,14),缺省步长为1，并调用reshape将其设置为3*5的数组\n",
    "#显示数组i的各项属性\n",
    "i = arange(15).reshape(3, 5)\n",
    "print('i=',i)\n",
    "print('数组轴个数：', i.ndim)\n",
    "print('数组形状：', i.shape)\n",
    "print('数组元素总个数：', i.size)\n",
    "print('数组元素类型：', i.dtype)\n",
    "print('数组元素字节大小：', i.itemsize)\n",
    "print('数组数据缓冲区地址：', i.data)"
   ]
  },
  {
   "cell_type": "code",
   "execution_count": 10,
   "metadata": {},
   "outputs": [
    {
     "name": "stdout",
     "output_type": "stream",
     "text": [
      "j= [   0    1    2 ... 9997 9998 9999]\n",
      "\n",
      "k= [[   0    1    2 ...   97   98   99]\n",
      " [ 100  101  102 ...  197  198  199]\n",
      " [ 200  201  202 ...  297  298  299]\n",
      " ...\n",
      " [9700 9701 9702 ... 9797 9798 9799]\n",
      " [9800 9801 9802 ... 9897 9898 9899]\n",
      " [9900 9901 9902 ... 9997 9998 9999]]\n"
     ]
    }
   ],
   "source": [
    "#定义一维数组j，取值范围为[0,10000),观察其输出\n",
    "j = arange(10000)\n",
    "print('j=',j)\n",
    "print()\n",
    "#定义100*100的二维数组k，,观察其输出\n",
    "k = arange(10000).reshape(100,100)\n",
    "print('k=',k)"
   ]
  },
  {
   "cell_type": "code",
   "execution_count": 11,
   "metadata": {},
   "outputs": [
    {
     "name": "stdout",
     "output_type": "stream",
     "text": [
      "原始数组：\n",
      "a= [20 30 40 50]\n",
      "b= [0 1 2 3]\n"
     ]
    }
   ],
   "source": [
    "#重新对以上cell中的数组名进行赋值\n",
    "a = array([20,30,40,50])\n",
    "b = arange(4)\n",
    "print('原始数组：')\n",
    "print('a=',a)\n",
    "print('b=',b)"
   ]
  },
  {
   "cell_type": "code",
   "execution_count": 12,
   "metadata": {},
   "outputs": [
    {
     "name": "stdout",
     "output_type": "stream",
     "text": [
      "c= (a-b) = [20 29 38 47]\n"
     ]
    }
   ],
   "source": [
    "#数组减法运算\n",
    "c = a-b\n",
    "print('c= (a-b) =', c)"
   ]
  },
  {
   "cell_type": "code",
   "execution_count": 13,
   "metadata": {},
   "outputs": [
    {
     "name": "stdout",
     "output_type": "stream",
     "text": [
      "b_2= b*b = [0 1 4 9]\n"
     ]
    }
   ],
   "source": [
    "#数组元素乘方\n",
    "b_2=b**2\n",
    "print('b_2= b*b =',b_2)"
   ]
  },
  {
   "cell_type": "code",
   "execution_count": 14,
   "metadata": {},
   "outputs": [
    {
     "name": "stdout",
     "output_type": "stream",
     "text": [
      "a_s=10*sin(a)= [ 9.12945251 -9.88031624  7.4511316  -2.62374854]\n"
     ]
    }
   ],
   "source": [
    "#数组元素求正弦值，再*10\n",
    "a_s=10*sin(a)\n",
    "print('a_s=10*sin(a)=',a_s)"
   ]
  },
  {
   "cell_type": "code",
   "execution_count": 15,
   "metadata": {},
   "outputs": [
    {
     "name": "stdout",
     "output_type": "stream",
     "text": [
      "a_cond=(a<35)= [ True  True False False]\n"
     ]
    }
   ],
   "source": [
    "#数组元素条件运算\n",
    "a_cond=(a<35)\n",
    "print('a_cond=(a<35)=',a_cond)"
   ]
  },
  {
   "cell_type": "code",
   "execution_count": 16,
   "metadata": {},
   "outputs": [
    {
     "name": "stdout",
     "output_type": "stream",
     "text": [
      "二维数组d：\n",
      "[[1 1]\n",
      " [0 1]]\n",
      "二维数组e：\n",
      "[[2 0]\n",
      " [3 4]]\n",
      "元素乘法，其运算方法是两个2维数组对应的元素直接相乘\n",
      "元素乘法：d*e\n",
      "[[2 0]\n",
      " [0 4]]\n",
      "矩阵dot乘法，其运算方法是按照线性代数定义的两个矩阵相乘进行运算\n",
      "矩阵乘法：dot(d,e)\n",
      "[[5 4]\n",
      " [3 4]]\n"
     ]
    }
   ],
   "source": [
    "#数组元素乘法*与矩阵乘法dot，进一步地说明请看本章第3节\n",
    "d = array([[1,1],[0,1]])\n",
    "e = array([[2,0],[3,4]])\n",
    "print('二维数组d：')\n",
    "print(d)\n",
    "print('二维数组e：')\n",
    "print(e)\n",
    "print('元素乘法，其运算方法是两个2维数组对应的元素直接相乘')\n",
    "print('元素乘法：d*e')\n",
    "print(d*e)\n",
    "print('矩阵dot乘法，其运算方法是按照线性代数定义的两个矩阵相乘进行运算')\n",
    "print('矩阵乘法：dot(d,e)')\n",
    "print(dot(d,e))"
   ]
  },
  {
   "cell_type": "code",
   "execution_count": 17,
   "metadata": {},
   "outputs": [
    {
     "name": "stdout",
     "output_type": "stream",
     "text": [
      "f= [[1 1 1]\n",
      " [1 1 1]]\n",
      "g= [[0.76919368 0.9318623  0.95302062]\n",
      " [0.063401   0.32400379 0.30239984]]\n",
      "f= [[3 3 3]\n",
      " [3 3 3]]\n",
      "g= [[3.76919368 3.9318623  3.95302062]\n",
      " [3.063401   3.32400379 3.30239984]]\n"
     ]
    }
   ],
   "source": [
    "#操作符像+=和*=被用来更改已存在数组而不创建一个新的数组\n",
    "#random用于产生随机数，每次运行结果不相同\n",
    "f = ones((2,3), dtype=int)\n",
    "g = random.random((2,3))\n",
    "print('f=',f)\n",
    "print('g=',g)\n",
    "f*=3\n",
    "g+=f\n",
    "print('f=',f)\n",
    "print('g=',g)"
   ]
  },
  {
   "cell_type": "code",
   "execution_count": 18,
   "metadata": {},
   "outputs": [
    {
     "name": "stdout",
     "output_type": "stream",
     "text": [
      "g.sum()= 21.343881226735075\n",
      "g.min()= 3.063400996814575\n",
      "g.max()= 3.953020615607664\n"
     ]
    }
   ],
   "source": [
    "#求数组元素的和、最小值、最大值\n",
    "print('g.sum()=',g.sum())\n",
    "print('g.min()=',g.min())\n",
    "print('g.max()=',g.max())"
   ]
  },
  {
   "cell_type": "code",
   "execution_count": 19,
   "metadata": {},
   "outputs": [
    {
     "name": "stdout",
     "output_type": "stream",
     "text": [
      "axis=0，表示按照列进行运算\n",
      "g.max(axis=0)= [3.76919368 3.9318623  3.95302062]\n",
      "axis=1，表示按照行进行运算\n",
      "g.max(axis=1)= [3.95302062 3.32400379]\n"
     ]
    }
   ],
   "source": [
    "#按照指定的轴axis，求最大值\n",
    "print('axis=0，表示按照列进行运算')\n",
    "print('g.max(axis=0)=',g.max(axis=0))\n",
    "print('axis=1，表示按照行进行运算')\n",
    "print('g.max(axis=1)=',g.max(axis=1))"
   ]
  },
  {
   "cell_type": "code",
   "execution_count": 20,
   "metadata": {},
   "outputs": [
    {
     "name": "stdout",
     "output_type": "stream",
     "text": [
      "随机数组： [0.21658998 0.08419669 0.01705242 0.83531918 0.41017418 0.9751095\n",
      " 0.32318922 0.7083756  0.43348643 0.62166618]\n",
      "排序后： [0.01705242 0.08419669 0.21658998 0.32318922 0.41017418 0.43348643\n",
      " 0.62166618 0.7083756  0.83531918 0.9751095 ]\n"
     ]
    }
   ],
   "source": [
    "#对数组排序\n",
    "h = random.random(10)\n",
    "print('随机数组：',h)\n",
    "print('排序后：',sort(h))"
   ]
  },
  {
   "cell_type": "code",
   "execution_count": 21,
   "metadata": {},
   "outputs": [
    {
     "name": "stdout",
     "output_type": "stream",
     "text": [
      "数组是：\n",
      "[[ 0  1  2]\n",
      " [ 3  4  5]\n",
      " [ 6  7  8]\n",
      " [ 9 10 11]]\n",
      "大于 5 的元素是：\n",
      "[ 6  7  8  9 10 11]\n"
     ]
    }
   ],
   "source": [
    "#布尔索引，输出满足特定条件的元素\n",
    "x = array([[0,1,2],[3,4,5],[6,7,8],[9,10,11]])  \n",
    "print ('数组是：')\n",
    "print (x)\n",
    "# 现在打印出大于 5 的元素  \n",
    "print('大于 5 的元素是：')\n",
    "print(x[x > 5])"
   ]
  },
  {
   "cell_type": "code",
   "execution_count": 22,
   "metadata": {},
   "outputs": [
    {
     "name": "stdout",
     "output_type": "stream",
     "text": [
      "a[2]= 3\n",
      "a[2:5]= [3, 4, 5]\n"
     ]
    }
   ],
   "source": [
    "#用下标/索引访问数组元素\n",
    "a=[1,2,3,4,5,6,7,8,9,10]\n",
    "print('a[2]=',a[2])\n",
    "#用冒号：来对数组切片,请注意起止区间\n",
    "print('a[2:5]=',a[2:5])"
   ]
  },
  {
   "cell_type": "code",
   "execution_count": 23,
   "metadata": {},
   "outputs": [
    {
     "name": "stdout",
     "output_type": "stream",
     "text": [
      "二维数组x：\n",
      "[[ 0  1  2]\n",
      " [ 3  4  5]\n",
      " [ 6  7  8]\n",
      " [ 9 10 11]]\n",
      "访问第2行: [6 7 8]\n",
      "访问第2列: [ 2  5  8 11]\n"
     ]
    }
   ],
   "source": [
    "#行/列访问\n",
    "x = array([[0,1,2],[3,4,5],[6,7,8],[9,10,11]])\n",
    "print('二维数组x：')\n",
    "print(x)\n",
    "print('访问第2行:',x[2,:])\n",
    "print('访问第2列:',x[:,2])"
   ]
  },
  {
   "cell_type": "code",
   "execution_count": 24,
   "metadata": {},
   "outputs": [
    {
     "name": "stdout",
     "output_type": "stream",
     "text": [
      "数组逆序操作:\n",
      "a[::-1]= [10, 9, 8, 7, 6, 5, 4, 3, 2, 1]\n"
     ]
    }
   ],
   "source": [
    "#逆序\n",
    "a=[1,2,3,4,5,6,7,8,9,10]\n",
    "print('数组逆序操作:')\n",
    "print('a[::-1]=',a[::-1])"
   ]
  },
  {
   "cell_type": "code",
   "execution_count": 25,
   "metadata": {},
   "outputs": [
    {
     "name": "stdout",
     "output_type": "stream",
     "text": [
      "b= [[ 0  1  2  3]\n",
      " [10 11 12 13]\n",
      " [20 21 22 23]\n",
      " [30 31 32 33]\n",
      " [40 41 42 43]]\n"
     ]
    }
   ],
   "source": [
    "#迭代运算,以下代码表示构造一个5行4列的2维素组，\n",
    "#每个元素的值为10*横坐标x+纵坐标y\n",
    "def func1(x,y):\n",
    "    return 10*x+y\n",
    "b = fromfunction(func1,(5,4),dtype=int)\n",
    "print('b=',b)"
   ]
  },
  {
   "cell_type": "code",
   "execution_count": 26,
   "metadata": {},
   "outputs": [
    {
     "name": "stdout",
     "output_type": "stream",
     "text": [
      "二维数组切片,注意起止区间！\n",
      "b[2,3]= 23\n",
      "b[0:5,1]= [ 1 11 21 31 41]\n",
      "b[ : ,1]= [ 1 11 21 31 41]\n",
      "b[1:3, : ]= [[10 11 12 13]\n",
      " [20 21 22 23]]\n"
     ]
    }
   ],
   "source": [
    "#二维数组切片,注意起止区间！\n",
    "print('二维数组切片,注意起止区间！')\n",
    "print('b[2,3]=',b[2,3])\n",
    "print('b[0:5,1]=',b[0:5,1])\n",
    "print('b[ : ,1]=',b[ : ,1])\n",
    "print('b[1:3, : ]=',b[1:3, : ])"
   ]
  },
  {
   "cell_type": "code",
   "execution_count": 27,
   "metadata": {},
   "outputs": [
    {
     "name": "stdout",
     "output_type": "stream",
     "text": [
      "将b按行分拆成5个独立数组输出：\n",
      "[0 1 2 3]\n",
      "[10 11 12 13]\n",
      "[20 21 22 23]\n",
      "[30 31 32 33]\n",
      "[40 41 42 43]\n"
     ]
    }
   ],
   "source": [
    "#逐行操作。注意，此时输出是5个独立数组\n",
    "print('将b按行分拆成5个独立数组输出：')\n",
    "for row in b:\n",
    "    print(row)"
   ]
  },
  {
   "cell_type": "code",
   "execution_count": 28,
   "metadata": {},
   "outputs": [
    {
     "name": "stdout",
     "output_type": "stream",
     "text": [
      "[[0. 0.]\n",
      " [0. 0.]]\n"
     ]
    }
   ],
   "source": [
    "#构造一个用0填充的2行2列矩阵\n",
    "import numpy as np \n",
    "a=np.zeros((2,2))\n",
    "print(a)"
   ]
  },
  {
   "cell_type": "code",
   "execution_count": 29,
   "metadata": {},
   "outputs": [
    {
     "name": "stdout",
     "output_type": "stream",
     "text": [
      "[[1. 1. 1.]\n",
      " [1. 1. 1.]\n",
      " [1. 1. 1.]]\n"
     ]
    }
   ],
   "source": [
    "#构造一个用1填充的3行3列矩阵\n",
    "b=np.ones((3,3))\n",
    "print(b)"
   ]
  },
  {
   "cell_type": "code",
   "execution_count": 30,
   "metadata": {},
   "outputs": [
    {
     "name": "stdout",
     "output_type": "stream",
     "text": [
      "[[1. 0. 0.]\n",
      " [0. 1. 0.]\n",
      " [0. 0. 1.]]\n"
     ]
    }
   ],
   "source": [
    "#构造3行3列单位矩阵\n",
    "c=np.identity(3)\n",
    "print(c)"
   ]
  },
  {
   "cell_type": "code",
   "execution_count": 31,
   "metadata": {},
   "outputs": [
    {
     "name": "stdout",
     "output_type": "stream",
     "text": [
      "[[10  5  8]\n",
      " [10  5  6]\n",
      " [ 2  6  2]]\n"
     ]
    }
   ],
   "source": [
    "#构造3行3列[1,10]之间的随机整数矩阵\n",
    "d=np.random.randint(1,11,(3,3))\n",
    "print(d)"
   ]
  },
  {
   "cell_type": "code",
   "execution_count": 32,
   "metadata": {},
   "outputs": [
    {
     "name": "stdout",
     "output_type": "stream",
     "text": [
      "[[ 0.29431625 -1.92304821  0.03189478]\n",
      " [ 0.04544197 -0.91897049 -0.54758752]\n",
      " [-0.40284206 -1.00830478  2.07326681]]\n"
     ]
    }
   ],
   "source": [
    "#构造3行3列服从0，1分布的正态随机矩阵\n",
    "e=np.random.randn(3,3)\n",
    "print(e)"
   ]
  },
  {
   "cell_type": "code",
   "execution_count": 33,
   "metadata": {},
   "outputs": [
    {
     "name": "stdout",
     "output_type": "stream",
     "text": [
      "矩阵a：\n",
      "[[1 2]\n",
      " [3 4]]\n",
      "矩阵b：\n",
      "[[5 6]\n",
      " [7 8]]\n",
      "a矩阵与b矩阵相乘的结果是：\n",
      "[[19 22]\n",
      " [43 50]]\n",
      "a矩阵与b矩阵dot运算的结果是：\n",
      "[[19 22]\n",
      " [43 50]]\n",
      "\n",
      "向量e：\n",
      "[1 2 3]\n",
      "向量f：\n",
      "[4 5 6]\n",
      "e向量与f向量内积的结果是：\n",
      "32\n",
      "e向量与f向量dot运算的结果是：\n",
      "32\n"
     ]
    }
   ],
   "source": [
    "a=np.array([[1,2],[3,4]]) \n",
    "b=np.array([[5,6],[7,8]])\n",
    "print('矩阵a：')\n",
    "print(a)\n",
    "print('矩阵b：')\n",
    "print(b)\n",
    "\n",
    "print('a矩阵与b矩阵相乘的结果是：')\n",
    "c= matmul(a,b)\n",
    "print(c)\n",
    "\n",
    "print('a矩阵与b矩阵dot运算的结果是：')\n",
    "d=dot(a,b)\n",
    "print(d)\n",
    "print()\n",
    "\n",
    "e=np.array([1,2,3])\n",
    "f=np.array([4,5,6])\n",
    "print('向量e：')\n",
    "print(e)\n",
    "print('向量f：')\n",
    "print(f)\n",
    "\n",
    "print('e向量与f向量内积的结果是：')\n",
    "g= inner(e,f)\n",
    "print(g)\n",
    "\n",
    "print('e向量与f向量dot运算的结果是：')\n",
    "h=dot(e,f)\n",
    "print(h)"
   ]
  },
  {
   "cell_type": "code",
   "execution_count": 34,
   "metadata": {},
   "outputs": [
    {
     "name": "stdout",
     "output_type": "stream",
     "text": [
      "矩阵a：\n",
      "[[1 2]\n",
      " [3 4]]\n",
      "\n",
      "矩阵a对应的行列式的值是：\n",
      "-2.0000000000000004\n",
      "\n",
      "矩阵a对应的逆矩阵是：\n",
      "[[-2.   1. ]\n",
      " [ 1.5 -0.5]]\n",
      "\n",
      "矩阵a对应的特征值和特征向量是：\n",
      "特征值： [-0.37228132  5.37228132]\n",
      "特征向量： [[-0.82456484 -0.41597356]\n",
      " [ 0.56576746 -0.90937671]]\n"
     ]
    }
   ],
   "source": [
    "a=np.array([[1,2],[3,4]])\n",
    "print('矩阵a：')\n",
    "print(a)\n",
    "print()\n",
    "\n",
    "print('矩阵a对应的行列式的值是：')\n",
    "b=np.linalg.det(a)\n",
    "print(b)\n",
    "print()\n",
    "\n",
    "print('矩阵a对应的逆矩阵是：')\n",
    "c=np.linalg.inv(a)\n",
    "print(c)\n",
    "print()\n",
    "\n",
    "print('矩阵a对应的特征值和特征向量是：')\n",
    "d=np.linalg.eig(a)\n",
    "print('特征值：',d[0])\n",
    "print('特征向量：',d[1])"
   ]
  },
  {
   "cell_type": "code",
   "execution_count": 35,
   "metadata": {},
   "outputs": [
    {
     "name": "stdout",
     "output_type": "stream",
     "text": [
      "方程形如Ax=b，其中A=\n",
      "[[ 3  1 -2]\n",
      " [ 1 -1  4]\n",
      " [ 2  0  3]]\n",
      "其中b= [ 5.  -2.   2.5]\n",
      "\n",
      "方程的解为：\n",
      "[0.5 4.5 0.5]\n"
     ]
    }
   ],
   "source": [
    "#必须引入scipy包，用于求解线性方程\n",
    "from scipy.linalg import solve\n",
    "a = np.array([[3, 1, -2], [1, -1, 4], [2, 0, 3]])\n",
    "b = np.array([5, -2, 2.5])\n",
    "print('方程形如Ax=b，其中A=')\n",
    "print(a)\n",
    "print('其中b=',b)\n",
    "print()\n",
    "print('方程的解为：')\n",
    "x = solve(a, b)\n",
    "print(x)"
   ]
  },
  {
   "cell_type": "code",
   "execution_count": 36,
   "metadata": {},
   "outputs": [
    {
     "name": "stdout",
     "output_type": "stream",
     "text": [
      "原始数据: [43 47 62 72 33 22 27 15 25 78]\n",
      "原始数据: [ 1  2  3  4  5  6  7  8  9 10]\n",
      "原始数据: [ 0.31846553  1.62965486 -2.54308736 -0.4208588  -0.46515452 -1.00041729\n",
      "  1.85343977 -0.52793276 -0.06644821  1.53229219]\n",
      "原始数据: [ 1.29957796  1.81122286 -1.83304288  0.81389536 -2.62016749 -0.38130996\n",
      " -0.80587258  1.68481004  0.00499059  2.23730022]\n",
      "最小值: 15\n",
      "最大值: 78\n",
      "结构 (10,)\n",
      "切片操作:\n",
      "[43 47 62 72 33 22 27 15]\n",
      "[25 78]\n",
      "[43]\n",
      "<class 'numpy.ndarray'>\n",
      "排序后: [15 22 25 27 33 43 47 62 72 78]\n"
     ]
    }
   ],
   "source": [
    "import numpy as np\n",
    "\n",
    "#定义一维数组 a,由10个1-100之间随机数构成，请注意起始值和终值。\n",
    "a = np.random.randint(1,101,10)\n",
    "#定义一维数组 b,由1，2，……10构成\n",
    "b = np.arange(1,11)\n",
    "#定义一维数组 c,由10个符合N（0，1）正态分布的随机数构成\n",
    "c = np.random.randn(10)\n",
    "#定义一维数组 d,由10个符合N（1，4）分布的随机数构成\n",
    "d = np.random.randn(10)*2+1\n",
    "print('原始数据:', a)  \n",
    "print('原始数据:', b) \n",
    "print('原始数据:', c)\n",
    "print('原始数据:', d)  \n",
    "  \n",
    "#输出最大、最小值及结构\n",
    "#此处结构是指维度、行列信息\n",
    "print('最小值:', a.min())  \n",
    "print('最大值:', a.max())  \n",
    "print('结构', a.shape)  \n",
    "  \n",
    "#数据切片  \n",
    "print('切片操作:')  \n",
    "print(a[:-2])  \n",
    "print(a[-2:])  \n",
    "print(a[:1])  \n",
    "  \n",
    "#排序  \n",
    "print(type(a))  \n",
    "a.sort()  \n",
    "print('排序后:', a)"
   ]
  },
  {
   "cell_type": "code",
   "execution_count": 37,
   "metadata": {},
   "outputs": [
    {
     "name": "stdout",
     "output_type": "stream",
     "text": [
      "e: [[0. 0. 0.]\n",
      " [0. 0. 0.]]\n",
      "f: [[1. 1.]\n",
      " [1. 1.]\n",
      " [1. 1.]]\n",
      "h结构: (3, 4)\n",
      "获取值: 4\n",
      "获取某行: [4 5 6 7]\n",
      "获取某行并切片: [1 2 3]\n",
      "获取某行并切片: [4]\n",
      "获取第3列:\n",
      "[[3]\n",
      " [6]\n",
      " [9]]\n",
      "i: [[2 1 3]\n",
      " [9 6 7]]\n",
      "0.49999999999999994\n",
      "<class 'numpy.float64'>\n",
      "[0 1 2 3]\n",
      "<class 'numpy.ndarray'>\n"
     ]
    }
   ],
   "source": [
    "import numpy as np  \n",
    "\n",
    "#2行3列二维数组，用0填充\n",
    "e = np.zeros([2,3])\n",
    "#3行2列二维数组，用1填充\n",
    "f = np.ones([3,2])\n",
    "print('e:',e)\n",
    "print('f:',f)\n",
    "\n",
    "#手工输入3行4列二维数组h\n",
    "h = np.array([[1, 2, 3, 4],[4, 5, 6, 7], [7, 8, 9, 10]])\n",
    "#获取值  \n",
    "print('h结构:', h.shape)  \n",
    "print('获取值:', h[1][0])  \n",
    "print('获取某行:',h[1][:])  \n",
    "print('获取某行并切片:',h[0][:-1])\n",
    "print('获取某行并切片:',h[0][-1:])  \n",
    "#获取具体某列值  \n",
    "print('获取第3列:')  \n",
    "print(h[:,np.newaxis, 2])  \n",
    "\n",
    "#2行3列二维数组，用1-10之间随机数填充\n",
    "i = np.random.randint(1,10,(2,3))\n",
    "print('i:',i)\n",
    "\n",
    "#调用sin函数  \n",
    "print(np.sin(np.pi/6))  \n",
    "print(type(np.sin(0.5))) \n",
    "  \n",
    "#范围定义  \n",
    "print(np.arange(0,4))  \n",
    "print(type(np.arange(0,4)))"
   ]
  }
 ],
 "metadata": {
  "kernelspec": {
   "display_name": "Python 3",
   "language": "python",
   "name": "python3"
  },
  "language_info": {
   "codemirror_mode": {
    "name": "ipython",
    "version": 3
   },
   "file_extension": ".py",
   "mimetype": "text/x-python",
   "name": "python",
   "nbconvert_exporter": "python",
   "pygments_lexer": "ipython3",
   "version": "3.7.4"
  }
 },
 "nbformat": 4,
 "nbformat_minor": 2
}
