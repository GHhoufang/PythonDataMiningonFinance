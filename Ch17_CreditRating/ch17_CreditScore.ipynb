{
 "cells": [
  {
   "cell_type": "code",
   "execution_count": 1,
   "metadata": {},
   "outputs": [
    {
     "name": "stdout",
     "output_type": "stream",
     "text": [
      "原始数据概况：\n",
      "<class 'pandas.core.frame.DataFrame'>\n",
      "RangeIndex: 150000 entries, 0 to 149999\n",
      "Data columns (total 11 columns):\n",
      " #   Column                                Non-Null Count   Dtype  \n",
      "---  ------                                --------------   -----  \n",
      " 0   SeriousDlqin2yrs                      150000 non-null  int64  \n",
      " 1   RevolvingUtilizationOfUnsecuredLines  150000 non-null  float64\n",
      " 2   age                                   150000 non-null  int64  \n",
      " 3   NumberOfTime30-59DaysPastDueNotWorse  150000 non-null  int64  \n",
      " 4   DebtRatio                             150000 non-null  float64\n",
      " 5   MonthlyIncome                         120269 non-null  float64\n",
      " 6   NumberOfOpenCreditLinesAndLoans       150000 non-null  int64  \n",
      " 7   NumberOfTimes90DaysLate               150000 non-null  int64  \n",
      " 8   NumberRealEstateLoansOrLines          150000 non-null  int64  \n",
      " 9   NumberOfTime60-89DaysPastDueNotWorse  150000 non-null  int64  \n",
      " 10  NumberOfDependents                    146076 non-null  float64\n",
      "dtypes: float64(4), int64(7)\n",
      "memory usage: 12.6 MB\n"
     ]
    }
   ],
   "source": [
    "import pandas as pd\n",
    "import numpy as np\n",
    "import matplotlib.pyplot as plt\n",
    "plt.rcParams['font.sans-serif']=['SimHei'] \n",
    "plt.rcParams['axes.unicode_minus'] = False \n",
    "\n",
    "data = pd.read_csv('ch17_cs_training.csv')\n",
    "print('原始数据概况：')\n",
    "data.info()"
   ]
  },
  {
   "cell_type": "code",
   "execution_count": 2,
   "metadata": {},
   "outputs": [],
   "source": [
    "from sklearn.ensemble import RandomForestRegressor\n",
    "# 用随机森林对MonthlyIncome月收入缺失值进行预测填充\n",
    "#参数：  df-Daraframe，Pandas数据框\n",
    "#返回值：df-Daraframe，填充了MonthlyIncome缺失值的数据框\n",
    "def set_missing(df):\n",
    "#将第5列MonthlyIncome提前到第0列，便于后续划分数据\n",
    "    print('随机森林回归填充0值：')\n",
    "    process_df = df.iloc[:,[5,0,1,2,3,4,6,7,8,9]]\n",
    "#分成有数值/缺失值两组\n",
    "    known = process_df.loc[process_df['MonthlyIncome']!=0].values\n",
    "    unknown = process_df.loc[process_df['MonthlyIncome']==0].values\n",
    "    X = known[:, 1:]\n",
    "    y = known[:, 0]\n",
    "#用X，y训练随机森林回归算法\n",
    "    rfr = RandomForestRegressor(random_state=0, n_estimators=200,max_depth=3,n_jobs=-1)\n",
    "    rfr.fit(X,y)\n",
    "#得到的模型进行缺失值预测\n",
    "    predicted = rfr.predict(unknown[:, 1:]).round(0)\n",
    "#用得到的预测结果填补原缺失数据\n",
    "    df.loc[df['MonthlyIncome']==0, 'MonthlyIncome'] = predicted\n",
    "    return df"
   ]
  },
  {
   "cell_type": "code",
   "execution_count": 3,
   "metadata": {},
   "outputs": [],
   "source": [
    "#离群点检测、删除，删除标准为：\n",
    "#最小阈值=第一四分位点-1.5*（第三四分位点-第一四分位点）\n",
    "#最大阈值=第三四分位点+1.5*（第三四分位点-第一四分位点）\n",
    "#小于最小阈值，大于最大阈值的行将会被删除\n",
    "#参数：  df-Daraframe，Pandas数据框\n",
    "#       cname-字符串，进行离群点删除的列名\n",
    "#返回值：df-Daraframe，完成了离群点检测删除的数据框\n",
    "def outlier_processing(df,cname):\n",
    "    s=df[cname]\n",
    "    oneQuoter=s.quantile(0.25)\n",
    "    threeQuote=s.quantile(0.75)\n",
    "    irq=threeQuote-oneQuoter\n",
    "    min=oneQuoter-1.5*irq\n",
    "    max=threeQuote+1.5*irq\n",
    "    df=df[df[cname]<=max]\n",
    "    df=df[df[cname]>=min]\n",
    "    return df"
   ]
  },
  {
   "cell_type": "code",
   "execution_count": 4,
   "metadata": {},
   "outputs": [
    {
     "name": "stdout",
     "output_type": "stream",
     "text": [
      "MonthlyIncome属性离群点原始分布：\n"
     ]
    },
    {
     "data": {
      "image/png": "[encoded data removed]",
      "text/plain": [
       "<Figure size 432x288 with 1 Axes>"
      ]
     },
     "metadata": {
      "needs_background": "light"
     },
     "output_type": "display_data"
    },
    {
     "name": "stdout",
     "output_type": "stream",
     "text": [
      "删除离群点、填充缺失数据：\n",
      "随机森林回归填充0值：\n",
      "处理MonthlyIncome后数据概况：\n",
      "<class 'pandas.core.frame.DataFrame'>\n",
      "Int64Index: 115390 entries, 0 to 149999\n",
      "Data columns (total 11 columns):\n",
      " #   Column                                Non-Null Count   Dtype  \n",
      "---  ------                                --------------   -----  \n",
      " 0   SeriousDlqin2yrs                      115390 non-null  int64  \n",
      " 1   RevolvingUtilizationOfUnsecuredLines  115390 non-null  float64\n",
      " 2   age                                   115390 non-null  int64  \n",
      " 3   NumberOfTime30-59DaysPastDueNotWorse  115390 non-null  int64  \n",
      " 4   DebtRatio                             115390 non-null  float64\n",
      " 5   MonthlyIncome                         115390 non-null  float64\n",
      " 6   NumberOfOpenCreditLinesAndLoans       115390 non-null  int64  \n",
      " 7   NumberOfTimes90DaysLate               115390 non-null  int64  \n",
      " 8   NumberRealEstateLoansOrLines          115390 non-null  int64  \n",
      " 9   NumberOfTime60-89DaysPastDueNotWorse  115390 non-null  int64  \n",
      " 10  NumberOfDependents                    115390 non-null  float64\n",
      "dtypes: float64(4), int64(7)\n",
      "memory usage: 10.6 MB\n"
     ]
    },
    {
     "data": {
      "image/png": "[encoded data removed]",
      "text/plain": [
       "<Figure size 432x288 with 1 Axes>"
      ]
     },
     "metadata": {
      "needs_background": "light"
     },
     "output_type": "display_data"
    }
   ],
   "source": [
    "#对MonthlyIncome列进行数据整理\n",
    "print('MonthlyIncome属性离群点原始分布：')\n",
    "data[['MonthlyIncome']].boxplot()\n",
    "plt.savefig('ch17_cs01.png', dpi=300, bbox_inches='tight')\n",
    "plt.show()\n",
    "print('删除离群点、填充缺失数据：')\n",
    "data=outlier_processing(data,'MonthlyIncome')\n",
    "data=set_missing(data)\n",
    "print('处理MonthlyIncome后数据概况：')\n",
    "data.info()\n",
    "data[['MonthlyIncome']].boxplot()\n",
    "plt.savefig('ch17_cs02.png', dpi=300, bbox_inches='tight')\n",
    "plt.show()"
   ]
  },
  {
   "cell_type": "code",
   "execution_count": 5,
   "metadata": {},
   "outputs": [],
   "source": [
    "#对其他属性进行离群点处理\n",
    "data=outlier_processing(data,'age')\n",
    "data=outlier_processing(data,'RevolvingUtilizationOfUnsecuredLines')\n",
    "data=outlier_processing(data,'DebtRatio')\n",
    "data=outlier_processing(data,'NumberOfOpenCreditLinesAndLoans')\n",
    "data=outlier_processing(data,'NumberRealEstateLoansOrLines')\n",
    "data=outlier_processing(data,'NumberOfDependents')"
   ]
  },
  {
   "cell_type": "code",
   "execution_count": 6,
   "metadata": {},
   "outputs": [
    {
     "name": "stdout",
     "output_type": "stream",
     "text": [
      "NumberOfTime30-59DaysPastDueNotWorse,      NumberOfTime60-89DaysPastDueNotWorse,      NumberOfTimes90DaysLate原始分布：\n"
     ]
    },
    {
     "data": {
      "image/png": "[encoded data removed]",
      "text/plain": [
       "<Figure size 432x288 with 1 Axes>"
      ]
     },
     "metadata": {
      "needs_background": "light"
     },
     "output_type": "display_data"
    },
    {
     "name": "stdout",
     "output_type": "stream",
     "text": [
      "删除离群点后：\n"
     ]
    },
    {
     "data": {
      "image/png": "[encoded data removed]",
      "text/plain": [
       "<Figure size 432x288 with 1 Axes>"
      ]
     },
     "metadata": {
      "needs_background": "light"
     },
     "output_type": "display_data"
    },
    {
     "name": "stdout",
     "output_type": "stream",
     "text": [
      "处理离群点后后数据概况：\n",
      "<class 'pandas.core.frame.DataFrame'>\n",
      "Int64Index: 94179 entries, 1 to 149999\n",
      "Data columns (total 11 columns):\n",
      " #   Column                                Non-Null Count  Dtype  \n",
      "---  ------                                --------------  -----  \n",
      " 0   SeriousDlqin2yrs                      94179 non-null  int64  \n",
      " 1   RevolvingUtilizationOfUnsecuredLines  94179 non-null  float64\n",
      " 2   age                                   94179 non-null  int64  \n",
      " 3   NumberOfTime30-59DaysPastDueNotWorse  94179 non-null  int64  \n",
      " 4   DebtRatio                             94179 non-null  float64\n",
      " 5   MonthlyIncome                         94179 non-null  float64\n",
      " 6   NumberOfOpenCreditLinesAndLoans       94179 non-null  int64  \n",
      " 7   NumberOfTimes90DaysLate               94179 non-null  int64  \n",
      " 8   NumberRealEstateLoansOrLines          94179 non-null  int64  \n",
      " 9   NumberOfTime60-89DaysPastDueNotWorse  94179 non-null  int64  \n",
      " 10  NumberOfDependents                    94179 non-null  float64\n",
      "dtypes: float64(4), int64(7)\n",
      "memory usage: 8.6 MB\n"
     ]
    }
   ],
   "source": [
    "#以下三个属性取值过于集中，三个四分位点的值都相等。\n",
    "#直接使用outlier_processing函数会导致所有取值被删除，\n",
    "#因此观察分布后，手工处理\n",
    "Features=['NumberOfTime30-59DaysPastDueNotWorse',\n",
    "          'NumberOfTime60-89DaysPastDueNotWorse',\n",
    "          'NumberOfTimes90DaysLate']\n",
    "Features_labale=['30-59Days','60-89Days','90+Days']\n",
    "print('NumberOfTime30-59DaysPastDueNotWorse,\\\n",
    "      NumberOfTime60-89DaysPastDueNotWorse,\\\n",
    "      NumberOfTimes90DaysLate原始分布：')\n",
    "data[Features].boxplot()\n",
    "plt.xticks([1,2,3],Features_labale)\n",
    "plt.savefig('ch17_cs03.png', dpi=300, bbox_inches='tight')\n",
    "plt.show()\n",
    "\n",
    "print('删除离群点后：')\n",
    "data= data[data['NumberOfTime30-59DaysPastDueNotWorse'] < 90]\n",
    "data= data[data['NumberOfTime60-89DaysPastDueNotWorse'] < 90]\n",
    "data= data[data['NumberOfTimes90DaysLate'] < 90]\n",
    "\n",
    "data[Features].boxplot()\n",
    "plt.xticks([1,2,3],Features_labale)\n",
    "plt.savefig('ch17_cs04.png',dpi=300, bbox_inches='tight')\n",
    "plt.show()\n",
    "print('处理离群点后后数据概况：')\n",
    "data.info()"
   ]
  },
  {
   "cell_type": "code",
   "execution_count": 7,
   "metadata": {},
   "outputs": [
    {
     "name": "stdout",
     "output_type": "stream",
     "text": [
      "训练集数据：\n",
      "(65925, 11)\n",
      "测试集数据：\n",
      "(28254, 11)\n"
     ]
    }
   ],
   "source": [
    "#测试集与训练集生成\n",
    "from sklearn.model_selection import train_test_split\n",
    "#SeriousDlqin2yrs原始值为0表示正常，为1表示违约\n",
    "#而习惯上信用评分越高的，违约可能越小\n",
    "#因此将该值转置，原值0的，置为1；原值1的，置为0\n",
    "data['SeriousDlqin2yrs']=1-data['SeriousDlqin2yrs']\n",
    "Y = data['SeriousDlqin2yrs']\n",
    "X = data.iloc[:, 1:]\n",
    "X_train, X_test, Y_train, Y_test = train_test_split(X, Y, test_size=0.3, random_state=0)\n",
    "# print(Y_train)\n",
    "train = pd.concat([Y_train, X_train], axis=1)\n",
    "test = pd.concat([Y_test, X_test], axis=1)\n",
    "clasTest = test.groupby('SeriousDlqin2yrs')['SeriousDlqin2yrs'].count()\n",
    "print('训练集数据：')\n",
    "print(train.shape)\n",
    "print('测试集数据：')\n",
    "print(test.shape)"
   ]
  },
  {
   "cell_type": "code",
   "execution_count": 8,
   "metadata": {},
   "outputs": [],
   "source": [
    "#指定数量进行分箱，并计算WOE和IV\n",
    "#参数：  res-series,dataframe中的结果列\n",
    "#       feat-series,dataframe中的属性列\n",
    "#       n-数值，分箱数量，默认为10\n",
    "#返回值：v_feature-Daraframe，含有用于计算WOE和IV的数值\n",
    "#       iv-数值，IV结果\n",
    "#       cut-List列表，分箱数据\n",
    "#       woe-List列表，\n",
    "def mono_bin(res, feat, n = 10):\n",
    "    good=res.sum()\n",
    "    bad=res.count()-good\n",
    "    d1 = pd.DataFrame({'feat': feat, 'res': res, 'Bucket': pd.cut(feat, n)})\n",
    "    d2 = d1.groupby('Bucket', as_index = True)\n",
    "    d3 = pd.DataFrame(d2.feat.min(), columns = ['min'])\n",
    "    d3['min']=d2.min().feat\n",
    "    d3['max'] = d2.max().feat\n",
    "    d3['sum'] = d2.sum().res\n",
    "    d3['total'] = d2.count().res\n",
    "    d3['rate'] = d2.mean().res\n",
    "    d3['woe']=np.log((d3['rate']/(1-d3['rate']))/(good/bad))\n",
    "    d3['goodattribute']=d3['sum']/good\n",
    "    d3['badattribute']=(d3['total']-d3['sum'])/bad\n",
    "    iv=((d3['goodattribute']-d3['badattribute'])*d3['woe']).sum()\n",
    "    d4 = (d3.sort_values(by = 'min'))\n",
    "    cut=[]\n",
    "    cut.append(float('-inf'))#负无穷大\n",
    "    for i in range(1,n):\n",
    "        qua=feat.quantile(i/(n))\n",
    "        cut.append(round(qua,4))\n",
    "    cut.append(float('inf'))#正无穷大\n",
    "    woe=list(d4['woe'].round(3))\n",
    "    return d4,iv,cut,woe"
   ]
  },
  {
   "cell_type": "code",
   "execution_count": 9,
   "metadata": {},
   "outputs": [],
   "source": [
    "#指定间隔进行分箱，并计算WOE和IV\n",
    "#参数：  res-series,dataframe中的结果列\n",
    "#       feat-series,dataframe中的属性列\n",
    "#       cat-List列表，分箱数值\n",
    "#返回值：v_feature-Daraframe，含有用于计算WOE和IV的数值\n",
    "#       iv-数值，IV结果\n",
    "#       woe-List列表，\n",
    "def self_bin(res,feat,cat):\n",
    "    good=res.sum()\n",
    "    bad=res.count()-good\n",
    "    d1=pd.DataFrame({'feat':feat,'res':res,'Bucket':pd.cut(feat,cat)})\n",
    "    d2=d1.groupby('Bucket', as_index = True)\n",
    "    d3 = pd.DataFrame(d2.feat.min(), columns=['min'])\n",
    "    d3['min'] = d2.min().feat\n",
    "    d3['max'] = d2.max().feat\n",
    "    d3['sum'] = d2.sum().res\n",
    "    d3['total'] = d2.count().res\n",
    "    d3['rate'] = d2.mean().res\n",
    "    d3['woe'] = np.log((d3['rate'] / (1 - d3['rate'])) / (good / bad))\n",
    "    d3['goodattribute'] = d3['sum'] / good\n",
    "    d3['badattribute'] = (d3['total'] - d3['sum']) / bad\n",
    "    iv = ((d3['goodattribute'] - d3['badattribute']) * d3['woe']).sum()\n",
    "    d4 = (d3.sort_values(by='min'))\n",
    "    woe = list(d4['woe'].round(3))\n",
    "    return d4,iv,woe"
   ]
  },
  {
   "cell_type": "code",
   "execution_count": 10,
   "metadata": {},
   "outputs": [
    {
     "name": "stdout",
     "output_type": "stream",
     "text": [
      "============================================================\n",
      "RevolvingUtilizationOfUnsecuredLines分箱，woe信息：\n",
      "                        min       max    sum  total      rate       woe  \\\n",
      "Bucket                                                                    \n",
      "(-0.00141, 0.141]  0.000000  0.141145  30655  31234  0.981463  1.282661   \n",
      "(0.141, 0.282]     0.141163  0.282305   8003   8284  0.966079  0.662629   \n",
      "(0.282, 0.423]     0.282315  0.423405   5374   5653  0.950646  0.271528   \n",
      "(0.423, 0.565]     0.423499  0.564593   4070   4387  0.927741 -0.134091   \n",
      "(0.565, 0.706]     0.564625  0.705765   3179   3525  0.901844 -0.468705   \n",
      "(0.706, 0.847]     0.705912  0.846890   2762   3181  0.868280 -0.800748   \n",
      "(0.847, 0.988]     0.846983  0.988024   3078   3770  0.816446 -1.194138   \n",
      "(0.988, 1.129]     0.988155  1.128589   4462   5631  0.792399 -1.347139   \n",
      "(1.129, 1.27]      1.129353  1.269841     91    176  0.517045 -2.618380   \n",
      "(1.27, 1.412]      1.271081  1.411533     47     84  0.559524 -2.447358   \n",
      "\n",
      "                   goodattribute  badattribute  \n",
      "Bucket                                          \n",
      "(-0.00141, 0.141]       0.496671      0.137726  \n",
      "(0.141, 0.282]          0.129664      0.066841  \n",
      "(0.282, 0.423]          0.087069      0.066365  \n",
      "(0.423, 0.565]          0.065942      0.075404  \n",
      "(0.565, 0.706]          0.051506      0.082303  \n",
      "(0.706, 0.847]          0.044750      0.099667  \n",
      "(0.847, 0.988]          0.049870      0.164605  \n",
      "(0.988, 1.129]          0.072293      0.278069  \n",
      "(1.129, 1.27]           0.001474      0.020219  \n",
      "(1.27, 1.412]           0.000761      0.008801  \n"
     ]
    }
   ],
   "source": [
    "#对第1、2、4、5列数据进行10段分箱\n",
    "pinf = float('inf')#正无穷大\n",
    "ninf = float('-inf')#负无穷大\n",
    "dfx1, ivx1,cutx1,woex1=mono_bin(train['SeriousDlqin2yrs'],\n",
    "                                train['RevolvingUtilizationOfUnsecuredLines'],n=10)\n",
    "#显示RevolvingUtilizationOfUnsecuredLines分箱和woe信息，限于篇幅，其他列不逐一显示\n",
    "print(\"=\" * 60)\n",
    "print('RevolvingUtilizationOfUnsecuredLines分箱，woe信息：')\n",
    "print(dfx1)\n",
    "dfx2, ivx2,cutx2,woex2=mono_bin(train['SeriousDlqin2yrs'],train['age'], n=10)\n",
    "dfx4, ivx4,cutx4,woex4 =mono_bin(train['SeriousDlqin2yrs'],\n",
    "                                 train['DebtRatio'], n=10)\n",
    "dfx5, ivx5,cutx5,woex5 =mono_bin(train['SeriousDlqin2yrs'],\n",
    "                                 train['MonthlyIncome'], n=10)"
   ]
  },
  {
   "cell_type": "code",
   "execution_count": 11,
   "metadata": {},
   "outputs": [
    {
     "name": "stdout",
     "output_type": "stream",
     "text": [
      "============================================================\n",
      "NumberOfTime30-59DaysPastDueNotWorse分箱，woe信息：\n",
      "             min  max    sum  total      rate       woe  goodattribute  \\\n",
      "Bucket                                                                   \n",
      "(-inf, 0.0]    0    0  53249  55416  0.960896  0.515048       0.862737   \n",
      "(0.0, 1.0]     1    1   6150   7155  0.859539 -0.875123       0.099642   \n",
      "(1.0, 3.0]     2    3   2010   2804  0.716833 -1.757781       0.032566   \n",
      "(3.0, 5.0]     4    5    259    456  0.567982 -2.412963       0.004196   \n",
      "(5.0, inf]     6   11     53     94  0.563830 -2.429868       0.000859   \n",
      "\n",
      "             badattribute  \n",
      "Bucket                     \n",
      "(-inf, 0.0]      0.515461  \n",
      "(0.0, 1.0]       0.239058  \n",
      "(1.0, 3.0]       0.188868  \n",
      "(3.0, 5.0]       0.046860  \n",
      "(5.0, inf]       0.009753  \n"
     ]
    }
   ],
   "source": [
    "#对第3、6、7、8、9、10列数据进行指定间隔分箱\n",
    "cutx3 = [ninf, 0, 1, 3, 5, pinf]\n",
    "cutx6 = [ninf, 1, 2, 3, 5, pinf]\n",
    "cutx7 = [ninf, 0, 1, 3, 5, pinf]\n",
    "cutx8 = [ninf, 0,1,2, 3, pinf]\n",
    "cutx9 = [ninf, 0, 1, 3, pinf]\n",
    "cutx10 = [ninf, 0, 1, 2, 3, 5, pinf]\n",
    "dfx3,ivx3,woex3= self_bin(train['SeriousDlqin2yrs'],\n",
    "                            train['NumberOfTime30-59DaysPastDueNotWorse'], cutx3)\n",
    "#显示NumberOfTime30-59DaysPastDueNotWorse分箱和woe信息，\n",
    "#限于篇幅，其他列不逐一显示\n",
    "print(\"=\" * 60)\n",
    "print('NumberOfTime30-59DaysPastDueNotWorse分箱，woe信息：')\n",
    "print(dfx3)\n",
    "dfx6,ivx6 ,woex6= self_bin(train['SeriousDlqin2yrs'],\n",
    "                            train['NumberOfOpenCreditLinesAndLoans'], cutx6)\n",
    "dfx7,ivx7,woex7= self_bin(train['SeriousDlqin2yrs'],\n",
    "                            train['NumberOfTimes90DaysLate'], cutx7)\n",
    "dfx8,ivx8,woex8= self_bin(train['SeriousDlqin2yrs'],\n",
    "                            train['NumberRealEstateLoansOrLines'], cutx8)\n",
    "dfx9,ivx9,woex9= self_bin(train['SeriousDlqin2yrs'],\n",
    "                            train['NumberOfTime60-89DaysPastDueNotWorse'], cutx9)\n",
    "dfx10,ivx10,woex10= self_bin(train['SeriousDlqin2yrs'],\n",
    "                               train['NumberOfDependents'], cutx10)"
   ]
  },
  {
   "cell_type": "code",
   "execution_count": 12,
   "metadata": {},
   "outputs": [
    {
     "data": {
      "image/png": "[encoded data removed]",
      "text/plain": [
       "<Figure size 432x288 with 1 Axes>"
      ]
     },
     "metadata": {
      "needs_background": "light"
     },
     "output_type": "display_data"
    }
   ],
   "source": [
    "#按照IV选取属性\n",
    "ivlist=[ivx1,ivx2,ivx3,ivx4,ivx5,ivx6,ivx7,ivx8,ivx9,ivx10]\n",
    "index=['x1','x2','x3','x4','x5','x6','x7','x8','x9','x10']\n",
    "fig1 = plt.figure(1)\n",
    "ax1 = fig1.add_subplot(1, 1, 1)\n",
    "x = np.arange(len(index))+1\n",
    "ax1.bar(x, ivlist, width=0.4)\n",
    "ax1.set_xticks(x)\n",
    "ax1.set_xticklabels(index, rotation=0, fontsize=12)\n",
    "ax1.set_ylabel('IV(Information Value)', fontsize=14)\n",
    "for a, b in zip(x, ivlist):\n",
    "    plt.text(a, b + 0.01, '%.4f' % b, ha='center', va='bottom', fontsize=10)\n",
    "plt.savefig('ch17_cs05.png', dpi=300, bbox_inches='tight')\n",
    "plt.show()"
   ]
  },
  {
   "cell_type": "code",
   "execution_count": 13,
   "metadata": {},
   "outputs": [],
   "source": [
    "#将原始数据转化为相应的woe值，用于计算信用得分\n",
    "#参数：  feat-series,dataframe中的属性列\n",
    "#       cut-List列表，该属性的分箱数值\n",
    "#       woe-List列表，该属性的woe值\n",
    "#返回值：res-List列表，输入的属性列对应的woe数值列\n",
    "def get_woe(feat,cut,woe):\n",
    "    res=[]\n",
    "    for row in feat.iteritems():\n",
    "        value=row[1]\n",
    "        j=len(cut)-2\n",
    "        m=len(cut)-2\n",
    "        while j>=0:\n",
    "            if value>=cut[j]:\n",
    "                j=-1\n",
    "            else:\n",
    "                j -=1\n",
    "                m -= 1\n",
    "        res.append(woe[m])\n",
    "    return res"
   ]
  },
  {
   "cell_type": "code",
   "execution_count": 14,
   "metadata": {},
   "outputs": [],
   "source": [
    "#将训练集各属性值替换成woe\n",
    "woe_train =pd.DataFrame()\n",
    "woe_train['SeriousDlqin2yrs'] = train['SeriousDlqin2yrs'] \n",
    "woe_train['RevolvingUtilizationOfUnsecuredLines'] = get_woe(\n",
    "        train['RevolvingUtilizationOfUnsecuredLines'], cutx1, woex1)\n",
    "woe_train['age'] = get_woe(train['age'], cutx2, woex2)\n",
    "woe_train['NumberOfTime30-59DaysPastDueNotWorse'] = get_woe(\n",
    "        train['NumberOfTime30-59DaysPastDueNotWorse'], cutx3, woex3)\n",
    "woe_train['DebtRatio'] = get_woe(train['DebtRatio'], cutx4, woex4)\n",
    "woe_train['MonthlyIncome'] = get_woe(train['MonthlyIncome'], cutx5, woex5)\n",
    "woe_train['NumberOfOpenCreditLinesAndLoans'] = get_woe(\n",
    "        train['NumberOfOpenCreditLinesAndLoans'], cutx6, woex6)\n",
    "woe_train['NumberOfTimes90DaysLate'] = get_woe(\n",
    "        train['NumberOfTimes90DaysLate'], cutx7, woex7)\n",
    "woe_train['NumberRealEstateLoansOrLines'] = get_woe(\n",
    "        train['NumberRealEstateLoansOrLines'], cutx8, woex8)\n",
    "woe_train['NumberOfTime60-89DaysPastDueNotWorse'] = get_woe(\n",
    "        train['NumberOfTime60-89DaysPastDueNotWorse'], cutx9, woex9)\n",
    "woe_train['NumberOfDependents'] = get_woe(train['NumberOfDependents'], \n",
    "                                          cutx10, woex10)"
   ]
  },
  {
   "cell_type": "code",
   "execution_count": 15,
   "metadata": {},
   "outputs": [],
   "source": [
    "#将测试集各属性值替换成woe\n",
    "woe_test =pd.DataFrame()\n",
    "woe_test['SeriousDlqin2yrs'] = test['SeriousDlqin2yrs'] \n",
    "woe_test['RevolvingUtilizationOfUnsecuredLines'] = get_woe(\n",
    "        test['RevolvingUtilizationOfUnsecuredLines'], cutx1, woex1)\n",
    "woe_test['age'] = get_woe(test['age'], cutx2, woex2)\n",
    "woe_test['NumberOfTime30-59DaysPastDueNotWorse'] = get_woe(\n",
    "        test['NumberOfTime30-59DaysPastDueNotWorse'], cutx3, woex3)\n",
    "woe_test['DebtRatio'] = get_woe(test['DebtRatio'], cutx4, woex4)\n",
    "woe_test['MonthlyIncome'] = get_woe(test['MonthlyIncome'], cutx5, woex5)\n",
    "woe_test['NumberOfOpenCreditLinesAndLoans'] = get_woe(\n",
    "        test['NumberOfOpenCreditLinesAndLoans'], cutx6, woex6)\n",
    "woe_test['NumberOfTimes90DaysLate'] = get_woe(\n",
    "        test['NumberOfTimes90DaysLate'], cutx7, woex7)\n",
    "woe_test['NumberRealEstateLoansOrLines'] = get_woe(\n",
    "        test['NumberRealEstateLoansOrLines'], cutx8, woex8)\n",
    "woe_test['NumberOfTime60-89DaysPastDueNotWorse'] = get_woe(\n",
    "        test['NumberOfTime60-89DaysPastDueNotWorse'], cutx9, woex9)\n",
    "woe_test['NumberOfDependents'] = get_woe(\n",
    "        test['NumberOfDependents'], cutx10, woex10)"
   ]
  },
  {
   "cell_type": "code",
   "execution_count": 16,
   "metadata": {},
   "outputs": [
    {
     "name": "stdout",
     "output_type": "stream",
     "text": [
      "Optimization terminated successfully.\n",
      "         Current function value: 0.182077\n",
      "         Iterations 8\n",
      "输出拟合的各项系数：\n",
      "const                                   10.466645\n",
      "RevolvingUtilizationOfUnsecuredLines     0.543796\n",
      "age                                      0.384398\n",
      "NumberOfTime30-59DaysPastDueNotWorse     0.990557\n",
      "NumberOfTimes90DaysLate                  1.713207\n",
      "NumberOfTime60-89DaysPastDueNotWorse     1.306427\n",
      "dtype: float64\n"
     ]
    }
   ],
   "source": [
    "import statsmodels.api as sm\n",
    "from sklearn.metrics import roc_curve, auc\n",
    "\n",
    "Y=woe_train['SeriousDlqin2yrs']\n",
    "X=woe_train.drop(['SeriousDlqin2yrs','DebtRatio',\n",
    "                  'MonthlyIncome','NumberOfOpenCreditLinesAndLoans',\n",
    "                  'NumberRealEstateLoansOrLines','NumberOfDependents'],axis=1)\n",
    "X1=sm.add_constant(X)\n",
    "logit=sm.Logit(Y,X1)\n",
    "Logit_model=logit.fit()\n",
    "print('输出拟合的各项系数：')\n",
    "print(Logit_model.params)"
   ]
  },
  {
   "cell_type": "code",
   "execution_count": 17,
   "metadata": {},
   "outputs": [
    {
     "name": "stdout",
     "output_type": "stream",
     "text": [
      "模型AUC曲线：\n"
     ]
    },
    {
     "data": {
      "image/png": "[encoded data removed]",
      "text/plain": [
       "<Figure size 432x288 with 1 Axes>"
      ]
     },
     "metadata": {
      "needs_background": "light"
     },
     "output_type": "display_data"
    }
   ],
   "source": [
    "Y_test = woe_test['SeriousDlqin2yrs']\n",
    "X_test = woe_test.drop(['SeriousDlqin2yrs', 'DebtRatio', 'MonthlyIncome',\n",
    "                        'NumberOfOpenCreditLinesAndLoans',\n",
    "                        'NumberRealEstateLoansOrLines',\n",
    "                        'NumberOfDependents'], axis=1)\n",
    "X3 = sm.add_constant(X_test)\n",
    "resu = Logit_model.predict(X3)\n",
    "fpr, tpr, threshold = roc_curve(Y_test, resu)\n",
    "rocauc = auc(fpr, tpr)\n",
    "plt.plot(fpr, tpr, 'b', label='AUC = %0.2f' % rocauc)\n",
    "plt.legend(loc='lower right')\n",
    "plt.plot([0, 1], [0, 1], 'r--')\n",
    "plt.xlim([0, 1])\n",
    "plt.ylim([0, 1])\n",
    "plt.ylabel('真正率')\n",
    "plt.xlabel('假正率')\n",
    "plt.savefig('ch17_cs06.png', dpi=300, bbox_inches='tight')\n",
    "print('模型AUC曲线：')\n",
    "plt.show()"
   ]
  },
  {
   "cell_type": "code",
   "execution_count": 18,
   "metadata": {},
   "outputs": [],
   "source": [
    "#根据woe分段，计算某一列属性的woe取值所对应的分数分段取值\n",
    "#参数：  coe-数值，Logit模型计算得到的该列属性对应的系数\n",
    "#       woe-List列表，该属性的woe值\n",
    "#       factor-数值，调整系数\n",
    "#返回值：scores-List列表，每一个woe分段对应的分数\n",
    "def get_score(coe,woe,factor):\n",
    "    scores=[]\n",
    "    for w in woe:\n",
    "        score=round(coe*w*factor,0)\n",
    "        scores.append(score)\n",
    "    return scores"
   ]
  },
  {
   "cell_type": "code",
   "execution_count": 19,
   "metadata": {},
   "outputs": [],
   "source": [
    "#根据属性取值，计算其对应的分数\n",
    "#参数：  feat-series,dataframe中的属性列\n",
    "#       cut-List列表，该属性的分箱数值\n",
    "#       score-List列表，该属性woe分段对应的分数（来自get_score函数）\n",
    "#返回值：res-List列表，输入的属性列对应的woe数值列\n",
    "def compute_score(feat,cut,score):\n",
    "    res = []\n",
    "    for row in feat.iteritems():\n",
    "        value=row[1]\n",
    "        j=len(cut)-2\n",
    "        m=len(cut)-2\n",
    "        while j>=0:\n",
    "            if value>=cut[j]:\n",
    "                j=-1\n",
    "            else:\n",
    "                j -=1\n",
    "                m -= 1\n",
    "        res.append(score[m])\n",
    "    return res"
   ]
  },
  {
   "cell_type": "code",
   "execution_count": 20,
   "metadata": {},
   "outputs": [
    {
     "name": "stdout",
     "output_type": "stream",
     "text": [
      "第1列属性取值在各分箱段对应的分数\n",
      "[20.0, 10.0, 4.0, -2.0, -7.0, -13.0, -19.0, -21.0, -41.0, -38.0]\n"
     ]
    }
   ],
   "source": [
    "import math\n",
    "#coe为逻辑回归模型的系数\n",
    "coe=Logit_model.params\n",
    "# 我们取600分为基础分值，调整方法见参考文献《信用评分卡模型的建立》\n",
    "p = 20 / math.log(2)\n",
    "q = 600 - 20 * math.log(20) / math.log(2)\n",
    "baseScore = round(q + p * coe[0], 0)\n",
    "\n",
    "#各列分箱对应分数\n",
    "x1 = get_score(coe[1], woex1, p)\n",
    "print('第1列属性取值在各分箱段对应的分数')\n",
    "print(x1)\n",
    "#限于篇幅，其他列不逐一显示\n",
    "x2 = get_score(coe[2], woex2, p)\n",
    "x3 = get_score(coe[3], woex3, p)\n",
    "x7 = get_score(coe[4], woex7, p)\n",
    "x9 = get_score(coe[5], woex9, p)\n",
    "\n",
    "#计算分数\n",
    "test['BaseScore']=np.zeros(len(test))+baseScore\n",
    "test['x1'] = compute_score(test['RevolvingUtilizationOfUnsecuredLines'], \n",
    "                           cutx1, x1)\n",
    "test['x2'] = compute_score(test['age'], cutx2, x2)\n",
    "test['x3'] = compute_score(test['NumberOfTime30-59DaysPastDueNotWorse'], \n",
    "                           cutx3, x3)\n",
    "test['x7'] = compute_score(test['NumberOfTimes90DaysLate'], cutx7, x7)\n",
    "test['x9'] = compute_score(test['NumberOfTime60-89DaysPastDueNotWorse'], \n",
    "                           cutx9, x9)\n",
    "test['Score'] = test['x1'] + test['x2'] + test['x3'] + test['x7'] +test['x9'] \\\n",
    "+baseScore"
   ]
  },
  {
   "cell_type": "code",
   "execution_count": 21,
   "metadata": {},
   "outputs": [
    {
     "name": "stdout",
     "output_type": "stream",
     "text": [
      "测试集中正常用户组信用评分统计描述\n",
      "count    26442.000000\n",
      "mean       613.992625\n",
      "std         29.223215\n",
      "min        452.000000\n",
      "25%        599.000000\n",
      "50%        618.000000\n",
      "75%        635.000000\n",
      "max        658.000000\n",
      "Name: Score, dtype: float64\n",
      "测试集中违约用户组信用评分统计描述\n",
      "count    1812.000000\n",
      "mean      562.347682\n",
      "std        44.657634\n",
      "min       420.000000\n",
      "25%       532.000000\n",
      "50%       565.000000\n",
      "75%       596.000000\n",
      "max       657.000000\n",
      "Name: Score, dtype: float64\n"
     ]
    },
    {
     "data": {
      "image/png": "[encoded data removed]",
      "text/plain": [
       "<Figure size 720x288 with 1 Axes>"
      ]
     },
     "metadata": {
      "needs_background": "light"
     },
     "output_type": "display_data"
    }
   ],
   "source": [
    "#考察正常/违约用户的信用评分分数分布情况\n",
    "Normal = test.loc[test['SeriousDlqin2yrs']==1]\n",
    "Charged = test.loc[test['SeriousDlqin2yrs']==0]\n",
    "\n",
    "print('测试集中正常用户组信用评分统计描述')\n",
    "print(Normal['Score'].describe())\n",
    "print('测试集中违约用户组信用评分统计描述')\n",
    "print(Charged['Score'].describe())\n",
    "\n",
    "import seaborn as sns; \n",
    "plt.figure(figsize=(10,4))\n",
    "sns.kdeplot(Normal['Score'],label='正常',linewidth=2,linestyle='--')\n",
    "sns.kdeplot(Charged['Score'],label='违约',linewidth=2,linestyle='-')\n",
    "plt.xlabel('Score',fontdict={'size':10})\n",
    "plt.ylabel('概率',fontdict={'size':10})\n",
    "plt.title('测试集正常/违约客户分数分布',fontdict={'size':18})\n",
    "plt.savefig('ch19_cs07.png', dpi=300, bbox_inches='tight')\n",
    "plt.show()"
   ]
  },
  {
   "cell_type": "code",
   "execution_count": 22,
   "metadata": {},
   "outputs": [
    {
     "name": "stdout",
     "output_type": "stream",
     "text": [
      "该客户的信用评分为：\n",
      "613.0\n"
     ]
    }
   ],
   "source": [
    "#计算单个客户的信用评分\n",
    "custInfo={'RevolvingUtilizationOfUnsecuredLines':0.248537,\n",
    "               'age':48,\n",
    "               'NumberOfTime30-59DaysPastDueNotWorse':0,\n",
    "               'DebtRatio':0.177586,\n",
    "               'MonthlyIncome':4166,\n",
    "               'NumberOfOpenCreditLinesAndLoans':11,\n",
    "               'NumberOfTimes90DaysLate':0,\n",
    "               'NumberRealEstateLoansOrLines':1,\n",
    "               'NumberOfTime60-89DaysPastDueNotWorse':0,\n",
    "               'NumberOfDependents':0}\n",
    "custData = pd.DataFrame(custInfo,pd.Index(range(1)))\n",
    "custData.drop(['DebtRatio', 'MonthlyIncome', \n",
    "               'NumberOfOpenCreditLinesAndLoans','NumberRealEstateLoansOrLines', \n",
    "               'NumberOfDependents'], axis=1)\n",
    "custData['x1'] = compute_score(custData['RevolvingUtilizationOfUnsecuredLines'], \n",
    "                               cutx1, x1)\n",
    "custData['x2'] = compute_score(custData['age'], cutx2, x2)\n",
    "custData['x3'] = compute_score(custData['NumberOfTime30-59DaysPastDueNotWorse'], \n",
    "                               cutx3, x3)\n",
    "custData['x7'] = compute_score(custData['NumberOfTimes90DaysLate'], cutx7, x7)\n",
    "custData['x9'] = compute_score(custData['NumberOfTime60-89DaysPastDueNotWorse'], \n",
    "                               cutx9, x9)\n",
    "custData['Score'] = custData['x1'] + custData['x2'] + custData['x3'] + custData['x7'] +custData['x9']  + baseScore    \n",
    "print('该客户的信用评分为：')\n",
    "print(custData.loc[0,'Score'])"
   ]
  }
 ],
 "metadata": {
  "kernelspec": {
   "display_name": "Python 3",
   "language": "python",
   "name": "python3"
  },
  "language_info": {
   "codemirror_mode": {
    "name": "ipython",
    "version": 3
   },
   "file_extension": ".py",
   "mimetype": "text/x-python",
   "name": "python",
   "nbconvert_exporter": "python",
   "pygments_lexer": "ipython3",
   "version": "3.7.4"
  }
 },
 "nbformat": 4,
 "nbformat_minor": 2
}
